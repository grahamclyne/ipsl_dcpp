{
 "cells": [
  {
   "cell_type": "code",
   "execution_count": 10,
   "id": "c0065738-f5ff-489b-afbc-311fb6e564fe",
   "metadata": {
    "tags": []
   },
   "outputs": [],
   "source": [
    "import os \n",
    "from ipsl_dataset import IPSL_DCPP\n",
    "import lightning.pytorch as pl\n",
    "import torch\n",
    "import hydra\n",
    "import numpy as np\n",
    "from ipsl_dataset import surface_variables\n",
    "scratch = os.environ['SCRATCH']\n",
    "work = os.environ['WORK']\n",
    "run_name = ''\n",
    "#6 month \n",
    "checkpoint_path = f'{work}/ipsl_dcpp/ipsl_dcpp_emulation/6l0y0nym/checkpoints/epoch=4-step=14125.ckpt'\n",
    "# 2 year\n",
    "checkpoint_path = f'{work}/ipsl_dcpp/ipsl_dcpp_emulation/0qo4adab/checkpoints/24_month_epoch=04.ckpt'\n",
    "no_soil_checkpoint_5_year = f'{work}/ipsl_dcpp/ipsl_dcpp_emulation/5ilnejaj/checkpoints/24_month_epoch=07.ckpt'\n",
    "with_soil_checkpoint_5_year = f'{work}/ipsl_dcpp/ipsl_dcpp_emulation/8tea8aet/checkpoints/24_month_epoch=07.ckpt'"
   ]
  },
  {
   "cell_type": "code",
   "execution_count": 2,
   "id": "bcb76d5b-df7a-4c43-aba1-955527e78797",
   "metadata": {
    "tags": []
   },
   "outputs": [],
   "source": [
    "# from hydra import compose, initialize\n",
    "# from omegaconf import OmegaConf\n",
    "\n",
    "\n",
    "# with initialize(version_base=None, config_path=\"conf\"):\n",
    "#     cfg = compose(config_name=\"config\")\n"
   ]
  },
  {
   "cell_type": "code",
   "execution_count": 3,
   "id": "0ee3d8ae-38f3-45f9-9583-4dde232bda44",
   "metadata": {
    "tags": []
   },
   "outputs": [],
   "source": [
    "checkpoint_no_soil = torch.load(no_soil_checkpoint_5_year,map_location=torch.device('cpu'))\n",
    "checkpoint_with_soil = torch.load(with_soil_checkpoint_5_year,map_location=torch.device('cpu'))\n"
   ]
  },
  {
   "cell_type": "code",
   "execution_count": 4,
   "id": "8863c011-2b1a-41cb-87e5-b75d4257a591",
   "metadata": {
    "tags": []
   },
   "outputs": [],
   "source": [
    "test = IPSL_DCPP('test',cfg.experiment.lead_time_months)\n",
    "test_dataloader = torch.utils.data.DataLoader(test,batch_size=1,shuffle=False,num_workers=1)"
   ]
  },
  {
   "cell_type": "code",
   "execution_count": 5,
   "id": "917d65c2-b3bb-4607-a5e6-dae0eff5e586",
   "metadata": {
    "tags": []
   },
   "outputs": [
    {
     "name": "stderr",
     "output_type": "stream",
     "text": [
      "/gpfsdswork/projects/rech/mlr/udy16au/miniconda3/envs/env_gpu5/lib/python3.11/site-packages/tqdm/auto.py:21: TqdmWarning: IProgress not found. Please update jupyter and ipywidgets. See https://ipywidgets.readthedocs.io/en/stable/user_install.html\n",
      "  from .autonotebook import tqdm as notebook_tqdm\n",
      "/gpfsdswork/projects/rech/mlr/udy16au/miniconda3/envs/env_gpu5/lib/python3.11/site-packages/torch/functional.py:504: UserWarning: torch.meshgrid: in an upcoming release, it will be required to pass the indexing argument. (Triggered internally at ../aten/src/ATen/native/TensorShape.cpp:3526.)\n",
      "  return _VF.meshgrid(tensors, **kwargs)  # type: ignore[attr-defined]\n"
     ]
    },
    {
     "data": {
      "text/plain": [
       "<All keys matched successfully>"
      ]
     },
     "execution_count": 5,
     "metadata": {},
     "output_type": "execute_result"
    }
   ],
   "source": [
    "#checkpoint = torch.load(checkpoint_path,map_location=torch.device('cpu'))\n",
    "\n",
    "#no_soil_model = hydra.utils.instantiate(cfg.experiment.module,backbone=hydra.utils.instantiate(cfg.experiment.backbone),dataset=test_dataloader.dataset)\n",
    "soil_model = hydra.utils.instantiate(cfg.experiment.module,backbone=hydra.utils.instantiate(cfg.experiment.backbone),dataset=test_dataloader.dataset)\n",
    "#no_soil_model.load_state_dict(checkpoint_no_soil['state_dict'])\n",
    "soil_model.load_state_dict(checkpoint_with_soil['state_dict'])"
   ]
  },
  {
   "cell_type": "code",
   "execution_count": 6,
   "id": "06be105a-b039-4670-b8d5-bf6a09355e80",
   "metadata": {
    "tags": []
   },
   "outputs": [
    {
     "name": "stderr",
     "output_type": "stream",
     "text": [
      "GPU available: False, used: False\n",
      "TPU available: False, using: 0 TPU cores\n",
      "IPU available: False, using: 0 IPUs\n",
      "HPU available: False, using: 0 HPUs\n",
      "/gpfsdswork/projects/rech/mlr/udy16au/miniconda3/envs/env_gpu5/lib/python3.11/site-packages/lightning/pytorch/trainer/connectors/logger_connector/logger_connector.py:67: Starting from v1.9.0, `tensorboardX` has been removed as a dependency of the `lightning.pytorch` package, due to potential conflicts with other packages in the ML ecosystem. For this reason, `logger=True` will use `CSVLogger` as the default logger, unless the `tensorboard` or `tensorboardX` packages are found. Please `pip install lightning[extra]` or one of them to enable TensorBoard support by default\n",
      "Running in `fast_dev_run` mode: will run the requested loop using 1 batch(es). Logging and checkpointing is suppressed.\n",
      "SLURM auto-requeueing enabled. Setting signal handlers.\n",
      "/gpfsdswork/projects/rech/mlr/udy16au/miniconda3/envs/env_gpu5/lib/python3.11/site-packages/lightning/pytorch/trainer/connectors/data_connector.py:441: The 'predict_dataloader' does not have many workers which may be a bottleneck. Consider increasing the value of the `num_workers` argument` to `num_workers=1` in the `DataLoader` to improve performance.\n"
     ]
    },
    {
     "name": "stdout",
     "output_type": "stream",
     "text": [
      "Predicting DataLoader 0:   0%|          | 0/1 [00:00<?, ?it/s]['2019-01']\n",
      "Predicting DataLoader 0: 100%|██████████| 1/1 [00:10<00:00,  0.10it/s]\n"
     ]
    }
   ],
   "source": [
    "trainer = pl.Trainer(fast_dev_run=1)\n",
    "output = trainer.predict(soil_model, test_dataloader)\n"
   ]
  },
  {
   "cell_type": "code",
   "execution_count": 7,
   "id": "e48a3aca-fd82-4331-be78-e39b858f2af4",
   "metadata": {
    "tags": []
   },
   "outputs": [],
   "source": [
    "mean_acc_stacked = []\n",
    "pred_next_stacked = []\n",
    "batch_next_stacked = []\n",
    "for mean_acc,pred_next,batch_next,cur in output:\n",
    "    mean_acc_stacked.append(mean_acc)\n",
    "    pred_next_stacked.append(pred_next)\n",
    "    batch_next_stacked.append(batch_next)"
   ]
  },
  {
   "cell_type": "code",
   "execution_count": 24,
   "id": "eb1d634a-a033-47b4-b9b7-2d3e226141a8",
   "metadata": {
    "tags": []
   },
   "outputs": [],
   "source": [
    "var_index = surface_variables.index('tas')"
   ]
  },
  {
   "cell_type": "code",
   "execution_count": 25,
   "id": "6e289ba8-699e-4869-80f4-cb0358ed4b47",
   "metadata": {
    "tags": []
   },
   "outputs": [
    {
     "data": {
      "text/plain": [
       "276.80637"
      ]
     },
     "execution_count": 25,
     "metadata": {},
     "output_type": "execute_result"
    }
   ],
   "source": [
    "np.stack(pred_next_stacked).squeeze()[var_index]"
   ]
  },
  {
   "cell_type": "code",
   "execution_count": 26,
   "id": "8cca8ef4-caf7-4df7-8c26-3b892dc7a191",
   "metadata": {
    "tags": []
   },
   "outputs": [
    {
     "data": {
      "text/plain": [
       "277.16013"
      ]
     },
     "execution_count": 26,
     "metadata": {},
     "output_type": "execute_result"
    }
   ],
   "source": [
    "np.stack(batch_next_stacked).squeeze()[var_index]"
   ]
  },
  {
   "cell_type": "code",
   "execution_count": 27,
   "id": "48e7e20c-96b0-445d-bffc-342e990c9290",
   "metadata": {
    "tags": []
   },
   "outputs": [
    {
     "data": {
      "text/plain": [
       "0.99321955"
      ]
     },
     "execution_count": 27,
     "metadata": {},
     "output_type": "execute_result"
    }
   ],
   "source": [
    "np.stack(mean_acc_stacked).squeeze()[var_index]"
   ]
  },
  {
   "cell_type": "code",
   "execution_count": 17,
   "id": "cfc522b0-44f4-4441-a926-e5fed3e9e4c6",
   "metadata": {
    "tags": []
   },
   "outputs": [],
   "source": [
    "def get_time_series(output,var_index):\n",
    "    pred_means = []\n",
    "    batch_means = []\n",
    "    for i in range(len(output)):\n",
    "        pred = output[i][0]\n",
    "        batch = output[i][1]\n",
    "        pred_means.append(pred[:,var_index].flatten())\n",
    "        batch_means.append(batch[:,var_index].flatten())\n",
    "    pred_means = torch.concat(pred_means)\n",
    "    batch_means = torch.concat(batch_means)\n",
    "    return pred_means,batch_means"
   ]
  },
  {
   "cell_type": "code",
   "execution_count": 24,
   "id": "583117a4-cdce-4364-b5af-44dfc290f58f",
   "metadata": {},
   "outputs": [
    {
     "data": {
      "text/plain": [
       "(12, 135)"
      ]
     },
     "execution_count": 24,
     "metadata": {},
     "output_type": "execute_result"
    }
   ],
   "source": [
    "climatology.shape"
   ]
  },
  {
   "cell_type": "code",
   "execution_count": 58,
   "id": "d357271c-a676-4ade-beaa-e3b826bf21a8",
   "metadata": {
    "tags": []
   },
   "outputs": [
    {
     "data": {
      "text/plain": [
       "121"
      ]
     },
     "execution_count": 58,
     "metadata": {},
     "output_type": "execute_result"
    }
   ],
   "source": []
  },
  {
   "cell_type": "code",
   "execution_count": 29,
   "id": "152c07fb-f1f5-454f-bd35-ca035ef1265a",
   "metadata": {
    "tags": []
   },
   "outputs": [],
   "source": [
    "ps,bs = get_time_series(output,surface_variables.index(var_name))"
   ]
  },
  {
   "cell_type": "code",
   "execution_count": 31,
   "id": "1474d4a5-6f3d-473a-9895-ac6ff1224a16",
   "metadata": {
    "tags": []
   },
   "outputs": [],
   "source": [
    "gpp_climatology = climatology[:,surface_variables.index(var_name)]"
   ]
  },
  {
   "cell_type": "code",
   "execution_count": 44,
   "id": "e6a5deea-2f77-48f9-b887-2314a97176d2",
   "metadata": {
    "tags": []
   },
   "outputs": [],
   "source": [
    "def acc(predicted,modeled):\n",
    "    accuracy = np.sqrt((predicted * modeled) / (np.power(predicted,2) * np.power(modeled,2)))\n",
    "    return accuracy\n",
    "    "
   ]
  },
  {
   "cell_type": "code",
   "execution_count": null,
   "id": "c4a7195d-03d3-45bf-a353-8fe27430a9dd",
   "metadata": {},
   "outputs": [],
   "source": []
  },
  {
   "cell_type": "code",
   "execution_count": 45,
   "id": "4ae7a68e-84b8-486b-92e5-550d1b3c4eec",
   "metadata": {
    "tags": []
   },
   "outputs": [
    {
     "data": {
      "text/plain": [
       "tensor([0.6369, 0.5893, 1.0082, 1.1735, 0.8873, 1.3764, 0.9183, 0.6126, 0.5680,\n",
       "        0.5719, 0.5765, 0.6221])"
      ]
     },
     "execution_count": 45,
     "metadata": {},
     "output_type": "execute_result"
    }
   ],
   "source": [
    "acc(ps - gpp_climatology,bs - gpp_climatology)"
   ]
  },
  {
   "cell_type": "code",
   "execution_count": 33,
   "id": "c7627eff-9d44-4e81-9b08-77b7d2315365",
   "metadata": {
    "tags": []
   },
   "outputs": [
    {
     "data": {
      "image/png": "[encoded data removed]",
      "text/plain": [
       "<Figure size 640x480 with 1 Axes>"
      ]
     },
     "metadata": {},
     "output_type": "display_data"
    }
   ],
   "source": [
    "import matplotlib.pyplot as plt\n",
    "var_name = 'tas'\n",
    "\n",
    "plt.plot(ps - gpp_climatology,label='pred')\n",
    "plt.plot(bs - gpp_climatology,label='actual')\n",
    "# plt.plot(climatology[:,surface_variables.index(var_name)],label='climatology')\n",
    "plt.title(f'global mean of {var_name}')\n",
    "\n",
    "plt.legend()\n",
    "#DOCUMENT THESE RESULTS METHODICALLY \n",
    "plt.savefig(f'{work}/{var_name}_plot')"
   ]
  },
  {
   "cell_type": "code",
   "execution_count": 20,
   "id": "95c09bc0-b6bd-4423-aa2c-89dbe3334e95",
   "metadata": {
    "tags": []
   },
   "outputs": [
    {
     "data": {
      "text/plain": [
       "[tensor([277.4683, 277.0538, 277.0034, 277.9909])]"
      ]
     },
     "execution_count": 20,
     "metadata": {},
     "output_type": "execute_result"
    }
   ],
   "source": [
    "ps"
   ]
  },
  {
   "cell_type": "code",
   "execution_count": 8,
   "id": "83e64fc1-196f-4988-b424-7ba1c157f2ff",
   "metadata": {
    "tags": []
   },
   "outputs": [],
   "source": [
    "import xarray as xr\n",
    "ds = xr.open_dataset(test.files[0])\n",
    "shell = ds.isel(time=0)"
   ]
  },
  {
   "cell_type": "code",
   "execution_count": 12,
   "id": "e98ce652-f737-4ed8-9845-cd86a5c6a5cb",
   "metadata": {
    "tags": []
   },
   "outputs": [
    {
     "name": "stdout",
     "output_type": "stream",
     "text": [
      "baresoilFrac 2.8847568035125732\n",
      "c3PftFrac 3.960676908493042\n",
      "c4PftFrac 1.302024483680725\n",
      "cLeaf 0.007261114194989204\n",
      "cLitter 0.034944549202919006\n",
      "cLitterAbove 0.02850738726556301\n",
      "cLitterBelow 0.009802833199501038\n",
      "cProduct 0.0071585578843951225\n",
      "cRoot 0.047029878944158554\n",
      "cSoilFast 0.003399807494133711\n",
      "cSoilMedium 0.07211760431528091\n",
      "cSoilSlow 0.1229531541466713\n",
      "cVeg 0.2235301434993744\n",
      "cropFrac 1.5729695558547974\n",
      "mrsos 1.2372705936431885\n",
      "evspsblsoi 1.4006535593580338e-06\n",
      "evspsblveg 6.872824087622575e-07\n",
      "fHarvest 2.5749025134302883e-10\n",
      "fLitterSoil 4.0955810964860007e-10\n",
      "fVegLitter 1.2185570330558448e-09\n",
      "grassFrac 2.5335795879364014\n",
      "lai 0.11879536509513855\n",
      "mrfso 15.635823249816895\n",
      "mrro 5.002853413316188e-06\n",
      "mrros 2.883471324821585e-06\n",
      "mrso 24.136722564697266\n",
      "prveg 6.86908947500342e-07\n",
      "rGrowth 8.262315831508715e-10\n",
      "rMaint 9.802102463041251e-10\n",
      "ra 1.5816261633716522e-09\n",
      "rh 6.975258148855801e-10\n",
      "tran 1.340307335340185e-06\n",
      "treeFrac 2.6291656494140625\n",
      "treeFracPrimDec 1.7162649631500244\n",
      "treeFracPrimEver 1.9190880060195923\n",
      "ci 0.07855917513370514\n",
      "clivi 0.006374906748533249\n",
      "clt 8.6116304397583\n",
      "clwvi 0.031474996358156204\n",
      "evspsbl 5.171813882043352e-06\n",
      "hfls 12.96845531463623\n",
      "hfss 7.849431991577148\n",
      "hurs 3.2781193256378174\n",
      "huss 0.0005927934544160962\n",
      "pr 1.1823498425655998e-05\n",
      "prc 6.395236596290488e-06\n",
      "prsn 2.230410927950288e-06\n",
      "prw 1.8808221817016602\n",
      "ps 1201.0416259765625\n",
      "psl 297.831298828125\n",
      "rlds 8.728292465209961\n",
      "rldscs 7.46174430847168\n",
      "rlus 7.889223575592041\n",
      "rlut 6.218381404876709\n",
      "rlutcs 3.6644866466522217\n",
      "rsds 14.638456344604492\n",
      "rsdscs 9.346965789794922\n",
      "rsdt 9.548372268676758\n",
      "rsus 7.825298309326172\n",
      "rsuscs 8.310468673706055\n",
      "rsut 13.396114349365234\n",
      "rsutcs 7.290259838104248\n",
      "rtmt 11.252197265625\n",
      "sfcWind 0.7742742300033569\n",
      "tas 1.5917035341262817\n",
      "tasmax 1.70672607421875\n",
      "tasmin 1.59276282787323\n",
      "tauu 0.03692546859383583\n",
      "tauv 0.02848190814256668\n",
      "ts 1.690713882446289\n",
      "uas 1.2977367639541626\n",
      "vas 1.0037739276885986\n",
      "cLand 0.3221876323223114\n",
      "cLitterGrass 0.024900447577238083\n",
      "cLitterSubSurf 0.009801357984542847\n",
      "cLitterSurf 0.028532909229397774\n",
      "cLitterTree 0.02837085723876953\n",
      "cMisc 0.00793410837650299\n",
      "cOther 0.007935087196528912\n",
      "cSoil 0.18543197214603424\n",
      "cSoilGrass 0.1242188960313797\n",
      "cSoilTree 0.15652813017368317\n",
      "cStem 0.17821593582630157\n",
      "cVegGrass 0.0069581069983541965\n",
      "cVegTree 0.22634387016296387\n",
      "cWood 0.2197796255350113\n",
      "cropFracC3 1.4167200326919556\n",
      "cropFracC4 0.5143444538116455\n",
      "evspsblpot 2.537799082347192e-05\n",
      "fAnthDisturb 2.772163332220856e-10\n",
      "fDeforestToAtmos 4.3858340570412935e-11\n",
      "fDeforestToProduct 1.1882398710805209e-11\n",
      "fHarvestToAtmos 2.574093715956849e-10\n",
      "fHarvestToProduct 2.635721363386523e-10\n",
      "fLuc 4.3873633892577146e-11\n",
      "fProductDecomp 2.714199143216689e-10\n",
      "grassFracC3 2.511467695236206\n",
      "grassFracC4 1.1888262033462524\n",
      "intuadse 7519443456.0\n",
      "intuaw 38.84844970703125\n",
      "intvadse 5067335168.0\n",
      "intvaw 26.28996467590332\n",
      "mrlso 24.538137435913086\n",
      "mrtws 206.29611206054688\n",
      "prhmax 1.2879584573965985e-05\n",
      "raGrass 6.178169642545583e-10\n",
      "raTree 1.27599364407871e-09\n",
      "rhGrass 4.1396000516336073e-10\n",
      "rhLitter 3.4271292292942235e-07\n",
      "rhSoil 3.67626171282609e-07\n",
      "rhTree 5.186312490579326e-10\n",
      "rls 7.466691970825195\n",
      "rss 13.634940147399902\n",
      "sconcdust 7.49938688926477e-09\n",
      "sconcso4 1.11345058173562e-10\n",
      "sconcss 6.386335904551288e-09\n",
      "sfcWindmax 0.970586359500885\n",
      "treeFracBdlDcd 1.4865398406982422\n",
      "treeFracBdlEvg 1.4830318689346313\n",
      "treeFracNdlDcd 0.9238051772117615\n",
      "treeFracNdlEvg 1.4651453495025635\n",
      "vegFrac 4.066831111907959\n",
      "npp 1.821677253488474e-09\n",
      "nbp 1.6735022256852972e-09\n",
      "gpp 3.209422283489971e-09\n",
      "nppGrass 8.436548126766752e-10\n",
      "nppOther 6.304973765303146e-10\n",
      "nppStem 8.085912495126024e-10\n",
      "nppTree 1.1111913611472346e-09\n",
      "nep 1.6320974571826241e-09\n",
      "nppLeaf 3.9647224392425073e-10\n",
      "nppRoot 3.3622565842605923e-10\n",
      "nppWood 8.702293885498591e-10\n",
      "gppGrass 1.4220183919277929e-09\n",
      "gppTree 2.2714357061914825e-09\n"
     ]
    }
   ],
   "source": [
    "import matplotlib.pyplot as plt\n",
    "import numpy as np\n",
    "\n",
    "for var in surface_variables:\n",
    "    var_index = surface_variables.index(var)\n",
    "    mae = np.abs(batch['next_state_surface'][0][var_index,:,:] - pred['next_state_surface'][0][var_index,:,:]).mean().item()\n",
    "    print(var,mae)"
   ]
  },
  {
   "cell_type": "code",
   "execution_count": 13,
   "id": "d098eb46-e086-4fef-af89-fb746053331c",
   "metadata": {
    "tags": []
   },
   "outputs": [],
   "source": [
    "var_index = surface_variables.index('nep')"
   ]
  },
  {
   "cell_type": "code",
   "execution_count": 14,
   "id": "04f316c8-0fe3-4551-8b63-7e3f0f543288",
   "metadata": {
    "tags": []
   },
   "outputs": [],
   "source": [
    "import numpy as np"
   ]
  },
  {
   "cell_type": "code",
   "execution_count": 16,
   "id": "b8f7af9c-e4e0-4bb8-83c0-0561adf9ed73",
   "metadata": {
    "tags": []
   },
   "outputs": [
    {
     "data": {
      "text/plain": [
       "Text(0.5, 1.0, 'tas')"
      ]
     },
     "execution_count": 16,
     "metadata": {},
     "output_type": "execute_result"
    },
    {
     "data": {
      "image/png": "[encoded data removed]",
      "text/plain": [
       "<Figure size 640x480 with 2 Axes>"
      ]
     },
     "metadata": {},
     "output_type": "display_data"
    }
   ],
   "source": [
    "shell['gpp'].data = np.abs(batch['next_state_surface'][0][var_index,:,:] - pred['next_state_surface'][0][var_index,:,:])\n",
    "shell['gpp'].plot.pcolormesh()\n",
    "plt.title('tas')\n"
   ]
  },
  {
   "cell_type": "code",
   "execution_count": 17,
   "id": "4571fba4-9e3d-4772-a3be-0db6ac3ea8d9",
   "metadata": {},
   "outputs": [],
   "source": [
    "import xarray\n",
    "import os\n",
    "store_dir = os.environ['STORE']\n",
    "year =1960\n",
    "variation = 1\n",
    "\n",
    "Lmon =  xarray.open_mfdataset(f'{store_dir}/s{year}-r{variation}i1p1f1/Lmon/*.nc',compat='minimal')\n",
    "\n"
   ]
  },
  {
   "cell_type": "code",
   "execution_count": 19,
   "id": "5f2ac234-1583-4d92-9a64-3b1dc1763b8a",
   "metadata": {
    "tags": []
   },
   "outputs": [
    {
     "data": {
      "text/plain": [
       "['baresoilFrac',\n",
       " 'c3PftFrac',\n",
       " 'c4PftFrac',\n",
       " 'cLeaf',\n",
       " 'cLitter',\n",
       " 'cLitterAbove',\n",
       " 'cLitterBelow',\n",
       " 'cProduct',\n",
       " 'cRoot',\n",
       " 'cSoilFast',\n",
       " 'cSoilMedium',\n",
       " 'cSoilSlow',\n",
       " 'cVeg',\n",
       " 'cropFrac',\n",
       " 'depth_bounds',\n",
       " 'mrsos',\n",
       " 'evspsblsoi',\n",
       " 'evspsblveg',\n",
       " 'fHarvest',\n",
       " 'fLitterSoil',\n",
       " 'fVegLitter',\n",
       " 'gpp',\n",
       " 'grassFrac',\n",
       " 'lai',\n",
       " 'landCoverFrac',\n",
       " 'mrfso',\n",
       " 'mrro',\n",
       " 'mrros',\n",
       " 'mrso',\n",
       " 'nbp',\n",
       " 'npp',\n",
       " 'nppLeaf',\n",
       " 'nppRoot',\n",
       " 'nppWood',\n",
       " 'prveg',\n",
       " 'rGrowth',\n",
       " 'rMaint',\n",
       " 'ra',\n",
       " 'residualFrac',\n",
       " 'rh',\n",
       " 'tran',\n",
       " 'treeFrac',\n",
       " 'treeFracPrimDec',\n",
       " 'treeFracPrimEver',\n",
       " 'tsl']"
      ]
     },
     "execution_count": 19,
     "metadata": {},
     "output_type": "execute_result"
    }
   ],
   "source": [
    "list(Lmon.data_vars)[1:]"
   ]
  },
  {
   "cell_type": "code",
   "execution_count": 11,
   "id": "5014d82a-ea5f-4b9d-9ba5-33edcc7c299e",
   "metadata": {
    "tags": []
   },
   "outputs": [],
   "source": [
    "from ipsl_dataset import surface_variables,Amon_variables"
   ]
  },
  {
   "cell_type": "code",
   "execution_count": 13,
   "id": "33676035-949f-4668-bd05-ca622c246837",
   "metadata": {
    "tags": []
   },
   "outputs": [
    {
     "data": {
      "text/plain": [
       "['baresoilFrac',\n",
       " 'c3PftFrac',\n",
       " 'c4PftFrac',\n",
       " 'cLeaf',\n",
       " 'cLitter',\n",
       " 'cLitterAbove',\n",
       " 'cLitterBelow',\n",
       " 'cProduct',\n",
       " 'cRoot',\n",
       " 'cSoilFast',\n",
       " 'cSoilMedium',\n",
       " 'cSoilSlow',\n",
       " 'cVeg',\n",
       " 'cropFrac',\n",
       " 'mrsos',\n",
       " 'evspsblsoi',\n",
       " 'evspsblveg',\n",
       " 'fHarvest',\n",
       " 'fLitterSoil',\n",
       " 'fVegLitter',\n",
       " 'grassFrac',\n",
       " 'lai',\n",
       " 'mrfso',\n",
       " 'mrro',\n",
       " 'mrros',\n",
       " 'mrso',\n",
       " 'prveg',\n",
       " 'rGrowth',\n",
       " 'rMaint',\n",
       " 'ra',\n",
       " 'rh',\n",
       " 'tran',\n",
       " 'treeFrac',\n",
       " 'treeFracPrimDec',\n",
       " 'treeFracPrimEver',\n",
       " 'cLand',\n",
       " 'cLitterGrass',\n",
       " 'cLitterSubSurf',\n",
       " 'cLitterSurf',\n",
       " 'cLitterTree',\n",
       " 'cMisc',\n",
       " 'cOther',\n",
       " 'cSoil',\n",
       " 'cSoilGrass',\n",
       " 'cSoilTree',\n",
       " 'cStem',\n",
       " 'cVegGrass',\n",
       " 'cVegTree',\n",
       " 'cWood',\n",
       " 'cropFracC3',\n",
       " 'cropFracC4',\n",
       " 'evspsblpot',\n",
       " 'fAnthDisturb',\n",
       " 'fDeforestToAtmos',\n",
       " 'fDeforestToProduct',\n",
       " 'fHarvestToAtmos',\n",
       " 'fHarvestToProduct',\n",
       " 'fLuc',\n",
       " 'fProductDecomp',\n",
       " 'grassFracC3',\n",
       " 'grassFracC4',\n",
       " 'intuadse',\n",
       " 'intuaw',\n",
       " 'intvadse',\n",
       " 'intvaw',\n",
       " 'mrlso',\n",
       " 'mrtws',\n",
       " 'prhmax',\n",
       " 'raGrass',\n",
       " 'raTree',\n",
       " 'rhGrass',\n",
       " 'rhLitter',\n",
       " 'rhSoil',\n",
       " 'rhTree',\n",
       " 'rls',\n",
       " 'rss',\n",
       " 'sconcdust',\n",
       " 'sconcso4',\n",
       " 'sconcss',\n",
       " 'sfcWindmax',\n",
       " 'treeFracBdlDcd',\n",
       " 'treeFracBdlEvg',\n",
       " 'treeFracNdlDcd',\n",
       " 'treeFracNdlEvg',\n",
       " 'vegFrac',\n",
       " 'npp',\n",
       " 'nbp',\n",
       " 'gpp',\n",
       " 'nppGrass',\n",
       " 'nppOther',\n",
       " 'nppStem',\n",
       " 'nppTree',\n",
       " 'nep',\n",
       " 'nppLeaf',\n",
       " 'nppRoot',\n",
       " 'nppWood',\n",
       " 'gppGrass',\n",
       " 'gppTree']"
      ]
     },
     "execution_count": 13,
     "metadata": {},
     "output_type": "execute_result"
    }
   ],
   "source": [
    "[x for x in surface_variables if x not in Amon_variables]"
   ]
  }
 ],
 "metadata": {
  "kernelspec": {
   "display_name": "My Custom Kernel",
   "language": "python",
   "name": "mycustomkernel"
  },
  "language_info": {
   "codemirror_mode": {
    "name": "ipython",
    "version": 3
   },
   "file_extension": ".py",
   "mimetype": "text/x-python",
   "name": "python",
   "nbconvert_exporter": "python",
   "pygments_lexer": "ipython3",
   "version": "3.11.0"
  }
 },
 "nbformat": 4,
 "nbformat_minor": 5
}
