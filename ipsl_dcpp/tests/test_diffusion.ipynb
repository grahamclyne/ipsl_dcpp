{
 "cells": [
  {
   "cell_type": "code",
   "execution_count": 1,
   "metadata": {},
   "outputs": [
    {
     "name": "stderr",
     "output_type": "stream",
     "text": [
      "Seed set to 0\n",
      "/Users/gclyne/miniforge3/envs/env_dcpp/lib/python3.12/site-packages/torch/nn/init.py:452: UserWarning: Initializing zero-element tensors is a no-op\n",
      "  warnings.warn(\"Initializing zero-element tensors is a no-op\")\n",
      "/Users/gclyne/miniforge3/envs/env_dcpp/lib/python3.12/site-packages/torch/functional.py:507: UserWarning: torch.meshgrid: in an upcoming release, it will be required to pass the indexing argument. (Triggered internally at /Users/runner/work/_temp/anaconda/conda-bld/pytorch_1708025535429/work/aten/src/ATen/native/TensorShape.cpp:3550.)\n",
      "  return _VF.meshgrid(tensors, **kwargs)  # type: ignore[attr-defined]\n",
      "/Users/gclyne/miniforge3/envs/env_dcpp/lib/python3.12/site-packages/lightning/pytorch/trainer/connectors/accelerator_connector.py:552: You passed `Trainer(accelerator='cpu', precision='16-mixed')` but AMP with fp16 is not supported on CPU. Using `precision='bf16-mixed'` instead.\n",
      "Using bfloat16 Automatic Mixed Precision (AMP)\n",
      "GPU available: True (mps), used: False\n",
      "TPU available: False, using: 0 TPU cores\n",
      "IPU available: False, using: 0 IPUs\n",
      "HPU available: False, using: 0 HPUs\n",
      "/Users/gclyne/miniforge3/envs/env_dcpp/lib/python3.12/site-packages/lightning/pytorch/trainer/setup.py:187: GPU available but not used. You can set it by doing `Trainer(accelerator='gpu')`.\n",
      "/Users/gclyne/miniforge3/envs/env_dcpp/lib/python3.12/site-packages/lightning/pytorch/trainer/connectors/logger_connector/logger_connector.py:75: Starting from v1.9.0, `tensorboardX` has been removed as a dependency of the `lightning.pytorch` package, due to potential conflicts with other packages in the ML ecosystem. For this reason, `logger=True` will use `CSVLogger` as the default logger, unless the `tensorboard` or `tensorboardX` packages are found. Please `pip install lightning[extra]` or one of them to enable TensorBoard support by default\n",
      "Running in `fast_dev_run` mode: will run the requested loop using 1 batch(es). Logging and checkpointing is suppressed.\n",
      "\n",
      "  | Name              | Type             | Params\n",
      "-------------------------------------------------------\n",
      "0 | month_embedder    | TimestepEmbedder | 131 K \n",
      "1 | timestep_embedder | TimestepEmbedder | 131 K \n",
      "2 | backbone          | PanguWeather     | 70.8 M\n",
      "-------------------------------------------------------\n",
      "71.0 M    Trainable params\n",
      "0         Non-trainable params\n",
      "71.0 M    Total params\n",
      "284.069   Total estimated model params size (MB)\n",
      "/Users/gclyne/miniforge3/envs/env_dcpp/lib/python3.12/site-packages/lightning/pytorch/trainer/connectors/data_connector.py:436: Consider setting `persistent_workers=True` in 'train_dataloader' to speed up the dataloader worker initialization.\n"
     ]
    },
    {
     "data": {
      "application/vnd.jupyter.widget-view+json": {
       "model_id": "8f1fc32ee9cc44ca87687675326bfaa7",
       "version_major": 2,
       "version_minor": 0
      },
      "text/plain": [
       "Training: |          | 0/? [00:00<?, ?it/s]"
      ]
     },
     "metadata": {},
     "output_type": "display_data"
    },
    {
     "name": "stdout",
     "output_type": "stream",
     "text": [
      "torch.Size([1, 1, 91, 143, 144])\n",
      "torch.Size([1, 1, 91, 143, 144])\n",
      "torch.Size([1, 1, 91, 143, 144])\n",
      "torch.Size([1, 1, 182, 143, 144])\n",
      "batch torch.Size([1, 1, 182, 143, 144])\n",
      "torch.Size([1, 182, 143, 144])\n",
      "torch.Size([1, 182, 143, 144])\n"
     ]
    }
   ],
   "source": [
    "from ipsl_dcpp.model.ipsl_dataset import IPSL_DCPP\n",
    "import torch\n",
    "import lightning as pl\n",
    "from ipsl_dcpp.model.pangu import PanguWeather\n",
    "from hydra import compose, initialize\n",
    "from omegaconf import OmegaConf\n",
    "\n",
    "import hydra\n",
    "import os\n",
    "os.environ['SLURM_NTASKS_PER_NODE'] = '1'\n",
    "#torch.set_default_dtype(torch.float32)\n",
    "# os.environ[\"CUDA_VISIBLE_DEVICES\"]=\"\"\n",
    "#torch.set_default_tensor_type(torch.FloatTensor)\n",
    "\n",
    "with initialize(version_base=None, config_path=\"../conf\"):\n",
    "    cfg = compose(config_name=\"config\")\n",
    "pl.seed_everything(cfg.experiment.seed)\n",
    "train = hydra.utils.instantiate(\n",
    "    cfg.experiment.train_dataset,\n",
    "    generate_statistics=False,\n",
    "    surface_variables=cfg.experiment.surface_variables,\n",
    "    depth_variables=cfg.experiment.depth_variables,\n",
    "    plev_variables=cfg.experiment.plev_variables,\n",
    "    normalization='climatology',\n",
    "    delta=True,\n",
    "    work_path=cfg.environment.work_path,\n",
    "    scratch_path=cfg.environment.scratch_path,\n",
    ")\n",
    "\n",
    "train_dataloader = torch.utils.data.DataLoader(\n",
    "    train,\n",
    "    batch_size=1,\n",
    "    shuffle=True,\n",
    "    num_workers=1\n",
    ")\n",
    "\n",
    "#batch = next(iter(train_dataloader))\n",
    "model = hydra.utils.instantiate(\n",
    "    cfg.experiment.module,\n",
    "    backbone=hydra.utils.instantiate(\n",
    "        cfg.experiment.backbone,\n",
    "    ),\n",
    "    dataset=train_dataloader.dataset\n",
    "\n",
    ")\n",
    "trainer = pl.Trainer(\n",
    "    max_epochs=cfg.experiment.max_epochs,\n",
    "    enable_checkpointing=True,\n",
    "    log_every_n_steps=1,\n",
    "   # max_steps=cfg.experiment.max_steps if not cfg.debug else 10,\n",
    "    precision=\"16-mixed\",\n",
    "    #precision='32',\n",
    "    profiler='simple' if cfg.debug else None,\n",
    "   # devices=cfg.experiment.num_gpus,\n",
    "   # strategy='ddp_find_unused_parameters_true',\n",
    "    #limit_train_batches=0.01 if cfg.debug else 1\n",
    "    #limit_val_batches=0.01 if cfg.debug else 1,\n",
    "    num_sanity_val_steps=0,\n",
    "  #  device='cpu',\n",
    "  #accelerator='mps',\n",
    "  #CONV3D not supported by mps, have to use cpu when local \n",
    "    accelerator= 'cpu' if cfg.environment.name == 'local' else 'gpu',\n",
    "    fast_dev_run=1\n",
    ")\n",
    "trainer.fit(\n",
    "    model=model,\n",
    "    train_dataloaders=train_dataloader)\n",
    "trainer.logged_metrics"
   ]
  }
 ],
 "metadata": {
  "kernelspec": {
   "display_name": "env_dcpp",
   "language": "python",
   "name": "python3"
  },
  "language_info": {
   "codemirror_mode": {
    "name": "ipython",
    "version": 3
   },
   "file_extension": ".py",
   "mimetype": "text/x-python",
   "name": "python",
   "nbconvert_exporter": "python",
   "pygments_lexer": "ipython3",
   "version": "3.12.2"
  }
 },
 "nbformat": 4,
 "nbformat_minor": 2
}
