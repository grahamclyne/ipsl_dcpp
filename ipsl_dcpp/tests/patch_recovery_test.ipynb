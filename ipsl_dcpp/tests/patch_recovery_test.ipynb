{
 "cells": [
  {
   "cell_type": "code",
   "execution_count": 2,
   "id": "f1a90570-0413-4b97-842a-955dc75535a3",
   "metadata": {
    "tags": []
   },
   "outputs": [],
   "source": [
    "import torch.nn as nn \n",
    "from torch.nn import GELU as GeLU\n",
    "\n",
    "class Interpolate(nn.Module):\n",
    "    \"\"\"Interpolation module.\"\"\"\n",
    "\n",
    "    def __init__(self, scale_factor, mode, align_corners=False):\n",
    "        \"\"\"Init.\n",
    "\n",
    "        Args:\n",
    "            scale_factor (float): scaling\n",
    "            mode (str): interpolation mode\n",
    "        \"\"\"\n",
    "        super(Interpolate, self).__init__()\n",
    "\n",
    "        self.interp = nn.functional.interpolate\n",
    "        self.scale_factor = scale_factor\n",
    "        self.mode = mode\n",
    "        self.align_corners = align_corners\n",
    "\n",
    "    def forward(self, x):\n",
    "        \"\"\"Forward pass.\n",
    "\n",
    "        Args:\n",
    "            x (tensor): input\n",
    "\n",
    "        Returns:\n",
    "            tensor: interpolated data\n",
    "        \"\"\"\n",
    "\n",
    "        x = self.interp(\n",
    "            x,\n",
    "            scale_factor=self.scale_factor,\n",
    "            mode=self.mode,\n",
    "            align_corners=self.align_corners,\n",
    "        )\n",
    "\n",
    "        return x\n",
    "\n"
   ]
  },
  {
   "cell_type": "code",
   "execution_count": 33,
   "id": "88402886-f89b-4f5e-95a1-5a2fc5515433",
   "metadata": {
    "tags": []
   },
   "outputs": [],
   "source": [
    "class PatchRecovery3(nn.Module):\n",
    "    def __init__(self, \n",
    "        input_dim=None,\n",
    "        dim=192,\n",
    "        downfactor=4,\n",
    "        output_dim=137):\n",
    "# input dim equals input_dim*z since we will be flattening stuff ?\n",
    "        super().__init__()\n",
    "        self.downfactor = downfactor\n",
    "        if input_dim is None:\n",
    "            input_dim = 8*dim\n",
    "        self.head1 = nn.Sequential(\n",
    "            nn.Conv2d(input_dim, 8*dim, kernel_size=1, stride=1, padding=0),\n",
    "            Interpolate(scale_factor=2, mode=\"bilinear\", align_corners=True),\n",
    "            nn.Conv2d(8*dim, 4*dim, kernel_size=3, stride=1, padding=1),\n",
    "            GeLU(),\n",
    "            nn.Conv2d(4*dim, 4*dim, kernel_size=1, stride=1, padding=0))\n",
    "        self.head2 = nn.Sequential(\n",
    "            nn.GroupNorm(num_groups=32, num_channels=4*dim, eps=1e-6, affine=True),\n",
    "            Interpolate(scale_factor=2, mode=\"bilinear\", align_corners=True),\n",
    "            nn.Conv2d(4*dim, 4*dim, kernel_size=3, stride=1, padding=1),\n",
    "            GeLU())\n",
    "        self.proj = nn.Conv2d(4*dim, output_dim, kernel_size=(4,5), stride=1, padding=(1,2))\n",
    "\n",
    "    def forward(self, x):\n",
    "        #print('before',x.shape)\n",
    "        #x = x.permute(0, 2, 1)\n",
    "        #x = x.reshape((x.shape[0], x.shape[1]*Z, H, W))\n",
    "        x = x.flatten(1, 2)\n",
    "        x = self.head1(x)\n",
    "        if self.downfactor == 4:\n",
    "            x = self.head2(x)\n",
    "        x = self.proj(x) \n",
    "        output_surface = x[:, :135]\n",
    "        output = x[:, 135:287].reshape((x.shape[0], 8, 19, *x.shape[-2:]))\n",
    "        output_depth = x[:,287:].reshape((x.shape[0],3,11,*x.shape[-2:]))\n",
    "        \n",
    "        return output, output_surface,output_depth\n"
   ]
  },
  {
   "cell_type": "code",
   "execution_count": 8,
   "id": "b008918e-8d20-4784-9a7e-efaf01f695f8",
   "metadata": {
    "tags": []
   },
   "outputs": [],
   "source": [
    "import torch\n",
    "i = torch.rand(2, 192, 17, 36, 36)"
   ]
  },
  {
   "cell_type": "code",
   "execution_count": null,
   "id": "a0c52f70-0b53-4f1a-b4d3-d5e43cdc900a",
   "metadata": {
    "tags": []
   },
   "outputs": [],
   "source": []
  },
  {
   "cell_type": "code",
   "execution_count": 35,
   "id": "946a4ac4-aa6a-4959-a6e2-9526e178bdef",
   "metadata": {
    "tags": []
   },
   "outputs": [],
   "source": [
    "zdim = 17\n",
    "out_dim = 192\n",
    "patch_size = (2,4,4)\n",
    "patchrecovery = PatchRecovery3(input_dim=zdim*out_dim, output_dim=(135 * 1) + (8 * 19) + (3 * 11), downfactor=patch_size[-1])\n",
    "fin= patchrecovery(i)"
   ]
  },
  {
   "cell_type": "code",
   "execution_count": 36,
   "id": "6d35229e-b839-46a0-b4b2-3050d92248c7",
   "metadata": {
    "tags": []
   },
   "outputs": [
    {
     "data": {
      "text/plain": [
       "torch.Size([2, 8, 19, 143, 144])"
      ]
     },
     "execution_count": 36,
     "metadata": {},
     "output_type": "execute_result"
    }
   ],
   "source": [
    "fin[0].shape"
   ]
  }
 ],
 "metadata": {
  "kernelspec": {
   "display_name": "My Custom Kernel",
   "language": "python",
   "name": "mycustomkernel"
  },
  "language_info": {
   "codemirror_mode": {
    "name": "ipython",
    "version": 3
   },
   "file_extension": ".py",
   "mimetype": "text/x-python",
   "name": "python",
   "nbconvert_exporter": "python",
   "pygments_lexer": "ipython3",
   "version": "3.11.0"
  }
 },
 "nbformat": 4,
 "nbformat_minor": 5
}
