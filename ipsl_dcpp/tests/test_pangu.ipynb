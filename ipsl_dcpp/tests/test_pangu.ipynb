{
 "cells": [
  {
   "cell_type": "code",
   "execution_count": 1,
   "id": "c1b3d90a-102b-40f0-b14b-54b2b746d9c6",
   "metadata": {
    "tags": []
   },
   "outputs": [
    {
     "name": "stderr",
     "output_type": "stream",
     "text": [
      "/gpfsdswork/projects/rech/mlr/udy16au/miniconda3/envs/env_gpu5/lib/python3.11/site-packages/tqdm/auto.py:21: TqdmWarning: IProgress not found. Please update jupyter and ipywidgets. See https://ipywidgets.readthedocs.io/en/stable/user_install.html\n",
      "  from .autonotebook import tqdm as notebook_tqdm\n",
      "[rank: 0] Seed set to 0\n",
      "/gpfsdswork/projects/rech/mlr/udy16au/miniconda3/envs/env_gpu5/lib/python3.11/site-packages/torch/functional.py:504: UserWarning: torch.meshgrid: in an upcoming release, it will be required to pass the indexing argument. (Triggered internally at ../aten/src/ATen/native/TensorShape.cpp:3526.)\n",
      "  return _VF.meshgrid(tensors, **kwargs)  # type: ignore[attr-defined]\n",
      "GPU available: False, used: False\n",
      "TPU available: False, using: 0 TPU cores\n",
      "IPU available: False, using: 0 IPUs\n",
      "HPU available: False, using: 0 HPUs\n",
      "/gpfsdswork/projects/rech/mlr/udy16au/miniconda3/envs/env_gpu5/lib/python3.11/site-packages/lightning/pytorch/trainer/connectors/logger_connector/logger_connector.py:67: Starting from v1.9.0, `tensorboardX` has been removed as a dependency of the `lightning.pytorch` package, due to potential conflicts with other packages in the ML ecosystem. For this reason, `logger=True` will use `CSVLogger` as the default logger, unless the `tensorboard` or `tensorboardX` packages are found. Please `pip install lightning[extra]` or one of them to enable TensorBoard support by default\n",
      "Running in `fast_dev_run` mode: will run the requested loop using 1 batch(es). Logging and checkpointing is suppressed.\n"
     ]
    }
   ],
   "source": [
    "from ipsl_dcpp.model.ipsl_dataset import IPSL_DCPP\n",
    "import torch\n",
    "import lightning as pl\n",
    "from ipsl_dcpp.model.pangu import PanguWeather\n",
    "from hydra import compose, initialize\n",
    "from omegaconf import OmegaConf\n",
    "\n",
    "import hydra\n",
    "import os\n",
    "work_dir = os.environ['WORK']\n",
    "with initialize(version_base=None, config_path=\"../conf\"):\n",
    "    cfg = compose(config_name=\"config\")\n",
    "pl.seed_everything(cfg.experiment.seed)\n",
    "train = hydra.utils.instantiate(\n",
    "    cfg.experiment.train_dataset,\n",
    "    generate_statistics=False,\n",
    "    surface_variables=cfg.experiment.surface_variables,\n",
    "    depth_variables=cfg.experiment.depth_variables,\n",
    "    delta=False\n",
    ")\n",
    "\n",
    "train_dataloader = torch.utils.data.DataLoader(\n",
    "    train,\n",
    "    batch_size=1,\n",
    "    shuffle=True,\n",
    "    num_workers=1\n",
    ")\n",
    "\n",
    "#batch = next(iter(train_dataloader))\n",
    "model = hydra.utils.instantiate(\n",
    "    cfg.experiment.module,\n",
    "    backbone=hydra.utils.instantiate(\n",
    "        cfg.experiment.backbone,\n",
    "    ),\n",
    "    dataset=train_dataloader.dataset\n",
    ")\n",
    "trainer = pl.Trainer(\n",
    "    max_epochs=cfg.experiment.max_epochs,\n",
    "    enable_checkpointing=True,\n",
    "    log_every_n_steps=1,\n",
    "   # max_steps=cfg.experiment.max_steps if not cfg.debug else 10,\n",
    "    #precision=\"16-mixed\",\n",
    "    #precision='32',\n",
    "    profiler='simple' if cfg.debug else None,\n",
    "   # devices=cfg.experiment.num_gpus,\n",
    "   # strategy='ddp_find_unused_parameters_true',\n",
    "    #limit_train_batches=0.01 if cfg.debug else 1\n",
    "    #limit_val_batches=0.01 if cfg.debug else 1,\n",
    "    fast_dev_run=1\n",
    ")\n",
    "\n",
    "model = hydra.utils.instantiate(\n",
    "    cfg.experiment.module,\n",
    "    backbone=hydra.utils.instantiate(\n",
    "        cfg.experiment.backbone,\n",
    "    ),\n",
    "    dataset=train_dataloader.dataset\n",
    ")\n"
   ]
  },
  {
   "cell_type": "code",
   "execution_count": null,
   "id": "3013944e-eb89-43ab-a518-2f549901807e",
   "metadata": {
    "tags": []
   },
   "outputs": [
    {
     "name": "stderr",
     "output_type": "stream",
     "text": [
      "/gpfsdswork/projects/rech/mlr/udy16au/miniconda3/envs/env_gpu5/lib/python3.11/site-packages/lightning/pytorch/trainer/configuration_validator.py:74: You defined a `validation_step` but have no `val_dataloader`. Skipping val loop.\n",
      "\n",
      "  | Name     | Type         | Params\n",
      "------------------------------------------\n",
      "0 | backbone | PanguWeather | 79.4 M\n",
      "------------------------------------------\n",
      "79.4 M    Trainable params\n",
      "0         Non-trainable params\n",
      "79.4 M    Total params\n",
      "317.422   Total estimated model params size (MB)\n",
      "SLURM auto-requeueing enabled. Setting signal handlers.\n"
     ]
    },
    {
     "name": "stdout",
     "output_type": "stream",
     "text": [
      "configure optimizers\n"
     ]
    },
    {
     "name": "stderr",
     "output_type": "stream",
     "text": [
      "/gpfsdswork/projects/rech/mlr/udy16au/miniconda3/envs/env_gpu5/lib/python3.11/site-packages/lightning/pytorch/trainer/connectors/data_connector.py:441: The 'train_dataloader' does not have many workers which may be a bottleneck. Consider increasing the value of the `num_workers` argument` to `num_workers=7` in the `DataLoader` to improve performance.\n"
     ]
    },
    {
     "name": "stdout",
     "output_type": "stream",
     "text": [
      "Epoch 0:   0%|          | 0/1 [00:00<?, ?it/s] (12, 91, 143, 144)\n",
      "(12, 91, 143, 144)\n",
      "(12, 91, 143, 144)\n"
     ]
    }
   ],
   "source": [
    "trainer.fit(\n",
    "    model=model,\n",
    "    train_dataloaders=train_dataloader)\n",
    "trainer.logged_metrics"
   ]
  },
  {
   "cell_type": "code",
   "execution_count": 54,
   "id": "12b2f75a-fcc9-49e3-8967-9db213554bf7",
   "metadata": {
    "tags": []
   },
   "outputs": [],
   "source": [
    "from ipsl_dcpp.model.embedding import PatchEmbed2D,PatchEmbed3D\n",
    "import torch.nn as nn\n",
    "surface1 = batch['state_surface'].squeeze(-4)\n",
    "# print('surface',surface)\n",
    "# print('surface non nan',torch.nonzero(torch.isnan(surface.view(-1))))\n",
    "# upper_air = batch['state_level']\n",
    "depth = batch['state_depth'].squeeze(-5)\n",
    "patchembed2d = PatchEmbed2D(\n",
    "            img_size=(143, 144),\n",
    "            patch_size=(2,2),\n",
    "            in_chans=91,  \n",
    "            embed_dim=192,\n",
    "        )\n",
    "depth_patchembed3d = PatchEmbed3D(\n",
    "            img_size=(11, 143, 144),\n",
    "            patch_size=(2,2,2),\n",
    "            in_chans=3,\n",
    "            embed_dim=192\n",
    "        )\n",
    "surface = patchembed2d(surface1)\n",
    "depth = depth_patchembed3d(depth)\n",
    "\n",
    "x1 = torch.concat([surface.unsqueeze(2),depth], dim=2)\n",
    "B, C, Pl, Lat, Lon = x1.shape\n",
    "\n",
    "x = x1.reshape(B, C, -1).transpose(1, 2)\n",
    "norm1 = nn.LayerNorm(192,eps=1e-10)\n",
    "normed = norm1(x)"
   ]
  },
  {
   "cell_type": "code",
   "execution_count": 4,
   "id": "8f69702b-bdf8-48b5-a697-1143df48b76e",
   "metadata": {
    "tags": []
   },
   "outputs": [
    {
     "data": {
      "text/plain": [
       "torch.Size([1, 1, 91, 143, 144])"
      ]
     },
     "execution_count": 4,
     "metadata": {},
     "output_type": "execute_result"
    }
   ],
   "source": [
    "batch['state_surface'].shape"
   ]
  },
  {
   "cell_type": "code",
   "execution_count": null,
   "id": "005f016c-6930-40b1-ae7d-d7ef04a8945f",
   "metadata": {
    "tags": []
   },
   "outputs": [],
   "source": [
    "for i in range(91):\n",
    "    index = batch['state_surface'][0][0][i].argmax()\n",
    "    print(i,index,batch['state_surface'][0][0][i][index//143][index%144])\n",
    "    print(train.surface_variables[i])"
   ]
  },
  {
   "cell_type": "code",
   "execution_count": 102,
   "id": "800ea7a2-1d25-4610-8b3d-6ae6a659d9a9",
   "metadata": {
    "tags": []
   },
   "outputs": [
    {
     "data": {
      "text/plain": [
       "[tensor(49), tensor(50)]"
      ]
     },
     "execution_count": 102,
     "metadata": {},
     "output_type": "execute_result"
    }
   ],
   "source": [
    "[index // 143, index % 144]\n"
   ]
  },
  {
   "cell_type": "code",
   "execution_count": 117,
   "id": "fb857e88-4657-4196-af4f-52d1f11db427",
   "metadata": {
    "tags": []
   },
   "outputs": [
    {
     "data": {
      "text/plain": [
       "tensor([ 0.0000e+00,  0.0000e+00,  0.0000e+00,  0.0000e+00,  0.0000e+00,\n",
       "         0.0000e+00,  0.0000e+00,  0.0000e+00,  0.0000e+00,  0.0000e+00,\n",
       "         0.0000e+00,  0.0000e+00,  0.0000e+00,  0.0000e+00,  0.0000e+00,\n",
       "         0.0000e+00,  0.0000e+00,  0.0000e+00,  0.0000e+00,  0.0000e+00,\n",
       "         0.0000e+00,  0.0000e+00,  0.0000e+00,  0.0000e+00,  0.0000e+00,\n",
       "         0.0000e+00,  0.0000e+00,  0.0000e+00,  0.0000e+00,  0.0000e+00,\n",
       "         0.0000e+00,  0.0000e+00,  0.0000e+00,  0.0000e+00,  0.0000e+00,\n",
       "         0.0000e+00,  0.0000e+00,  0.0000e+00,  0.0000e+00,  0.0000e+00,\n",
       "         0.0000e+00,  0.0000e+00,  0.0000e+00,  0.0000e+00,  0.0000e+00,\n",
       "         0.0000e+00,  0.0000e+00,  0.0000e+00,  0.0000e+00,  0.0000e+00,\n",
       "         0.0000e+00,  0.0000e+00,  0.0000e+00,  0.0000e+00,  0.0000e+00,\n",
       "         0.0000e+00,  0.0000e+00,  0.0000e+00,  0.0000e+00,  0.0000e+00,\n",
       "         0.0000e+00,  0.0000e+00,  0.0000e+00,  0.0000e+00,  0.0000e+00,\n",
       "         0.0000e+00,  0.0000e+00,  0.0000e+00,  0.0000e+00,  0.0000e+00,\n",
       "         0.0000e+00,  0.0000e+00,  0.0000e+00,  0.0000e+00,  0.0000e+00,\n",
       "         0.0000e+00,  0.0000e+00,  0.0000e+00,  0.0000e+00,  0.0000e+00,\n",
       "         0.0000e+00,  0.0000e+00,  0.0000e+00,  0.0000e+00,  0.0000e+00,\n",
       "         0.0000e+00,  0.0000e+00,  0.0000e+00,  0.0000e+00,  0.0000e+00,\n",
       "         0.0000e+00,  0.0000e+00,  0.0000e+00,  0.0000e+00, -3.3333e-01,\n",
       "         0.0000e+00,  0.0000e+00,  0.0000e+00,  0.0000e+00,  0.0000e+00,\n",
       "        -3.3333e-01,  0.0000e+00,  0.0000e+00,  0.0000e+00,  0.0000e+00,\n",
       "         0.0000e+00,  0.0000e+00,  0.0000e+00,  0.0000e+00,  0.0000e+00,\n",
       "         0.0000e+00,  0.0000e+00,  0.0000e+00,  3.4028e+38,  0.0000e+00,\n",
       "         0.0000e+00,  0.0000e+00,  0.0000e+00,  0.0000e+00,  0.0000e+00,\n",
       "         0.0000e+00,  0.0000e+00,  0.0000e+00,  0.0000e+00,  0.0000e+00,\n",
       "         0.0000e+00,  0.0000e+00,  0.0000e+00,  0.0000e+00,  0.0000e+00,\n",
       "         0.0000e+00,  0.0000e+00,  0.0000e+00,  0.0000e+00,  0.0000e+00,\n",
       "         0.0000e+00,  0.0000e+00,  0.0000e+00,  0.0000e+00,  0.0000e+00,\n",
       "         0.0000e+00,  0.0000e+00,  0.0000e+00,  0.0000e+00])"
      ]
     },
     "execution_count": 117,
     "metadata": {},
     "output_type": "execute_result"
    }
   ],
   "source": [
    "batch['state_surface'][0][0][31][833//143]"
   ]
  },
  {
   "cell_type": "code",
   "execution_count": 93,
   "id": "313cfc6a-2357-4d32-aa86-a899746c88c4",
   "metadata": {
    "tags": []
   },
   "outputs": [
    {
     "data": {
      "text/plain": [
       "torch.Size([91, 143, 144])"
      ]
     },
     "execution_count": 93,
     "metadata": {},
     "output_type": "execute_result"
    }
   ],
   "source": [
    "batch['state_surface'][0][0]"
   ]
  },
  {
   "cell_type": "code",
   "execution_count": 74,
   "id": "0c4823bf-3db2-4234-ad01-e720ff4a42d0",
   "metadata": {
    "tags": []
   },
   "outputs": [
    {
     "data": {
      "text/plain": [
       "tensor([ -3.9560,  -3.2934,  -2.9705,  -1.8457,  -0.6251,  -0.8850,  -1.2212,\n",
       "         -5.8131,  -5.0001,  -5.9656,  -5.9326,  -4.7875,  -4.5414,  -4.5636,\n",
       "         -4.0587,  -4.2248,  -3.6446,  -3.7291,  -3.9231,  -3.4146,  -3.7299,\n",
       "         -3.7629,  -4.1396,  -3.9791,  -3.4727,  -3.5972,  -3.7932,  -3.9216,\n",
       "         -3.2879,  -3.3282,  -2.9743,  -3.0626,  -2.5901,  -3.1968,  -3.7405,\n",
       "         -5.1373,  -4.2936,  -3.0075,  -4.3055,  -3.7725,  -5.6545,  -5.6694,\n",
       "         -3.9618,  -6.7538,  -5.9902,  -4.7205,  -3.8625,  -2.8799,  -7.7351,\n",
       "         -9.8668,  -5.1511, -12.5469,  -5.7022, -16.5808, -16.9069,  -2.0287,\n",
       "         -2.1988,  -2.5188,   0.0000,   0.0000,   0.0000,   0.0000,   0.0000,\n",
       "          0.0000,   0.0000,   0.0000,   0.0000,   0.0000,   0.0000,   0.0000,\n",
       "          0.0000,   0.0000,   0.0000,   0.0000,   0.0000,   0.0000,   0.0000,\n",
       "          0.0000,   0.0000,   0.0000,   0.0000,   0.0000,   0.0000,   0.0000,\n",
       "          0.0000,   0.0000,   0.0000,   0.0000,   0.0000,   0.0000,   0.0000,\n",
       "          0.0000,   0.0000,   0.0000,  -2.6042,  -6.5151,  -3.3321,  -2.4524,\n",
       "         -0.9665,  -3.4656,  -3.9564,  -3.7714,  -3.8757,  -5.3843,  -6.2722,\n",
       "         -6.2486,  -5.2240,  -1.9852,  -4.1375,  -2.7960,  -3.4754,  -0.4080,\n",
       "         -0.6906,  -0.1082,  -0.1166,  -0.8327,  -1.2663,  -0.7745,  -1.2716,\n",
       "          0.0000,  -0.7805,  -1.3441,  -2.1016,   0.0294,   0.0000,   0.0000,\n",
       "          0.0000,   0.0000,   0.0000,   0.0000,   0.0000,   0.0000,   0.0000,\n",
       "          0.0000,   0.0000,   0.0000,   0.0000,   0.0000,   0.0000,   0.0000,\n",
       "          0.0000,   0.0000,  -3.0205,  -2.5991])"
      ]
     },
     "execution_count": 74,
     "metadata": {},
     "output_type": "execute_result"
    }
   ],
   "source": [
    "batch['state_surface'][0][0][5][109]"
   ]
  },
  {
   "cell_type": "code",
   "execution_count": 87,
   "id": "efb47178-88a1-46c1-b3d4-f68b5d203c3e",
   "metadata": {
    "tags": []
   },
   "outputs": [
    {
     "data": {
      "text/plain": [
       "tensor([[[1.0452, 1.0533, 1.0701,  ..., 1.1582, 1.2428, 1.0696]],\n",
       "\n",
       "        [[1.0390, 1.0220, 0.8872,  ..., 1.0628, 1.0266, 0.9178]],\n",
       "\n",
       "        [[1.0827, 0.0000, 1.5594,  ..., 2.1332, 2.2147, 1.7459]],\n",
       "\n",
       "        ...,\n",
       "\n",
       "        [[3.1013, 0.6784, 2.8618,  ..., 3.8106, 0.5284, 1.7984]],\n",
       "\n",
       "        [[0.0000, 0.0000, 1.2839,  ..., 3.3696, 0.1112, 0.1201]],\n",
       "\n",
       "        [[4.0489, 0.6784, 2.7865,  ..., 3.6582, 0.5860, 1.9122]]])"
      ]
     },
     "execution_count": 87,
     "metadata": {},
     "output_type": "execute_result"
    }
   ],
   "source": [
    "torch.topk(batch['state_surface'][0][0],k=1,dim=1,sorted=True).values"
   ]
  },
  {
   "cell_type": "code",
   "execution_count": 48,
   "id": "d1909ab2-37bc-4466-b0db-b2aa93df822d",
   "metadata": {
    "tags": []
   },
   "outputs": [
    {
     "data": {
      "text/plain": [
       "tensor([-1.1056e+02, -1.1022e+02, -1.0977e+02, -1.0957e+02, -1.0944e+02,\n",
       "        -1.0968e+02, -1.0991e+02, -1.1010e+02, -1.1040e+02, -1.1056e+02,\n",
       "        -1.1048e+02, -1.1048e+02, -1.1052e+02, -1.1063e+02, -1.1091e+02,\n",
       "        -1.1109e+02, -1.1120e+02, -1.1133e+02, -1.1133e+02, -1.1117e+02,\n",
       "        -1.1108e+02, -1.1103e+02, -1.1082e+02, -1.1092e+02, -1.1121e+02,\n",
       "        -1.1149e+02, -1.1178e+02, -1.1192e+02, -1.1202e+02, -1.1219e+02,\n",
       "        -1.1237e+02, -1.1255e+02, -1.1273e+02, -1.1294e+02, -1.1303e+02,\n",
       "        -1.1300e+02, -1.1294e+02, -1.1272e+02, -1.1262e+02, -1.1248e+02,\n",
       "        -1.1235e+02, -1.1244e+02, -1.1242e+02, -1.1265e+02, -1.1291e+02,\n",
       "        -1.1294e+02, -1.1264e+02, -1.1264e+02, -1.1271e+02, -1.1279e+02,\n",
       "        -1.1283e+02, -1.1269e+02, -1.1262e+02, -1.1219e+02, -1.1202e+02,\n",
       "         8.8132e+36, -1.3976e+37, -7.4173e+36, -6.3694e+36,  2.5712e+36,\n",
       "        -1.1179e+02, -1.1253e+02, -1.1227e+02,  1.9869e+36, -9.7364e+36,\n",
       "        -1.0855e+02,  8.6519e+35, -1.1450e+02, -1.1166e+02, -1.1157e+02,\n",
       "        -1.1113e+02, -1.1099e+02], grad_fn=<SliceBackward0>)"
      ]
     },
     "execution_count": 48,
     "metadata": {},
     "output_type": "execute_result"
    }
   ],
   "source": [
    "x1[0,0,0,68,:]"
   ]
  },
  {
   "cell_type": "code",
   "execution_count": 8,
   "id": "2846211f-2fcb-4c81-b383-50abefa24e74",
   "metadata": {
    "tags": []
   },
   "outputs": [
    {
     "data": {
      "text/plain": [
       "tensor(51456)"
      ]
     },
     "execution_count": 8,
     "metadata": {},
     "output_type": "execute_result"
    }
   ],
   "source": [
    "sum(torch.isnan(normed).flatten())"
   ]
  },
  {
   "cell_type": "code",
   "execution_count": 21,
   "id": "e0df27cb-3e65-4b10-9726-31e69b5d5f73",
   "metadata": {
    "tags": []
   },
   "outputs": [
    {
     "data": {
      "text/plain": [
       "tensor([-1.1735e+37,  4.1177e+36, -2.6683e+35,  1.5196e+37, -7.5233e+36,\n",
       "        -5.0266e+36, -1.7038e+37,  1.4490e+37,  7.0359e+36, -1.7061e+37,\n",
       "        -1.8209e+36, -1.7387e+37, -1.5412e+37,  7.0993e+36, -1.2876e+37,\n",
       "         1.3759e+37, -1.6373e+37, -1.8289e+36,  1.4457e+37, -7.2995e+36,\n",
       "         1.2972e+37, -6.9500e+36,  1.1064e+37,  8.5500e+36,  6.7282e+36,\n",
       "         1.5024e+36, -6.8020e+36,  5.4937e+36, -1.5995e+37, -1.5762e+37,\n",
       "        -1.5266e+37,  9.9249e+36, -1.6098e+36,  1.1959e+37,  5.2433e+36,\n",
       "         1.5290e+37, -7.2467e+36,  1.0674e+37,  4.4249e+36,  4.5540e+36,\n",
       "         2.4652e+36, -4.1767e+36,  1.3556e+37, -1.2295e+37, -1.1291e+37,\n",
       "         1.0693e+37, -1.2945e+37, -6.1337e+36, -6.3069e+36,  8.0070e+36,\n",
       "         1.2329e+36,  6.0152e+36,  9.7537e+36, -1.7626e+37,  3.4608e+36,\n",
       "         2.2333e+36,  1.6060e+37,  1.5599e+36,  1.3936e+37,  1.3858e+37,\n",
       "         9.0798e+36, -8.8403e+36, -7.8995e+36,  1.0006e+37,  1.5531e+37,\n",
       "        -9.7528e+36, -1.4275e+37,  3.8806e+36,  1.0914e+37,  1.2045e+37,\n",
       "        -1.5986e+36,  1.1711e+37,  1.2632e+37,  1.0677e+37, -3.4708e+36,\n",
       "         1.2695e+37, -5.0442e+36,  8.0872e+36, -1.1892e+36,  7.3021e+36,\n",
       "        -1.4880e+37,  7.5646e+36, -6.9609e+36, -1.1216e+37, -7.1308e+36,\n",
       "        -4.5113e+36,  7.2846e+36,  5.5754e+36,  1.3143e+37, -1.4267e+37,\n",
       "         1.1270e+37,  9.5194e+36,  5.5795e+35, -7.2292e+36,  1.0085e+36,\n",
       "         1.0937e+37,  1.1955e+37,  1.2681e+37, -4.7894e+36,  1.5757e+36,\n",
       "         9.6354e+36,  7.4378e+36,  5.3473e+36, -5.0570e+36,  1.6757e+37,\n",
       "        -9.8077e+36,  7.2345e+36,  1.0790e+37, -1.6607e+37,  1.4013e+37,\n",
       "        -1.9662e+36, -7.4500e+36,  5.1506e+36, -4.2312e+36, -8.7867e+36,\n",
       "        -7.7190e+36, -4.8503e+36, -2.5915e+36,  1.0208e+37, -1.7284e+37,\n",
       "        -1.5756e+36, -8.4582e+36, -3.1025e+35,  1.9460e+36,  4.2643e+36,\n",
       "        -1.1109e+36, -2.1215e+35,  1.5682e+37,  2.2814e+34,  8.0280e+36,\n",
       "        -1.7119e+36, -7.6438e+36,  1.2613e+37, -4.1945e+36, -1.2273e+37,\n",
       "         8.0541e+36, -8.1116e+36,  5.3030e+36,  3.4572e+36,  4.9460e+36,\n",
       "        -1.2336e+37,  3.1596e+36, -1.5875e+37,  1.1038e+35,  5.0879e+36,\n",
       "         1.5754e+37,  1.4217e+37, -1.3709e+37,  3.2605e+36,  1.4979e+37,\n",
       "         1.7757e+37, -1.3453e+37, -5.6559e+36, -3.0944e+36, -1.1568e+37,\n",
       "        -1.2905e+37,  1.1570e+37,  9.2446e+36, -3.5819e+36,  1.1211e+37,\n",
       "         9.4245e+36, -1.3268e+37, -8.3978e+36,  1.7165e+37, -1.4080e+37,\n",
       "         8.3972e+36, -4.1886e+33,  2.9364e+36, -1.7539e+37, -7.1149e+36,\n",
       "        -3.4516e+36,  1.9381e+36, -2.5313e+35, -1.5613e+37,  1.4213e+37,\n",
       "        -1.1495e+36,  1.4060e+37, -9.3702e+36, -1.4142e+37, -5.2270e+36,\n",
       "         1.5891e+37, -7.9151e+36,  9.5344e+35, -1.1440e+37, -6.7604e+36,\n",
       "        -1.3230e+37,  1.6403e+37,  8.9245e+36,  3.8227e+36, -1.3572e+37,\n",
       "        -9.6911e+36, -1.1700e+37], grad_fn=<SliceBackward0>)"
      ]
     },
     "execution_count": 21,
     "metadata": {},
     "output_type": "execute_result"
    }
   ],
   "source": [
    "x[0,519,:]"
   ]
  },
  {
   "cell_type": "code",
   "execution_count": null,
   "id": "3381aff8-8fed-48e5-a88a-fd050622fe47",
   "metadata": {},
   "outputs": [],
   "source": [
    "for i in range(36288):\n",
    "    if(sum(torch.isnan(normed)[0][i]) > 0):\n",
    "        print(i)"
   ]
  },
  {
   "cell_type": "code",
   "execution_count": null,
   "id": "74d86486-d38e-4082-a970-2877bcfce3e4",
   "metadata": {},
   "outputs": [],
   "source": [
    "import torch.nn"
   ]
  },
  {
   "cell_type": "code",
   "execution_count": 8,
   "id": "d32c5fa6-1a39-4558-9a0a-badea9220099",
   "metadata": {
    "tags": []
   },
   "outputs": [],
   "source": [
    "assert sum(torch.isnan(batch['state_depth']).flatten()) == 0"
   ]
  },
  {
   "cell_type": "code",
   "execution_count": 6,
   "id": "7ad11693-11cc-4793-9aad-b12e58b9f996",
   "metadata": {
    "tags": []
   },
   "outputs": [],
   "source": [
    "import numpy as np\n",
    "import os \n",
    "work = os.environ['WORK']\n",
    "delta_std = np.expand_dims(np.load(f'{work}/ipsl_dcpp/ipsl_dcpp/data/surface_delta_std.npy'),axis=(0))\n",
    "delta_depth = np.expand_dims(np.load(f'{work}/ipsl_dcpp/ipsl_dcpp/data/depth_delta_std.npy'),axis=(0))\n",
    "\n",
    "surface_stds = np.expand_dims(np.load(f'{work}/ipsl_dcpp/ipsl_dcpp/data/climatology_surface_stds.npy'),axis=0)\n"
   ]
  },
  {
   "cell_type": "code",
   "execution_count": 19,
   "id": "43f6ece9-e845-4d60-ab88-0717c4d602be",
   "metadata": {},
   "outputs": [],
   "source": [
    "surface_mask = (delta_std!= 0)\n"
   ]
  },
  {
   "cell_type": "code",
   "execution_count": 8,
   "id": "e37c1a5e-9d54-41d7-b038-dd981c28abe6",
   "metadata": {
    "tags": []
   },
   "outputs": [
    {
     "data": {
      "text/plain": [
       "array([1, 3])"
      ]
     },
     "execution_count": 8,
     "metadata": {},
     "output_type": "execute_result"
    }
   ],
   "source": [
    "import torch \n",
    "import numpy as np\n",
    "myTensor = np.array([1,np.nan,2,np.nan])\n",
    "np.nonzero(np.isnan(myTensor))[0]"
   ]
  },
  {
   "cell_type": "code",
   "execution_count": 5,
   "id": "01ded1ae-a683-4a97-9e59-ad6dcfac7c03",
   "metadata": {
    "tags": []
   },
   "outputs": [],
   "source": [
    "import xarray as xr\n",
    "obs = xr.open_dataset(train.files[0])\n"
   ]
  },
  {
   "cell_type": "code",
   "execution_count": 9,
   "id": "2f571a48-ec3c-413c-a198-74f39a3a4a4d",
   "metadata": {
    "tags": []
   },
   "outputs": [
    {
     "data": {
      "text/plain": [
       "<xarray.core.accessor_dt.DatetimeAccessor at 0x14ea45acffd0>"
      ]
     },
     "execution_count": 9,
     "metadata": {},
     "output_type": "execute_result"
    }
   ],
   "source": [
    "obs.isel(time=0).time.dt."
   ]
  },
  {
   "cell_type": "code",
   "execution_count": 2,
   "id": "72c2c911-965e-495f-86a9-2959b9123fbe",
   "metadata": {
    "tags": []
   },
   "outputs": [],
   "source": [
    "import numpy as np\n",
    "import os \n",
    "work = os.environ['WORK']"
   ]
  },
  {
   "cell_type": "code",
   "execution_count": 2,
   "id": "ee618f58-586d-49ca-808d-6bed317c9dca",
   "metadata": {
    "tags": []
   },
   "outputs": [],
   "source": [
    "x = np.array([1,2,3])"
   ]
  },
  {
   "cell_type": "code",
   "execution_count": 4,
   "id": "8f4fee37-64f6-49fa-b232-edb66c9a54b5",
   "metadata": {
    "tags": []
   },
   "outputs": [
    {
     "data": {
      "text/plain": [
       "array([[[1]],\n",
       "\n",
       "       [[2]],\n",
       "\n",
       "       [[3]]])"
      ]
     },
     "execution_count": 4,
     "metadata": {},
     "output_type": "execute_result"
    }
   ],
   "source": [
    "np.expand_dims(x,(-1,-2))"
   ]
  },
  {
   "cell_type": "code",
   "execution_count": 3,
   "id": "a2cde0bb-8dd1-4fdb-b0eb-070f34e661a9",
   "metadata": {
    "tags": []
   },
   "outputs": [],
   "source": [
    "stds =  np.load(f'{work}/ipsl_dcpp/ipsl_dcpp/data/climatology_surface_stds.npy')\n",
    "means = np.load(f'{work}/ipsl_dcpp/ipsl_dcpp/data/climatology_surface_means.npy')\n",
    "surface_delta = np.load('../data/surface_delta_std.npy')"
   ]
  },
  {
   "cell_type": "code",
   "execution_count": 37,
   "id": "2a370927-d9f9-4b6a-9f4f-ef0204ed3f15",
   "metadata": {
    "tags": []
   },
   "outputs": [
    {
     "data": {
      "text/plain": [
       "array([3.59935616e-03, 9.71417688e-03, 4.73997705e-02, 2.33941767e-02,\n",
       "       9.70278308e-03, 8.13741703e-03, 5.57109108e-03,            nan,\n",
       "                  nan,            nan,            nan, 3.81821766e-02,\n",
       "       1.07380524e-01, 1.02937691e-01, 2.46918220e-02, 2.77504921e-02,\n",
       "       1.49345482e-02, 3.77774946e-02, 3.17898840e-02, 5.36246896e-02,\n",
       "       6.45342395e-02, 1.03514288e-02, 1.17617399e-02, 1.21959457e-02,\n",
       "       1.14165917e-02, 1.00698452e-02, 3.75035754e-03, 8.30689631e-03,\n",
       "       2.73483712e-02, 5.31832993e-05, 6.25597822e-05, 5.71822920e-06,\n",
       "       3.08581907e-03, 1.74379535e-03, 2.98788772e-12, 2.05636316e-05,\n",
       "       3.35400109e-05, 1.78947404e-03, 1.78118411e-03, 4.29713260e-03,\n",
       "       7.53296539e-03, 4.70277593e-02, 4.26210426e-02, 7.19374046e-02,\n",
       "       8.38966444e-02, 1.19122304e-01, 8.99330601e-02, 1.13327734e-01,\n",
       "       9.52009186e-02,            nan,            nan, 1.27144650e-01,\n",
       "       1.84547052e-01,            nan, 1.69930145e-01, 1.55258432e-01,\n",
       "       1.41212761e-01,            nan,            nan,            nan,\n",
       "                  nan,            nan,            nan,            nan,\n",
       "                  nan,            nan,            nan,            nan,\n",
       "                  nan,            nan,            nan,            nan,\n",
       "                  nan,            nan,            nan,            nan,\n",
       "                  nan,            nan,            nan,            nan,\n",
       "                  nan,            nan,            nan,            nan,\n",
       "                  nan,            nan,            nan,            nan,\n",
       "                  nan,            nan,            nan,            nan,\n",
       "                  nan,            nan,            nan, 1.58785492e-01,\n",
       "       7.97194317e-02, 9.80205759e-02, 6.68917820e-02, 6.16028905e-02,\n",
       "       5.46054058e-02, 5.84002100e-02, 1.71484485e-01, 8.62287506e-02,\n",
       "       9.54675898e-02, 1.10633776e-01, 1.29201367e-01, 1.50770977e-01,\n",
       "       1.53835520e-01, 1.48797229e-01, 1.46434382e-01, 1.37015149e-01,\n",
       "       1.44302562e-01, 1.98035955e-01, 1.42630100e-01,            nan,\n",
       "                  nan,            nan,            nan,            nan,\n",
       "                  nan,            nan,            nan,            nan,\n",
       "                  nan,            nan,            nan,            nan,\n",
       "                  nan,            nan,            nan,            nan,\n",
       "                  nan,            nan,            nan,            nan,\n",
       "                  nan,            nan,            nan,            nan,\n",
       "                  nan, 3.63149047e-02, 1.50558148e-02, 1.04244929e-02],\n",
       "      dtype=float32)"
      ]
     },
     "execution_count": 37,
     "metadata": {},
     "output_type": "execute_result"
    }
   ],
   "source": []
  },
  {
   "cell_type": "code",
   "execution_count": null,
   "id": "6f1a2dbc-1373-402f-8965-b1127ad85481",
   "metadata": {},
   "outputs": [],
   "source": []
  },
  {
   "cell_type": "code",
   "execution_count": 9,
   "id": "2981da3f-b3be-44b7-b435-c232f8f70672",
   "metadata": {
    "tags": []
   },
   "outputs": [
    {
     "name": "stdout",
     "output_type": "stream",
     "text": [
      "0.3591120418043495\n",
      "0.3591120418043495\n",
      "0.3591120418043495\n",
      "0.3591120418043495\n",
      "0.3591120418043495\n",
      "0.3591120418043495\n",
      "0.3591120418043495\n",
      "0.3591120418043495\n",
      "0.3591120418043495\n",
      "0.3591120418043495\n",
      "0.3591120418043495\n",
      "0.3591120418043495\n"
     ]
    }
   ],
   "source": [
    "for i in range(12):\n",
    "    print(np.isnan(means[i]).flatten().sum() / len(means[i].flatten()))"
   ]
  },
  {
   "cell_type": "code",
   "execution_count": null,
   "id": "d59ea1ae-6ffc-4c7e-ab93-d39d36546c68",
   "metadata": {
    "tags": []
   },
   "outputs": [],
   "source": [
    "import xarray as xr\n",
    "import os\n",
    "import torch\n",
    "from ipsl_dcpp.model.ipsl_dataset import IPSL_DCPP\n",
    "import hydra\n",
    "import os\n",
    "import numpy as np\n",
    "from hydra import compose, initialize\n",
    "\n",
    "with initialize(version_base=None, config_path=\"../conf\"):\n",
    "    cfg = compose(config_name=\"config\")\n",
    "work_dir = os.environ['WORK']\n",
    "store_dir = os.environ['STORE'] \n",
    "\n",
    "#year = 1960\n",
    "#variation = 1\n",
    "#Amon =  xr.open_mfdataset(f'{store_dir}/s{year}-r{variation}i1p1f1/Amon/*.nc',compat='minimal')\n",
    "#get climatology over train period for a year period\n",
    "#train = IPSL_DCPP('train',generate_statistics=True,lead_time_months=1)\n",
    "train =  IPSL_DCPP('train',1,generate_statistics=True,\n",
    "              delta=False,\n",
    "              surface_variables=cfg.experiment.surface_variables,\n",
    "              depth_variables=cfg.experiment.depth_variables)\n",
    "surface_means_out = []\n",
    "train_dataloader = torch.utils.data.DataLoader(train,batch_size=1,shuffle=False,num_workers=1)\n",
    "   \n",
    "surface_stds_out = []\n",
    "depth_means_out = []\n",
    "depth_stds_out = []\n",
    "iter_batch = iter(train_dataloader)\n",
    "for count in range(10):\n",
    "    print(count)\n",
    "    surface_means = []\n",
    "    surface_stds = []\n",
    "    depth_means = []\n",
    "    depth_stds = []\n",
    "    for _ in range(24):\n",
    "        batch = next(iter_batch) \n",
    "        surface_means.append(batch['state_surface'].squeeze())\n",
    "        surface_stds.append(batch['state_surface'].squeeze())\n",
    "        depth_means.append(batch['state_depth'].squeeze())\n",
    "        depth_stds.append(batch['state_depth'].squeeze())\n",
    "        \n",
    "\n",
    "    surface_means_out.append(np.nanmean(np.stack(surface_means).reshape(-1,12,91,143,144),axis=0))\n",
    "    surface_stds_out.append(np.nanstd(np.stack(surface_stds).reshape(-1,12,91,143,144),axis=0))\n",
    "    depth_means_out.append(np.nanmean(np.stack(depth_means).reshape(-1,12,3,11,143,144),axis=0))\n",
    "    depth_stds_out.append(np.nanstd(np.stack(depth_stds).reshape(-1,12,3,11,143,144),axis=0))\n",
    "    break\n"
   ]
  },
  {
   "cell_type": "code",
   "execution_count": null,
   "id": "78c4ff81-dd38-4a13-b747-cfb4e79c29af",
   "metadata": {
    "tags": []
   },
   "outputs": [],
   "source": [
    "np.nanmean(np.stack(surface_means,dtype=np.float16).reshape(-1,12,91,143,144),axis=0)"
   ]
  },
  {
   "cell_type": "code",
   "execution_count": 52,
   "id": "19c7897a-1d74-49bf-a495-adc79cf132e4",
   "metadata": {
    "tags": []
   },
   "outputs": [
    {
     "name": "stderr",
     "output_type": "stream",
     "text": [
      "/tmp/ipykernel_387448/761602154.py:1: RuntimeWarning: Mean of empty slice\n",
      "  means = np.nanmean(np.stack(surface_means).reshape(-1,12,91,143,144)[:,:,:,:,:],axis=0)\n"
     ]
    }
   ],
   "source": [
    "means = np.nanmean(np.stack(surface_means).reshape(-1,12,91,143,144)[:,:,:,:,:],axis=0)"
   ]
  },
  {
   "cell_type": "code",
   "execution_count": 57,
   "id": "6abf59a6-45da-46e3-9858-6211bcc56f9c",
   "metadata": {
    "tags": []
   },
   "outputs": [
    {
     "data": {
      "text/plain": [
       "319300300.0"
      ]
     },
     "execution_count": 57,
     "metadata": {},
     "output_type": "execute_result"
    }
   ],
   "source": [
    "np.nanmean(means[0,:])"
   ]
  },
  {
   "cell_type": "code",
   "execution_count": null,
   "id": "cca58bfa-9182-4285-b21d-af7fa59a79f4",
   "metadata": {
    "tags": []
   },
   "outputs": [],
   "source": [
    "np.nanmean(np.stack(surface_means).reshape(-1,12,91,143,144),axis=0,dtype=np.float32)"
   ]
  },
  {
   "cell_type": "code",
   "execution_count": 3,
   "id": "4c97fcb0-0f0b-473a-a9cc-b74a38672a14",
   "metadata": {
    "tags": []
   },
   "outputs": [
    {
     "data": {
      "text/plain": [
       "tensor([1., 2., 3.], dtype=torch.float16)"
      ]
     },
     "execution_count": 3,
     "metadata": {},
     "output_type": "execute_result"
    }
   ],
   "source": [
    "import torch\n",
    "torch.Tensor([1,2,3]).half()"
   ]
  },
  {
   "cell_type": "code",
   "execution_count": null,
   "id": "6c8c4bba-f730-4551-9fed-cb17753e1f42",
   "metadata": {
    "tags": []
   },
   "outputs": [],
   "source": [
    "train.files"
   ]
  },
  {
   "cell_type": "code",
   "execution_count": 2,
   "id": "f17ba310-a9b0-4e17-bf0d-18ac8f018346",
   "metadata": {
    "tags": []
   },
   "outputs": [],
   "source": [
    "obs = xr.open_dataset(train.files[10])\n"
   ]
  },
  {
   "cell_type": "code",
   "execution_count": 3,
   "id": "60f3a004-0ccf-4897-8347-0897caeae039",
   "metadata": {
    "tags": []
   },
   "outputs": [
    {
     "data": {
      "text/plain": [
       "['c3PftFrac', 'c4PftFrac', 'cLeaf', 'cLitter', 'cProduct', 'cRoot', 'cVeg', 'mrsos', 'evspsblsoi', 'evspsblveg', 'fLitterSoil', 'fVegLitter', 'lai', 'mrfso', 'mrro', 'mrros', 'mrso', 'prveg', 'rGrowth', 'rMaint', 'ra', 'rh', 'tran', 'ci', 'clwvi', 'evspsbl', 'hfls', 'hfss', 'hurs', 'huss', 'pr', 'prc', 'prsn', 'prw', 'ps', 'psl', 'rlds', 'rldscs', 'rlus', 'rlut', 'rlutcs', 'rsds', 'rsdscs', 'rsdt', 'rsus', 'rsuscs', 'rsut', 'rsutcs', 'rtmt', 'sfcWind', 'tas', 'tasmax', 'tasmin', 'tauu', 'tauv', 'ts', 'uas', 'vas', 'cLand', 'cMisc', 'cOther', 'cSoil', 'cStem', 'cVegGrass', 'cVegTree', 'cWood', 'evspsblpot', 'fProductDecomp', 'intuadse', 'intuaw', 'intvadse', 'intvaw', 'mrlso', 'mrtws', 'prhmax', 'raGrass', 'raTree', 'rhGrass', 'rhLitter', 'rhSoil', 'rhTree', 'rls', 'rss', 'sconcdust', 'sconcso4', 'sconcss', 'sfcWindmax', 'npp', 'nbp', 'gpp', 'nep']"
      ]
     },
     "execution_count": 3,
     "metadata": {},
     "output_type": "execute_result"
    }
   ],
   "source": [
    "train.surface_variables"
   ]
  },
  {
   "cell_type": "code",
   "execution_count": 6,
   "id": "de763d36-7294-4193-9fb7-8ac7d64520a4",
   "metadata": {
    "tags": []
   },
   "outputs": [],
   "source": [
    "arr = obs[list(train.surface_variables)].isel(time=0).to_array()"
   ]
  },
  {
   "cell_type": "code",
   "execution_count": 12,
   "id": "24d54ab0-a176-478e-9d2d-60fa1ce5deb1",
   "metadata": {
    "tags": []
   },
   "outputs": [
    {
     "data": {
      "text/plain": [
       "0.3591120418043495"
      ]
     },
     "execution_count": 12,
     "metadata": {},
     "output_type": "execute_result"
    }
   ],
   "source": [
    "np.isnan(arr.to_numpy()).flatten().sum() / len(arr.to_numpy().flatten())"
   ]
  },
  {
   "cell_type": "code",
   "execution_count": 13,
   "id": "22df3af1-41e2-4638-950c-6483307b6a2f",
   "metadata": {
    "tags": []
   },
   "outputs": [],
   "source": [
    "arr = arr.to_numpy()"
   ]
  },
  {
   "cell_type": "code",
   "execution_count": 66,
   "id": "091adc9e-2f0d-42e3-a6b0-7d48b9bd7070",
   "metadata": {
    "tags": []
   },
   "outputs": [
    {
     "data": {
      "text/plain": [
       "tensor([[0., 0., 0.,  ..., 0., 0., 0.],\n",
       "        [0., 0., 0.,  ..., 0., 0., 0.],\n",
       "        [0., 0., 0.,  ..., 0., 0., 0.],\n",
       "        ...,\n",
       "        [0., 0., 0.,  ..., 0., 0., 0.],\n",
       "        [0., 0., 0.,  ..., 0., 0., 0.],\n",
       "        [0., 0., 0.,  ..., 0., 0., 0.]])"
      ]
     },
     "execution_count": 66,
     "metadata": {},
     "output_type": "execute_result"
    }
   ],
   "source": [
    "batch['state_surface']"
   ]
  },
  {
   "cell_type": "code",
   "execution_count": 76,
   "id": "c2058536-ff1f-4551-9589-d079a287c170",
   "metadata": {
    "tags": []
   },
   "outputs": [
    {
     "data": {
      "text/plain": [
       "tensor(-0.2738)"
      ]
     },
     "execution_count": 76,
     "metadata": {},
     "output_type": "execute_result"
    }
   ],
   "source": [
    "batch['state_surface'].squeeze()[-2,:,:]"
   ]
  },
  {
   "cell_type": "code",
   "execution_count": 2,
   "id": "4244de76-1c3c-45ff-81d5-40a8ea40d083",
   "metadata": {
    "tags": []
   },
   "outputs": [],
   "source": [
    "import numpy as np\n",
    "old_depth_means = np.load('../data/climatology_surface_means.npy')"
   ]
  },
  {
   "cell_type": "code",
   "execution_count": 22,
   "id": "014583b3-f313-414b-98a0-aef051ba3cb3",
   "metadata": {
    "tags": []
   },
   "outputs": [
    {
     "data": {
      "image/png": "[encoded data removed]",
      "text/plain": [
       "<Figure size 640x480 with 1 Axes>"
      ]
     },
     "metadata": {},
     "output_type": "display_data"
    }
   ],
   "source": [
    "import matplotlib.pyplot as plt\n",
    "import numpy as np\n",
    "import scipy.stats as stats\n",
    "import math\n",
    "\n",
    "mu = 0\n",
    "variance = 4\n",
    "sigma = math.sqrt(variance)\n",
    "x = np.linspace(mu - 3*sigma, mu + 3*sigma, 100)\n",
    "plt.plot(x, stats.norm.pdf(x, mu, sigma))\n",
    "plt.show()"
   ]
  },
  {
   "cell_type": "code",
   "execution_count": 24,
   "id": "9672b070-14a2-4e54-aa99-979cac8be8c8",
   "metadata": {
    "tags": []
   },
   "outputs": [],
   "source": [
    "atmos_forcings = np.load('../data/atmos_forcings.npy')"
   ]
  },
  {
   "cell_type": "code",
   "execution_count": 28,
   "id": "ee118099-def7-41e9-ace2-ceb8481c42c2",
   "metadata": {
    "tags": []
   },
   "outputs": [],
   "source": [
    "forcings_means = atmos_forcings.mean(axis=1)\n",
    "forcings_stds = atmos_forcings.std(axis=1)\n"
   ]
  }
 ],
 "metadata": {
  "kernelspec": {
   "display_name": "My Custom Kernel",
   "language": "python",
   "name": "mycustomkernel"
  },
  "language_info": {
   "codemirror_mode": {
    "name": "ipython",
    "version": 3
   },
   "file_extension": ".py",
   "mimetype": "text/x-python",
   "name": "python",
   "nbconvert_exporter": "python",
   "pygments_lexer": "ipython3",
   "version": "3.11.0"
  }
 },
 "nbformat": 4,
 "nbformat_minor": 5
}
