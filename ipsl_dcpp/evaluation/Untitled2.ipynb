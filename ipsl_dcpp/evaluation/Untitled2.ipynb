{
 "cells": [
  {
   "cell_type": "code",
   "execution_count": 2,
   "id": "3f47cc81-95d6-4aeb-a2c5-2449480f4879",
   "metadata": {
    "tags": []
   },
   "outputs": [],
   "source": [
    "#RMSE and ACC table\n",
    "import os \n",
    "from ipsl_dcpp.model.ipsl_dataset import IPSL_DCPP\n",
    "import lightning.pytorch as pl\n",
    "import torch\n",
    "import hydra\n",
    "import numpy as np\n",
    "from hydra import compose, initialize\n",
    "from omegaconf import OmegaConf\n",
    "with initialize(version_base=None, config_path=\"../conf\"):\n",
    "    cfg = compose(config_name=\"config\")\n"
   ]
  },
  {
   "cell_type": "code",
   "execution_count": 3,
   "id": "d82faf51-832f-43e8-bfa4-f95ab6d2416d",
   "metadata": {
    "tags": []
   },
   "outputs": [
    {
     "name": "stderr",
     "output_type": "stream",
     "text": [
      "/gpfsdswork/projects/rech/mlr/udy16au/miniconda3/envs/env_gpu5/lib/python3.11/site-packages/tqdm/auto.py:21: TqdmWarning: IProgress not found. Please update jupyter and ipywidgets. See https://ipywidgets.readthedocs.io/en/stable/user_install.html\n",
      "  from .autonotebook import tqdm as notebook_tqdm\n",
      "/gpfsdswork/projects/rech/mlr/udy16au/miniconda3/envs/env_gpu5/lib/python3.11/site-packages/torch/functional.py:504: UserWarning: torch.meshgrid: in an upcoming release, it will be required to pass the indexing argument. (Triggered internally at ../aten/src/ATen/native/TensorShape.cpp:3526.)\n",
      "  return _VF.meshgrid(tensors, **kwargs)  # type: ignore[attr-defined]\n"
     ]
    },
    {
     "ename": "RuntimeError",
     "evalue": "Error(s) in loading state_dict for ForecastModule:\n\tMissing key(s) in state_dict: \"backbone.patchrecovery2d.conv.weight\", \"backbone.patchrecovery2d.conv.bias\", \"backbone.depth_patchrecovery3d.conv.weight\", \"backbone.depth_patchrecovery3d.conv.bias\". \n\tUnexpected key(s) in state_dict: \"backbone.patchrecovery.head1.0.weight\", \"backbone.patchrecovery.head1.0.bias\", \"backbone.patchrecovery.head1.2.weight\", \"backbone.patchrecovery.head1.2.bias\", \"backbone.patchrecovery.head1.4.weight\", \"backbone.patchrecovery.head1.4.bias\", \"backbone.patchrecovery.proj.weight\", \"backbone.patchrecovery.proj.bias\". ",
     "output_type": "error",
     "traceback": [
      "\u001b[0;31m---------------------------------------------------------------------------\u001b[0m",
      "\u001b[0;31mRuntimeError\u001b[0m                              Traceback (most recent call last)",
      "Cell \u001b[0;32mIn[3], line 38\u001b[0m\n\u001b[1;32m     29\u001b[0m train_dataloader \u001b[38;5;241m=\u001b[39m torch\u001b[38;5;241m.\u001b[39mutils\u001b[38;5;241m.\u001b[39mdata\u001b[38;5;241m.\u001b[39mDataLoader(train,batch_size\u001b[38;5;241m=\u001b[39m\u001b[38;5;241m1\u001b[39m,shuffle\u001b[38;5;241m=\u001b[39m\u001b[38;5;28;01mFalse\u001b[39;00m,num_workers\u001b[38;5;241m=\u001b[39m\u001b[38;5;241m1\u001b[39m)\n\u001b[1;32m     31\u001b[0m model \u001b[38;5;241m=\u001b[39m hydra\u001b[38;5;241m.\u001b[39mutils\u001b[38;5;241m.\u001b[39minstantiate(\n\u001b[1;32m     32\u001b[0m     cfg\u001b[38;5;241m.\u001b[39mexperiment\u001b[38;5;241m.\u001b[39mmodule,\n\u001b[1;32m     33\u001b[0m     backbone\u001b[38;5;241m=\u001b[39mhydra\u001b[38;5;241m.\u001b[39mutils\u001b[38;5;241m.\u001b[39minstantiate(\n\u001b[0;32m   (...)\u001b[0m\n\u001b[1;32m     36\u001b[0m     dataset\u001b[38;5;241m=\u001b[39mtest_dataloader\u001b[38;5;241m.\u001b[39mdataset\n\u001b[1;32m     37\u001b[0m )\n\u001b[0;32m---> 38\u001b[0m \u001b[43mmodel\u001b[49m\u001b[38;5;241;43m.\u001b[39;49m\u001b[43mload_state_dict\u001b[49m\u001b[43m(\u001b[49m\u001b[43mcheckpoint\u001b[49m\u001b[43m[\u001b[49m\u001b[38;5;124;43m'\u001b[39;49m\u001b[38;5;124;43mstate_dict\u001b[39;49m\u001b[38;5;124;43m'\u001b[39;49m\u001b[43m]\u001b[49m\u001b[43m)\u001b[49m\n",
      "File \u001b[0;32m/gpfsdswork/projects/rech/mlr/udy16au/miniconda3/envs/env_gpu5/lib/python3.11/site-packages/torch/nn/modules/module.py:2152\u001b[0m, in \u001b[0;36mModule.load_state_dict\u001b[0;34m(self, state_dict, strict, assign)\u001b[0m\n\u001b[1;32m   2147\u001b[0m         error_msgs\u001b[38;5;241m.\u001b[39minsert(\n\u001b[1;32m   2148\u001b[0m             \u001b[38;5;241m0\u001b[39m, \u001b[38;5;124m'\u001b[39m\u001b[38;5;124mMissing key(s) in state_dict: \u001b[39m\u001b[38;5;132;01m{}\u001b[39;00m\u001b[38;5;124m. \u001b[39m\u001b[38;5;124m'\u001b[39m\u001b[38;5;241m.\u001b[39mformat(\n\u001b[1;32m   2149\u001b[0m                 \u001b[38;5;124m'\u001b[39m\u001b[38;5;124m, \u001b[39m\u001b[38;5;124m'\u001b[39m\u001b[38;5;241m.\u001b[39mjoin(\u001b[38;5;124mf\u001b[39m\u001b[38;5;124m'\u001b[39m\u001b[38;5;124m\"\u001b[39m\u001b[38;5;132;01m{\u001b[39;00mk\u001b[38;5;132;01m}\u001b[39;00m\u001b[38;5;124m\"\u001b[39m\u001b[38;5;124m'\u001b[39m \u001b[38;5;28;01mfor\u001b[39;00m k \u001b[38;5;129;01min\u001b[39;00m missing_keys)))\n\u001b[1;32m   2151\u001b[0m \u001b[38;5;28;01mif\u001b[39;00m \u001b[38;5;28mlen\u001b[39m(error_msgs) \u001b[38;5;241m>\u001b[39m \u001b[38;5;241m0\u001b[39m:\n\u001b[0;32m-> 2152\u001b[0m     \u001b[38;5;28;01mraise\u001b[39;00m \u001b[38;5;167;01mRuntimeError\u001b[39;00m(\u001b[38;5;124m'\u001b[39m\u001b[38;5;124mError(s) in loading state_dict for \u001b[39m\u001b[38;5;132;01m{}\u001b[39;00m\u001b[38;5;124m:\u001b[39m\u001b[38;5;130;01m\\n\u001b[39;00m\u001b[38;5;130;01m\\t\u001b[39;00m\u001b[38;5;132;01m{}\u001b[39;00m\u001b[38;5;124m'\u001b[39m\u001b[38;5;241m.\u001b[39mformat(\n\u001b[1;32m   2153\u001b[0m                        \u001b[38;5;28mself\u001b[39m\u001b[38;5;241m.\u001b[39m\u001b[38;5;18m__class__\u001b[39m\u001b[38;5;241m.\u001b[39m\u001b[38;5;18m__name__\u001b[39m, \u001b[38;5;124m\"\u001b[39m\u001b[38;5;130;01m\\n\u001b[39;00m\u001b[38;5;130;01m\\t\u001b[39;00m\u001b[38;5;124m\"\u001b[39m\u001b[38;5;241m.\u001b[39mjoin(error_msgs)))\n\u001b[1;32m   2154\u001b[0m \u001b[38;5;28;01mreturn\u001b[39;00m _IncompatibleKeys(missing_keys, unexpected_keys)\n",
      "\u001b[0;31mRuntimeError\u001b[0m: Error(s) in loading state_dict for ForecastModule:\n\tMissing key(s) in state_dict: \"backbone.patchrecovery2d.conv.weight\", \"backbone.patchrecovery2d.conv.bias\", \"backbone.depth_patchrecovery3d.conv.weight\", \"backbone.depth_patchrecovery3d.conv.bias\". \n\tUnexpected key(s) in state_dict: \"backbone.patchrecovery.head1.0.weight\", \"backbone.patchrecovery.head1.0.bias\", \"backbone.patchrecovery.head1.2.weight\", \"backbone.patchrecovery.head1.2.bias\", \"backbone.patchrecovery.head1.4.weight\", \"backbone.patchrecovery.head1.4.bias\", \"backbone.patchrecovery.proj.weight\", \"backbone.patchrecovery.proj.bias\". "
     ]
    }
   ],
   "source": [
    "import subprocess\n",
    "import os \n",
    "os.environ['SLURM_NTASKS_PER_NODE'] = '1'\n",
    "scratch = os.environ['SCRATCH']\n",
    "run_id = '9cbb1f05'\n",
    "out = subprocess.run(f'ls -tr {scratch}/checkpoint_{run_id}/ | tail -n 1',shell=True,capture_output=True,text=True)\n",
    "path = out.stdout.strip(\"\\n\")\n",
    "checkpoint_path = f'{scratch}/checkpoint_{run_id}/{path}'\n",
    "checkpoint = torch.load(checkpoint_path,map_location=torch.device('cpu'))\n",
    "test = IPSL_DCPP(\n",
    "    'test',\n",
    "    lead_time_months=1,\n",
    "    surface_variables=cfg.experiment.surface_variables,\n",
    "    depth_variables=cfg.experiment.depth_variables,\n",
    "    delta=True,\n",
    "    generate_statistics=False,\n",
    "    normalization='normal'\n",
    ")\n",
    "train = IPSL_DCPP(\n",
    "    'train',\n",
    "    lead_time_months=1,\n",
    "    surface_variables=cfg.experiment.surface_variables,\n",
    "    depth_variables=cfg.experiment.depth_variables,\n",
    "    delta=True,\n",
    "    generate_statistics=False,\n",
    "    normalization='norma;'\n",
    ")\n",
    "test_dataloader = torch.utils.data.DataLoader(test,batch_size=1,shuffle=False,num_workers=1)\n",
    "train_dataloader = torch.utils.data.DataLoader(train,batch_size=1,shuffle=False,num_workers=1)\n",
    "\n",
    "model = hydra.utils.instantiate(\n",
    "    cfg.experiment.module,\n",
    "    backbone=hydra.utils.instantiate(\n",
    "        cfg.experiment.backbone\n",
    "        ,conv_head=True\n",
    "    ),\n",
    "    dataset=test_dataloader.dataset\n",
    ")\n",
    "model.load_state_dict(checkpoint['state_dict'])\n",
    "\n"
   ]
  },
  {
   "cell_type": "code",
   "execution_count": 24,
   "id": "731d9636-6091-45a0-9d75-00ac02f97065",
   "metadata": {
    "tags": []
   },
   "outputs": [
    {
     "name": "stderr",
     "output_type": "stream",
     "text": [
      "GPU available: False, used: False\n",
      "TPU available: False, using: 0 TPU cores\n",
      "IPU available: False, using: 0 IPUs\n",
      "HPU available: False, using: 0 HPUs\n",
      "Running in `fast_dev_run` mode: will run the requested loop using 12 batch(es). Logging and checkpointing is suppressed.\n",
      "SLURM auto-requeueing enabled. Setting signal handlers.\n"
     ]
    },
    {
     "name": "stdout",
     "output_type": "stream",
     "text": [
      "Predicting DataLoader 0: 100%|██████████| 12/12 [01:01<00:00,  0.20it/s]\n"
     ]
    }
   ],
   "source": [
    "trainer = pl.Trainer(fast_dev_run=12)\n",
    "output = trainer.predict(model, test_dataloader)"
   ]
  },
  {
   "cell_type": "code",
   "execution_count": 35,
   "id": "44046684-3764-47b8-ad7f-23ca1ab2e3b3",
   "metadata": {
    "tags": []
   },
   "outputs": [],
   "source": [
    "def acc(x, y, coeffs, dims=(-2, -1)):\n",
    "   norm = (x*x).mul(coeffs).mean(dims)**.5\n",
    "   mean_acc = (x*y).mul(coeffs).mean(dims) / norm / (y*y).mul(coeffs).mean(dims)**.5\n",
    "   return mean_acc\n",
    "\n"
   ]
  },
  {
   "cell_type": "code",
   "execution_count": 32,
   "id": "87414235-0874-44aa-80e8-66a189880ca2",
   "metadata": {
    "tags": []
   },
   "outputs": [
    {
     "data": {
      "text/plain": [
       "dict_keys(['latent', 'next_state_surface', 'next_state_depth'])"
      ]
     },
     "execution_count": 32,
     "metadata": {},
     "output_type": "execute_result"
    }
   ],
   "source": [
    "output[i][0].keys()"
   ]
  },
  {
   "cell_type": "code",
   "execution_count": 38,
   "id": "e8005c62-d51f-46ca-b66f-b0e9911793b7",
   "metadata": {
    "tags": []
   },
   "outputs": [],
   "source": [
    "accs = []\n",
    "lat_coeffs_equi = torch.tensor([torch.cos(x) for x in torch.arange(-torch.pi/2, torch.pi/2, torch.pi/143)])\n",
    "lat_coeffs_equi =  (lat_coeffs_equi/lat_coeffs_equi.mean())[None, None, None, :, None]\n",
    "\n",
    "for i in range(12):\n",
    "    preds = output[i][0]['next_state_surface']*test.surface_delta_stds + output[i][1]['state_surface']\n",
    "    batch = output[i][1]['next_state_surface']*test.surface_delta_stds + output[i][1]['state_surface']\n",
    "    mean_acc = acc(preds,batch,lat_coeffs_equi)\n",
    "    accs.append(mean_acc)\n",
    "\n"
   ]
  },
  {
   "cell_type": "code",
   "execution_count": 6,
   "id": "d84a0296-85e8-4537-a14a-55faa290036b",
   "metadata": {
    "tags": []
   },
   "outputs": [
    {
     "data": {
      "text/plain": [
       "6"
      ]
     },
     "execution_count": 6,
     "metadata": {},
     "output_type": "execute_result"
    }
   ],
   "source": [
    "test.surface_variables.index('cVeg')"
   ]
  },
  {
   "cell_type": "code",
   "execution_count": 41,
   "id": "c655a343-0b79-4b5c-bc10-ffeeb24e7307",
   "metadata": {
    "tags": []
   },
   "outputs": [],
   "source": [
    "mean_accs = np.array(accs).squeeze().mean(axis=0)"
   ]
  },
  {
   "cell_type": "code",
   "execution_count": 42,
   "id": "d5d8c18f-4d54-45f0-84c9-d51c2bba26d9",
   "metadata": {
    "tags": []
   },
   "outputs": [
    {
     "data": {
      "text/plain": [
       "(0.7163535, 0.41102865, 0.3087246, 0.9696212)"
      ]
     },
     "execution_count": 42,
     "metadata": {},
     "output_type": "execute_result"
    }
   ],
   "source": [
    "mean_accs[test.surface_variables.index('gpp')],mean_accs[test.surface_variables.index('tas')],mean_accs[test.surface_variables.index('evspsblsoi')],mean_accs[test.surface_variables.index('cVeg')]\n",
    "\n"
   ]
  },
  {
   "cell_type": "code",
   "execution_count": 9,
   "id": "3492ff92-fd69-460f-993a-f9fad3b5e520",
   "metadata": {
    "tags": []
   },
   "outputs": [
    {
     "name": "stdout",
     "output_type": "stream",
     "text": [
      "0\n",
      "1\n",
      "2\n",
      "3\n",
      "4\n",
      "5\n",
      "6\n",
      "7\n",
      "8\n",
      "9\n",
      "10\n"
     ]
    }
   ],
   "source": [
    "preds = []\n",
    "actuals = []\n",
    "for i in range(0,11):\n",
    "    print(i)\n",
    "    denormed_preds,denormed_batch = test.denormalize(output[i][0],output[i][1])\n",
    "    preds.append(np.nanmean(denormed_preds['next_state_surface'].squeeze()[89]))\n",
    "    actuals.append(np.nanmean(denormed_batch['next_state_surface'].squeeze()[89]))"
   ]
  },
  {
   "cell_type": "code",
   "execution_count": 10,
   "id": "346f1713-a74e-4b20-abe6-f1f2bf620ff7",
   "metadata": {
    "tags": []
   },
   "outputs": [
    {
     "data": {
      "text/plain": [
       "<matplotlib.legend.Legend at 0x154a50dbf290>"
      ]
     },
     "execution_count": 10,
     "metadata": {},
     "output_type": "execute_result"
    },
    {
     "data": {
      "image/png": "[encoded data removed]",
      "text/plain": [
       "<Figure size 640x480 with 1 Axes>"
      ]
     },
     "metadata": {},
     "output_type": "display_data"
    }
   ],
   "source": [
    "import matplotlib.pyplot as plt\n",
    "plt.plot(actuals,label='actual')\n",
    "plt.plot(preds,label='preds')\n",
    "plt.legend()"
   ]
  },
  {
   "cell_type": "code",
   "execution_count": 42,
   "id": "23db1d73-1a50-461f-9237-122a70fcaaa4",
   "metadata": {
    "tags": []
   },
   "outputs": [
    {
     "data": {
      "text/plain": [
       "torch.Size([1, 1, 91, 143, 144])"
      ]
     },
     "execution_count": 42,
     "metadata": {},
     "output_type": "execute_result"
    }
   ],
   "source": [
    "output[i][1]['next_state_surface'].squeeze()"
   ]
  },
  {
   "cell_type": "code",
   "execution_count": null,
   "id": "3fa8c3f8-a1d8-445c-90e1-17a87de7fe71",
   "metadata": {
    "tags": []
   },
   "outputs": [],
   "source": [
    "output[0][0]['next_state_surface']"
   ]
  },
  {
   "cell_type": "code",
   "execution_count": 21,
   "id": "6bfef9ba-4a78-4a8f-91f7-d2dd9b89786e",
   "metadata": {
    "tags": []
   },
   "outputs": [],
   "source": [
    "mse_surface = (output[0][0]['next_state_surface'] - output[0][1]['next_state_surface']).abs().pow(2)\n",
    "\n",
    "lat_coeffs_equi = torch.tensor([torch.cos(x) for x in torch.arange(-torch.pi/2, torch.pi/2, torch.pi/143)])\n",
    "lat_coeffs_equi =  (lat_coeffs_equi/lat_coeffs_equi.mean())[None, None, None, :, None]\n",
    "#if mse_surface.shape[-2] == 128:\n",
    "#    mse_surface = mse_surface[..., 4:-4, 8:-8]\n",
    "mse_surface = mse_surface.mul(lat_coeffs_equi)"
   ]
  },
  {
   "cell_type": "code",
   "execution_count": 30,
   "id": "c6783445-3b65-4ba3-833c-14e849b664dd",
   "metadata": {
    "tags": []
   },
   "outputs": [],
   "source": [
    "means = mse_surface.squeeze().mean((1,2))"
   ]
  },
  {
   "cell_type": "code",
   "execution_count": 3,
   "id": "76ff8882-7cd3-49f7-952b-4eea6e23a5f5",
   "metadata": {
    "tags": []
   },
   "outputs": [
    {
     "data": {
      "text/plain": [
       "(91,)"
      ]
     },
     "execution_count": 3,
     "metadata": {},
     "output_type": "execute_result"
    }
   ],
   "source": [
    "import numpy as np\n",
    "np.load('../data/surface_means.npy').shape"
   ]
  },
  {
   "cell_type": "code",
   "execution_count": 33,
   "id": "595f5123-7e16-492b-9f01-52ecec5c6647",
   "metadata": {},
   "outputs": [
    {
     "name": "stdout",
     "output_type": "stream",
     "text": [
      "baresoilFrac 0.96 15.4 15.35 21.56\n",
      "c3PftFrac 0.97 59.14 59.03 22.88\n",
      "c4PftFrac 0.98 7.25 7.14 3.58\n",
      "cLeaf 0.98 0.08 0.08 0.0\n",
      "cLitter 0.98 0.72 0.73 0.0\n",
      "cLitterAbove 0.98 0.54 0.55 0.0\n",
      "cLitterBelow 0.97 0.18 0.18 0.0\n",
      "cProduct 0.91 0.02 0.02 0.0\n",
      "cRoot 0.99 0.5 0.51 0.01\n",
      "cSoilFast 0.98 0.06 0.06 0.0\n",
      "cSoilMedium 0.99 1.53 1.53 0.01\n",
      "cSoilSlow 0.98 2.22 2.19 0.03\n",
      "cVeg 0.99 2.27 2.28 0.13\n",
      "cropFrac 0.95 8.38 8.33 7.29\n",
      "mrsos 0.91 19.9 19.92 3.68\n",
      "evspsblsoi 0.8 0.0 0.0 0.0\n",
      "evspsblveg 0.94 0.0 0.0 0.0\n",
      "fHarvest 0.91 0.0 0.0 0.0\n",
      "fLitterSoil 0.97 0.0 0.0 0.0\n",
      "fVegLitter 0.94 0.0 0.0 0.0\n",
      "grassFrac 0.96 27.18 27.16 12.31\n",
      "lai 0.98 1.26 1.27 0.04\n",
      "mrfso 0.9 57.27 57.45 725.8\n",
      "mrro 0.84 0.0 0.0 0.0\n",
      "mrros 0.79 0.0 0.0 0.0\n",
      "mrso 0.93 486.1 487.61 1283.79\n",
      "prveg 0.94 0.0 0.0 0.0\n",
      "rGrowth 0.97 -0.0 -0.0 0.0\n",
      "rMaint 0.99 -0.0 -0.0 0.0\n",
      "ra 0.99 0.0 0.0 0.0\n",
      "rh 0.98 0.0 0.0 0.0\n",
      "tran 0.94 0.0 0.0 0.0\n",
      "treeFrac 0.97 30.85 30.69 12.15\n",
      "treeFracPrimDec 0.96 14.15 14.19 5.62\n",
      "treeFracPrimEver 0.98 16.7 16.5 7.05\n",
      "ci 0.95 0.63 0.62 0.01\n",
      "clivi 0.87 0.02 0.02 0.0\n",
      "clt 0.92 68.56 68.43 108.62\n",
      "clwvi 0.82 0.08 0.08 0.0\n",
      "evspsbl 0.95 0.0 0.0 0.0\n",
      "hfls 0.95 64.95 63.76 424.52\n",
      "hfss 0.9 12.96 13.27 122.18\n",
      "hurs 0.96 83.85 83.95 17.13\n",
      "huss 0.99 0.01 0.01 0.0\n",
      "pr 0.86 0.0 0.0 0.0\n",
      "prc 0.93 0.0 0.0 0.0\n",
      "prsn 0.85 0.0 0.0 0.0\n",
      "prw 0.99 17.63 17.86 6.85\n",
      "ps 0.98 96527.88 96492.07 1892312.0\n",
      "psl 0.9 101140.83 100971.72 172714.88\n",
      "rlds 0.99 295.28 297.47 129.59\n",
      "rldscs 1.0 263.48 265.88 83.88\n",
      "rlus 1.0 345.21 347.22 84.74\n",
      "rlut 0.97 220.14 221.11 75.7\n",
      "rlutcs 0.99 241.42 242.26 21.64\n",
      "rsds 0.98 164.41 164.75 356.52\n",
      "rsdscs 1.0 218.74 220.09 52.77\n",
      "rsdt 1.0 298.09 300.4 80.87\n",
      "rsus 0.98 34.56 34.28 53.84\n",
      "rsuscs 0.98 42.5 41.93 69.16\n",
      "rsut 0.94 104.7 106.07 232.44\n",
      "rsutcs 0.98 62.23 62.33 53.08\n",
      "rtmt 0.99 -26.72 -26.78 147.1\n",
      "sfcWind 0.94 5.99 5.95 0.82\n",
      "tas 0.99 275.66 276.45 4.81\n",
      "tasmax 0.99 277.84 278.65 5.06\n",
      "tasmin 0.99 273.43 274.19 5.4\n",
      "tauu 0.87 0.01 0.01 0.0\n",
      "tauv 0.82 -0.0 -0.0 0.0\n",
      "ts 0.99 276.37 277.15 5.12\n",
      "uas 0.92 -0.14 -0.04 2.55\n",
      "vas 0.85 -0.11 -0.03 1.47\n",
      "cLand 0.99 6.09 6.07 0.22\n",
      "cLitterGrass 0.97 0.26 0.26 0.0\n",
      "cLitterSubSurf 0.97 0.18 0.18 0.0\n",
      "cLitterSurf 0.98 0.54 0.55 0.0\n",
      "cLitterTree 0.98 0.36 0.36 0.0\n",
      "cMisc 0.95 0.07 0.08 0.0\n",
      "cOther 0.95 0.07 0.08 0.0\n",
      "cSoil 0.99 3.81 3.79 0.06\n",
      "cSoilGrass 0.98 1.33 1.33 0.04\n",
      "cSoilTree 0.98 2.03 2.01 0.06\n",
      "cStem 0.99 1.62 1.63 0.09\n",
      "cVegGrass 0.96 0.05 0.05 0.0\n",
      "cVegTree 0.99 2.19 2.2 0.13\n",
      "cWood 0.99 2.07 2.08 0.13\n",
      "cropFracC3 0.95 6.83 6.8 5.42\n",
      "cropFracC4 0.93 1.55 1.53 1.13\n",
      "evspsblpot 0.92 0.0 0.0 0.0\n",
      "fAnthDisturb 0.93 -0.0 -0.0 0.0\n",
      "fDeforestToAtmos 0.89 0.0 0.0 0.0\n",
      "fDeforestToProduct 0.83 0.0 0.0 0.0\n",
      "fHarvestToAtmos 0.91 0.0 0.0 0.0\n",
      "fHarvestToProduct 0.91 -0.0 -0.0 0.0\n",
      "fLuc 0.89 0.0 0.0 0.0\n",
      "fProductDecomp 0.93 0.0 0.0 0.0\n",
      "grassFracC3 0.95 21.47 21.54 11.51\n",
      "grassFracC4 0.97 5.7 5.62 3.15\n",
      "intuadse 0.94 20409765888.0 21674938368.0 1.091655045449494e+20\n",
      "intuaw 0.93 9.41 12.77 3722.78\n",
      "intvadse 0.7 17322122.0 155652960.0 4.278359392764769e+19\n",
      "intvaw 0.81 -6.13 -5.19 1177.41\n",
      "mrlso 0.93 428.83 430.16 1133.33\n",
      "mrtws 0.91 890.15 887.28 94989.23\n",
      "prhmax 0.86 0.0 0.0 0.0\n",
      "raGrass 0.96 0.0 0.0 0.0\n",
      "raTree 0.98 0.0 0.0 0.0\n",
      "rhGrass 0.96 0.0 0.0 0.0\n",
      "rhLitter 0.96 -0.0 -0.0 0.0\n",
      "rhSoil 0.98 -0.0 -0.0 0.0\n",
      "rhTree 0.98 0.0 0.0 0.0\n",
      "rls 0.94 -49.91 -49.76 68.01\n",
      "rss 0.98 129.83 130.47 312.33\n",
      "sconcdust 0.94 0.0 0.0 0.0\n",
      "sconcso4 0.92 0.0 0.0 0.0\n",
      "sconcss 0.97 0.0 0.0 0.0\n",
      "sfcWindmax 0.94 8.11 8.06 1.17\n",
      "treeFracBdlDcd 0.94 10.72 10.68 4.97\n",
      "treeFracBdlEvg 0.98 8.53 8.4 4.53\n",
      "treeFracNdlDcd 0.95 3.42 3.51 2.44\n",
      "treeFracNdlEvg 0.95 8.17 8.1 4.42\n",
      "vegFrac 0.97 66.4 66.18 23.76\n",
      "npp 0.97 0.0 0.0 0.0\n",
      "nbp 0.83 -0.0 -0.0 0.0\n",
      "gpp 0.98 0.0 0.0 0.0\n",
      "nppGrass 0.94 0.0 0.0 0.0\n",
      "nppOther 0.92 0.0 0.0 0.0\n",
      "nppStem 0.96 0.0 0.0 0.0\n",
      "nppTree 0.95 0.0 0.0 0.0\n",
      "nep 0.86 0.0 0.0 0.0\n",
      "nppLeaf 0.95 0.0 0.0 0.0\n",
      "nppRoot 0.96 0.0 0.0 0.0\n",
      "nppWood 0.96 0.0 0.0 0.0\n",
      "gppGrass 0.95 0.0 0.0 0.0\n",
      "gppTree 0.98 0.0 0.0 0.0\n"
     ]
    }
   ],
   "source": [
    "for var_index in range(len(surface_variables)):\n",
    "    var_name = surface_variables[var_index]\n",
    "    acc = np.round(output[0][0].squeeze()[var_index].item(),2)\n",
    "    pred_mean_value = np.round(output[0][1].squeeze()[var_index].item(),2)\n",
    "    batch_mean_value = np.round(output[0][2].squeeze()[var_index].item(),2)\n",
    "    mse = np.sqrt(np.round(means[var_index].item(),2))\n",
    "    print(var_name,acc,pred_mean_value,batch_mean_value,mse)"
   ]
  }
 ],
 "metadata": {
  "kernelspec": {
   "display_name": "My Custom Kernel",
   "language": "python",
   "name": "mycustomkernel"
  },
  "language_info": {
   "codemirror_mode": {
    "name": "ipython",
    "version": 3
   },
   "file_extension": ".py",
   "mimetype": "text/x-python",
   "name": "python",
   "nbconvert_exporter": "python",
   "pygments_lexer": "ipython3",
   "version": "3.11.0"
  }
 },
 "nbformat": 4,
 "nbformat_minor": 5
}
