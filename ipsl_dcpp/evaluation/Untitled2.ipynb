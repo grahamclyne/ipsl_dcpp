{
 "cells": [
  {
   "cell_type": "code",
   "execution_count": 1,
   "id": "3f47cc81-95d6-4aeb-a2c5-2449480f4879",
   "metadata": {
    "tags": []
   },
   "outputs": [],
   "source": [
    "#RMSE and ACC table\n",
    "import os \n",
    "from ipsl_dcpp.model.ipsl_dataset import IPSL_DCPP\n",
    "import lightning.pytorch as pl\n",
    "import torch\n",
    "import hydra\n",
    "import numpy as np\n",
    "from hydra import compose, initialize\n",
    "from omegaconf import OmegaConf\n",
    "with initialize(version_base=None, config_path=\"../conf\"):\n",
    "    cfg = compose(config_name=\"config\")\n"
   ]
  },
  {
   "cell_type": "code",
   "execution_count": 2,
   "id": "929f9213-0ab0-41e7-a355-7aef33baddf8",
   "metadata": {
    "tags": []
   },
   "outputs": [],
   "source": [
    "import pandas as pd\n",
    "#amon_df = pd.DataFrame(pd.read_excel(\"CMIP6_MIP_tables.xlsx\",sheet_name='Amon')) \n",
    "#emon_df = pd.DataFrame(pd.read_excel(\"CMIP6_MIP_tables.xlsx\",sheet_name='Emon')) \n",
    "#lmon_df = pd.DataFrame(pd.read_excel(\"CMIP6_MIP_tables.xlsx\",sheet_name='Lmon')) \n"
   ]
  },
  {
   "cell_type": "code",
   "execution_count": 3,
   "id": "d82faf51-832f-43e8-bfa4-f95ab6d2416d",
   "metadata": {
    "tags": []
   },
   "outputs": [
    {
     "name": "stderr",
     "output_type": "stream",
     "text": [
      "/gpfsdswork/projects/rech/mlr/udy16au/miniconda3/envs/env_gpu5/lib/python3.11/site-packages/tqdm/auto.py:21: TqdmWarning: IProgress not found. Please update jupyter and ipywidgets. See https://ipywidgets.readthedocs.io/en/stable/user_install.html\n",
      "  from .autonotebook import tqdm as notebook_tqdm\n",
      "/gpfsdswork/projects/rech/mlr/udy16au/miniconda3/envs/env_gpu5/lib/python3.11/site-packages/torch/functional.py:504: UserWarning: torch.meshgrid: in an upcoming release, it will be required to pass the indexing argument. (Triggered internally at ../aten/src/ATen/native/TensorShape.cpp:3526.)\n",
      "  return _VF.meshgrid(tensors, **kwargs)  # type: ignore[attr-defined]\n"
     ]
    },
    {
     "data": {
      "text/plain": [
       "<All keys matched successfully>"
      ]
     },
     "execution_count": 3,
     "metadata": {},
     "output_type": "execute_result"
    }
   ],
   "source": [
    "import subprocess\n",
    "import os \n",
    "scratch = os.environ['SCRATCH']\n",
    "run_id = cfg.run_id\n",
    "out = subprocess.run(f'ls -tr {scratch}/checkpoint_{run_id}/ | tail -n 1',shell=True,capture_output=True,text=True)\n",
    "path = out.stdout.strip(\"\\n\")\n",
    "checkpoint_path = f'{scratch}/checkpoint_{run_id}/{path}'\n",
    "checkpoint = torch.load(checkpoint_path,map_location=torch.device('cpu'))\n",
    "test = IPSL_DCPP('test',lead_time_months=1,surface_variables=cfg.experiment.surface_variables,depth_variables=cfg.experiment.depth_variables)\n",
    "test_dataloader = torch.utils.data.DataLoader(test,batch_size=1,shuffle=False,num_workers=1)\n",
    "model = hydra.utils.instantiate(cfg.experiment.module,backbone=hydra.utils.instantiate(cfg.experiment.backbone),dataset=test_dataloader.dataset)\n",
    "model.load_state_dict(checkpoint['state_dict'])\n",
    "\n"
   ]
  },
  {
   "cell_type": "code",
   "execution_count": 4,
   "id": "731d9636-6091-45a0-9d75-00ac02f97065",
   "metadata": {
    "tags": []
   },
   "outputs": [
    {
     "name": "stderr",
     "output_type": "stream",
     "text": [
      "GPU available: False, used: False\n",
      "TPU available: False, using: 0 TPU cores\n",
      "IPU available: False, using: 0 IPUs\n",
      "HPU available: False, using: 0 HPUs\n",
      "/gpfsdswork/projects/rech/mlr/udy16au/miniconda3/envs/env_gpu5/lib/python3.11/site-packages/lightning/pytorch/trainer/connectors/logger_connector/logger_connector.py:67: Starting from v1.9.0, `tensorboardX` has been removed as a dependency of the `lightning.pytorch` package, due to potential conflicts with other packages in the ML ecosystem. For this reason, `logger=True` will use `CSVLogger` as the default logger, unless the `tensorboard` or `tensorboardX` packages are found. Please `pip install lightning[extra]` or one of them to enable TensorBoard support by default\n",
      "Running in `fast_dev_run` mode: will run the requested loop using 12 batch(es). Logging and checkpointing is suppressed.\n",
      "SLURM auto-requeueing enabled. Setting signal handlers.\n",
      "/gpfsdswork/projects/rech/mlr/udy16au/miniconda3/envs/env_gpu5/lib/python3.11/site-packages/lightning/pytorch/trainer/connectors/data_connector.py:441: The 'predict_dataloader' does not have many workers which may be a bottleneck. Consider increasing the value of the `num_workers` argument` to `num_workers=7` in the `DataLoader` to improve performance.\n"
     ]
    },
    {
     "name": "stdout",
     "output_type": "stream",
     "text": [
      "Predicting DataLoader 0:   0%|          | 0/12 [00:00<?, ?it/s]"
     ]
    },
    {
     "ename": "RuntimeError",
     "evalue": "The expanded size of the tensor (91) must match the existing size (135) at non-singleton dimension 3.  Target sizes: [143, 144, 1, 91].  Tensor sizes: [1, 135]",
     "output_type": "error",
     "traceback": [
      "\u001b[0;31m---------------------------------------------------------------------------\u001b[0m",
      "\u001b[0;31mRuntimeError\u001b[0m                              Traceback (most recent call last)",
      "Cell \u001b[0;32mIn[4], line 2\u001b[0m\n\u001b[1;32m      1\u001b[0m trainer \u001b[38;5;241m=\u001b[39m pl\u001b[38;5;241m.\u001b[39mTrainer(fast_dev_run\u001b[38;5;241m=\u001b[39m\u001b[38;5;241m12\u001b[39m)\n\u001b[0;32m----> 2\u001b[0m output \u001b[38;5;241m=\u001b[39m \u001b[43mtrainer\u001b[49m\u001b[38;5;241;43m.\u001b[39;49m\u001b[43mpredict\u001b[49m\u001b[43m(\u001b[49m\u001b[43mmodel\u001b[49m\u001b[43m,\u001b[49m\u001b[43m \u001b[49m\u001b[43mtest_dataloader\u001b[49m\u001b[43m)\u001b[49m\n",
      "File \u001b[0;32m/gpfsdswork/projects/rech/mlr/udy16au/miniconda3/envs/env_gpu5/lib/python3.11/site-packages/lightning/pytorch/trainer/trainer.py:864\u001b[0m, in \u001b[0;36mTrainer.predict\u001b[0;34m(self, model, dataloaders, datamodule, return_predictions, ckpt_path)\u001b[0m\n\u001b[1;32m    862\u001b[0m \u001b[38;5;28mself\u001b[39m\u001b[38;5;241m.\u001b[39mstate\u001b[38;5;241m.\u001b[39mstatus \u001b[38;5;241m=\u001b[39m TrainerStatus\u001b[38;5;241m.\u001b[39mRUNNING\n\u001b[1;32m    863\u001b[0m \u001b[38;5;28mself\u001b[39m\u001b[38;5;241m.\u001b[39mpredicting \u001b[38;5;241m=\u001b[39m \u001b[38;5;28;01mTrue\u001b[39;00m\n\u001b[0;32m--> 864\u001b[0m \u001b[38;5;28;01mreturn\u001b[39;00m \u001b[43mcall\u001b[49m\u001b[38;5;241;43m.\u001b[39;49m\u001b[43m_call_and_handle_interrupt\u001b[49m\u001b[43m(\u001b[49m\n\u001b[1;32m    865\u001b[0m \u001b[43m    \u001b[49m\u001b[38;5;28;43mself\u001b[39;49m\u001b[43m,\u001b[49m\u001b[43m \u001b[49m\u001b[38;5;28;43mself\u001b[39;49m\u001b[38;5;241;43m.\u001b[39;49m\u001b[43m_predict_impl\u001b[49m\u001b[43m,\u001b[49m\u001b[43m \u001b[49m\u001b[43mmodel\u001b[49m\u001b[43m,\u001b[49m\u001b[43m \u001b[49m\u001b[43mdataloaders\u001b[49m\u001b[43m,\u001b[49m\u001b[43m \u001b[49m\u001b[43mdatamodule\u001b[49m\u001b[43m,\u001b[49m\u001b[43m \u001b[49m\u001b[43mreturn_predictions\u001b[49m\u001b[43m,\u001b[49m\u001b[43m \u001b[49m\u001b[43mckpt_path\u001b[49m\n\u001b[1;32m    866\u001b[0m \u001b[43m\u001b[49m\u001b[43m)\u001b[49m\n",
      "File \u001b[0;32m/gpfsdswork/projects/rech/mlr/udy16au/miniconda3/envs/env_gpu5/lib/python3.11/site-packages/lightning/pytorch/trainer/call.py:44\u001b[0m, in \u001b[0;36m_call_and_handle_interrupt\u001b[0;34m(trainer, trainer_fn, *args, **kwargs)\u001b[0m\n\u001b[1;32m     42\u001b[0m     \u001b[38;5;28;01mif\u001b[39;00m trainer\u001b[38;5;241m.\u001b[39mstrategy\u001b[38;5;241m.\u001b[39mlauncher \u001b[38;5;129;01mis\u001b[39;00m \u001b[38;5;129;01mnot\u001b[39;00m \u001b[38;5;28;01mNone\u001b[39;00m:\n\u001b[1;32m     43\u001b[0m         \u001b[38;5;28;01mreturn\u001b[39;00m trainer\u001b[38;5;241m.\u001b[39mstrategy\u001b[38;5;241m.\u001b[39mlauncher\u001b[38;5;241m.\u001b[39mlaunch(trainer_fn, \u001b[38;5;241m*\u001b[39margs, trainer\u001b[38;5;241m=\u001b[39mtrainer, \u001b[38;5;241m*\u001b[39m\u001b[38;5;241m*\u001b[39mkwargs)\n\u001b[0;32m---> 44\u001b[0m     \u001b[38;5;28;01mreturn\u001b[39;00m \u001b[43mtrainer_fn\u001b[49m\u001b[43m(\u001b[49m\u001b[38;5;241;43m*\u001b[39;49m\u001b[43margs\u001b[49m\u001b[43m,\u001b[49m\u001b[43m \u001b[49m\u001b[38;5;241;43m*\u001b[39;49m\u001b[38;5;241;43m*\u001b[39;49m\u001b[43mkwargs\u001b[49m\u001b[43m)\u001b[49m\n\u001b[1;32m     46\u001b[0m \u001b[38;5;28;01mexcept\u001b[39;00m _TunerExitException:\n\u001b[1;32m     47\u001b[0m     _call_teardown_hook(trainer)\n",
      "File \u001b[0;32m/gpfsdswork/projects/rech/mlr/udy16au/miniconda3/envs/env_gpu5/lib/python3.11/site-packages/lightning/pytorch/trainer/trainer.py:903\u001b[0m, in \u001b[0;36mTrainer._predict_impl\u001b[0;34m(self, model, dataloaders, datamodule, return_predictions, ckpt_path)\u001b[0m\n\u001b[1;32m    899\u001b[0m \u001b[38;5;28;01massert\u001b[39;00m \u001b[38;5;28mself\u001b[39m\u001b[38;5;241m.\u001b[39mstate\u001b[38;5;241m.\u001b[39mfn \u001b[38;5;129;01mis\u001b[39;00m \u001b[38;5;129;01mnot\u001b[39;00m \u001b[38;5;28;01mNone\u001b[39;00m\n\u001b[1;32m    900\u001b[0m ckpt_path \u001b[38;5;241m=\u001b[39m \u001b[38;5;28mself\u001b[39m\u001b[38;5;241m.\u001b[39m_checkpoint_connector\u001b[38;5;241m.\u001b[39m_select_ckpt_path(\n\u001b[1;32m    901\u001b[0m     \u001b[38;5;28mself\u001b[39m\u001b[38;5;241m.\u001b[39mstate\u001b[38;5;241m.\u001b[39mfn, ckpt_path, model_provided\u001b[38;5;241m=\u001b[39mmodel_provided, model_connected\u001b[38;5;241m=\u001b[39m\u001b[38;5;28mself\u001b[39m\u001b[38;5;241m.\u001b[39mlightning_module \u001b[38;5;129;01mis\u001b[39;00m \u001b[38;5;129;01mnot\u001b[39;00m \u001b[38;5;28;01mNone\u001b[39;00m\n\u001b[1;32m    902\u001b[0m )\n\u001b[0;32m--> 903\u001b[0m results \u001b[38;5;241m=\u001b[39m \u001b[38;5;28;43mself\u001b[39;49m\u001b[38;5;241;43m.\u001b[39;49m\u001b[43m_run\u001b[49m\u001b[43m(\u001b[49m\u001b[43mmodel\u001b[49m\u001b[43m,\u001b[49m\u001b[43m \u001b[49m\u001b[43mckpt_path\u001b[49m\u001b[38;5;241;43m=\u001b[39;49m\u001b[43mckpt_path\u001b[49m\u001b[43m)\u001b[49m\n\u001b[1;32m    905\u001b[0m \u001b[38;5;28;01massert\u001b[39;00m \u001b[38;5;28mself\u001b[39m\u001b[38;5;241m.\u001b[39mstate\u001b[38;5;241m.\u001b[39mstopped\n\u001b[1;32m    906\u001b[0m \u001b[38;5;28mself\u001b[39m\u001b[38;5;241m.\u001b[39mpredicting \u001b[38;5;241m=\u001b[39m \u001b[38;5;28;01mFalse\u001b[39;00m\n",
      "File \u001b[0;32m/gpfsdswork/projects/rech/mlr/udy16au/miniconda3/envs/env_gpu5/lib/python3.11/site-packages/lightning/pytorch/trainer/trainer.py:989\u001b[0m, in \u001b[0;36mTrainer._run\u001b[0;34m(self, model, ckpt_path)\u001b[0m\n\u001b[1;32m    984\u001b[0m \u001b[38;5;28mself\u001b[39m\u001b[38;5;241m.\u001b[39m_signal_connector\u001b[38;5;241m.\u001b[39mregister_signal_handlers()\n\u001b[1;32m    986\u001b[0m \u001b[38;5;66;03m# ----------------------------\u001b[39;00m\n\u001b[1;32m    987\u001b[0m \u001b[38;5;66;03m# RUN THE TRAINER\u001b[39;00m\n\u001b[1;32m    988\u001b[0m \u001b[38;5;66;03m# ----------------------------\u001b[39;00m\n\u001b[0;32m--> 989\u001b[0m results \u001b[38;5;241m=\u001b[39m \u001b[38;5;28;43mself\u001b[39;49m\u001b[38;5;241;43m.\u001b[39;49m\u001b[43m_run_stage\u001b[49m\u001b[43m(\u001b[49m\u001b[43m)\u001b[49m\n\u001b[1;32m    991\u001b[0m \u001b[38;5;66;03m# ----------------------------\u001b[39;00m\n\u001b[1;32m    992\u001b[0m \u001b[38;5;66;03m# POST-Training CLEAN UP\u001b[39;00m\n\u001b[1;32m    993\u001b[0m \u001b[38;5;66;03m# ----------------------------\u001b[39;00m\n\u001b[1;32m    994\u001b[0m log\u001b[38;5;241m.\u001b[39mdebug(\u001b[38;5;124mf\u001b[39m\u001b[38;5;124m\"\u001b[39m\u001b[38;5;132;01m{\u001b[39;00m\u001b[38;5;28mself\u001b[39m\u001b[38;5;241m.\u001b[39m\u001b[38;5;18m__class__\u001b[39m\u001b[38;5;241m.\u001b[39m\u001b[38;5;18m__name__\u001b[39m\u001b[38;5;132;01m}\u001b[39;00m\u001b[38;5;124m: trainer tearing down\u001b[39m\u001b[38;5;124m\"\u001b[39m)\n",
      "File \u001b[0;32m/gpfsdswork/projects/rech/mlr/udy16au/miniconda3/envs/env_gpu5/lib/python3.11/site-packages/lightning/pytorch/trainer/trainer.py:1030\u001b[0m, in \u001b[0;36mTrainer._run_stage\u001b[0;34m(self)\u001b[0m\n\u001b[1;32m   1028\u001b[0m     \u001b[38;5;28;01mreturn\u001b[39;00m \u001b[38;5;28mself\u001b[39m\u001b[38;5;241m.\u001b[39m_evaluation_loop\u001b[38;5;241m.\u001b[39mrun()\n\u001b[1;32m   1029\u001b[0m \u001b[38;5;28;01mif\u001b[39;00m \u001b[38;5;28mself\u001b[39m\u001b[38;5;241m.\u001b[39mpredicting:\n\u001b[0;32m-> 1030\u001b[0m     \u001b[38;5;28;01mreturn\u001b[39;00m \u001b[38;5;28;43mself\u001b[39;49m\u001b[38;5;241;43m.\u001b[39;49m\u001b[43mpredict_loop\u001b[49m\u001b[38;5;241;43m.\u001b[39;49m\u001b[43mrun\u001b[49m\u001b[43m(\u001b[49m\u001b[43m)\u001b[49m\n\u001b[1;32m   1031\u001b[0m \u001b[38;5;28;01mif\u001b[39;00m \u001b[38;5;28mself\u001b[39m\u001b[38;5;241m.\u001b[39mtraining:\n\u001b[1;32m   1032\u001b[0m     \u001b[38;5;28;01mwith\u001b[39;00m isolate_rng():\n",
      "File \u001b[0;32m/gpfsdswork/projects/rech/mlr/udy16au/miniconda3/envs/env_gpu5/lib/python3.11/site-packages/lightning/pytorch/loops/utilities.py:182\u001b[0m, in \u001b[0;36m_no_grad_context.<locals>._decorator\u001b[0;34m(self, *args, **kwargs)\u001b[0m\n\u001b[1;32m    180\u001b[0m     context_manager \u001b[38;5;241m=\u001b[39m torch\u001b[38;5;241m.\u001b[39mno_grad\n\u001b[1;32m    181\u001b[0m \u001b[38;5;28;01mwith\u001b[39;00m context_manager():\n\u001b[0;32m--> 182\u001b[0m     \u001b[38;5;28;01mreturn\u001b[39;00m \u001b[43mloop_run\u001b[49m\u001b[43m(\u001b[49m\u001b[38;5;28;43mself\u001b[39;49m\u001b[43m,\u001b[49m\u001b[43m \u001b[49m\u001b[38;5;241;43m*\u001b[39;49m\u001b[43margs\u001b[49m\u001b[43m,\u001b[49m\u001b[43m \u001b[49m\u001b[38;5;241;43m*\u001b[39;49m\u001b[38;5;241;43m*\u001b[39;49m\u001b[43mkwargs\u001b[49m\u001b[43m)\u001b[49m\n",
      "File \u001b[0;32m/gpfsdswork/projects/rech/mlr/udy16au/miniconda3/envs/env_gpu5/lib/python3.11/site-packages/lightning/pytorch/loops/prediction_loop.py:122\u001b[0m, in \u001b[0;36m_PredictionLoop.run\u001b[0;34m(self)\u001b[0m\n\u001b[1;32m    120\u001b[0m     \u001b[38;5;28mself\u001b[39m\u001b[38;5;241m.\u001b[39mbatch_progress\u001b[38;5;241m.\u001b[39mis_last_batch \u001b[38;5;241m=\u001b[39m data_fetcher\u001b[38;5;241m.\u001b[39mdone\n\u001b[1;32m    121\u001b[0m     \u001b[38;5;66;03m# run step hooks\u001b[39;00m\n\u001b[0;32m--> 122\u001b[0m     \u001b[38;5;28;43mself\u001b[39;49m\u001b[38;5;241;43m.\u001b[39;49m\u001b[43m_predict_step\u001b[49m\u001b[43m(\u001b[49m\u001b[43mbatch\u001b[49m\u001b[43m,\u001b[49m\u001b[43m \u001b[49m\u001b[43mbatch_idx\u001b[49m\u001b[43m,\u001b[49m\u001b[43m \u001b[49m\u001b[43mdataloader_idx\u001b[49m\u001b[43m,\u001b[49m\u001b[43m \u001b[49m\u001b[43mdataloader_iter\u001b[49m\u001b[43m)\u001b[49m\n\u001b[1;32m    123\u001b[0m \u001b[38;5;28;01mexcept\u001b[39;00m \u001b[38;5;167;01mStopIteration\u001b[39;00m:\n\u001b[1;32m    124\u001b[0m     \u001b[38;5;66;03m# this needs to wrap the `*_step` call too (not just `next`) for `dataloader_iter` support\u001b[39;00m\n\u001b[1;32m    125\u001b[0m     \u001b[38;5;28;01mbreak\u001b[39;00m\n",
      "File \u001b[0;32m/gpfsdswork/projects/rech/mlr/udy16au/miniconda3/envs/env_gpu5/lib/python3.11/site-packages/lightning/pytorch/loops/prediction_loop.py:250\u001b[0m, in \u001b[0;36m_PredictionLoop._predict_step\u001b[0;34m(self, batch, batch_idx, dataloader_idx, dataloader_iter)\u001b[0m\n\u001b[1;32m    244\u001b[0m \u001b[38;5;66;03m# configure step_kwargs\u001b[39;00m\n\u001b[1;32m    245\u001b[0m step_args \u001b[38;5;241m=\u001b[39m (\n\u001b[1;32m    246\u001b[0m     \u001b[38;5;28mself\u001b[39m\u001b[38;5;241m.\u001b[39m_build_step_args_from_hook_kwargs(hook_kwargs, \u001b[38;5;124m\"\u001b[39m\u001b[38;5;124mpredict_step\u001b[39m\u001b[38;5;124m\"\u001b[39m)\n\u001b[1;32m    247\u001b[0m     \u001b[38;5;28;01mif\u001b[39;00m \u001b[38;5;129;01mnot\u001b[39;00m using_dataloader_iter\n\u001b[1;32m    248\u001b[0m     \u001b[38;5;28;01melse\u001b[39;00m (dataloader_iter,)\n\u001b[1;32m    249\u001b[0m )\n\u001b[0;32m--> 250\u001b[0m predictions \u001b[38;5;241m=\u001b[39m \u001b[43mcall\u001b[49m\u001b[38;5;241;43m.\u001b[39;49m\u001b[43m_call_strategy_hook\u001b[49m\u001b[43m(\u001b[49m\u001b[43mtrainer\u001b[49m\u001b[43m,\u001b[49m\u001b[43m \u001b[49m\u001b[38;5;124;43m\"\u001b[39;49m\u001b[38;5;124;43mpredict_step\u001b[39;49m\u001b[38;5;124;43m\"\u001b[39;49m\u001b[43m,\u001b[49m\u001b[43m \u001b[49m\u001b[38;5;241;43m*\u001b[39;49m\u001b[43mstep_args\u001b[49m\u001b[43m)\u001b[49m\n\u001b[1;32m    251\u001b[0m \u001b[38;5;28;01mif\u001b[39;00m predictions \u001b[38;5;129;01mis\u001b[39;00m \u001b[38;5;28;01mNone\u001b[39;00m:\n\u001b[1;32m    252\u001b[0m     \u001b[38;5;28mself\u001b[39m\u001b[38;5;241m.\u001b[39m_warning_cache\u001b[38;5;241m.\u001b[39mwarn(\u001b[38;5;124m\"\u001b[39m\u001b[38;5;124mpredict returned None if it was on purpose, ignore this warning...\u001b[39m\u001b[38;5;124m\"\u001b[39m)\n",
      "File \u001b[0;32m/gpfsdswork/projects/rech/mlr/udy16au/miniconda3/envs/env_gpu5/lib/python3.11/site-packages/lightning/pytorch/trainer/call.py:309\u001b[0m, in \u001b[0;36m_call_strategy_hook\u001b[0;34m(trainer, hook_name, *args, **kwargs)\u001b[0m\n\u001b[1;32m    306\u001b[0m     \u001b[38;5;28;01mreturn\u001b[39;00m \u001b[38;5;28;01mNone\u001b[39;00m\n\u001b[1;32m    308\u001b[0m \u001b[38;5;28;01mwith\u001b[39;00m trainer\u001b[38;5;241m.\u001b[39mprofiler\u001b[38;5;241m.\u001b[39mprofile(\u001b[38;5;124mf\u001b[39m\u001b[38;5;124m\"\u001b[39m\u001b[38;5;124m[Strategy]\u001b[39m\u001b[38;5;132;01m{\u001b[39;00mtrainer\u001b[38;5;241m.\u001b[39mstrategy\u001b[38;5;241m.\u001b[39m\u001b[38;5;18m__class__\u001b[39m\u001b[38;5;241m.\u001b[39m\u001b[38;5;18m__name__\u001b[39m\u001b[38;5;132;01m}\u001b[39;00m\u001b[38;5;124m.\u001b[39m\u001b[38;5;132;01m{\u001b[39;00mhook_name\u001b[38;5;132;01m}\u001b[39;00m\u001b[38;5;124m\"\u001b[39m):\n\u001b[0;32m--> 309\u001b[0m     output \u001b[38;5;241m=\u001b[39m \u001b[43mfn\u001b[49m\u001b[43m(\u001b[49m\u001b[38;5;241;43m*\u001b[39;49m\u001b[43margs\u001b[49m\u001b[43m,\u001b[49m\u001b[43m \u001b[49m\u001b[38;5;241;43m*\u001b[39;49m\u001b[38;5;241;43m*\u001b[39;49m\u001b[43mkwargs\u001b[49m\u001b[43m)\u001b[49m\n\u001b[1;32m    311\u001b[0m \u001b[38;5;66;03m# restore current_fx when nested context\u001b[39;00m\n\u001b[1;32m    312\u001b[0m pl_module\u001b[38;5;241m.\u001b[39m_current_fx_name \u001b[38;5;241m=\u001b[39m prev_fx_name\n",
      "File \u001b[0;32m/gpfsdswork/projects/rech/mlr/udy16au/miniconda3/envs/env_gpu5/lib/python3.11/site-packages/lightning/pytorch/strategies/strategy.py:429\u001b[0m, in \u001b[0;36mStrategy.predict_step\u001b[0;34m(self, *args, **kwargs)\u001b[0m\n\u001b[1;32m    427\u001b[0m \u001b[38;5;28;01mif\u001b[39;00m \u001b[38;5;28mself\u001b[39m\u001b[38;5;241m.\u001b[39mmodel \u001b[38;5;241m!=\u001b[39m \u001b[38;5;28mself\u001b[39m\u001b[38;5;241m.\u001b[39mlightning_module:\n\u001b[1;32m    428\u001b[0m     \u001b[38;5;28;01mreturn\u001b[39;00m \u001b[38;5;28mself\u001b[39m\u001b[38;5;241m.\u001b[39m_forward_redirection(\u001b[38;5;28mself\u001b[39m\u001b[38;5;241m.\u001b[39mmodel, \u001b[38;5;28mself\u001b[39m\u001b[38;5;241m.\u001b[39mlightning_module, \u001b[38;5;124m\"\u001b[39m\u001b[38;5;124mpredict_step\u001b[39m\u001b[38;5;124m\"\u001b[39m, \u001b[38;5;241m*\u001b[39margs, \u001b[38;5;241m*\u001b[39m\u001b[38;5;241m*\u001b[39mkwargs)\n\u001b[0;32m--> 429\u001b[0m \u001b[38;5;28;01mreturn\u001b[39;00m \u001b[38;5;28;43mself\u001b[39;49m\u001b[38;5;241;43m.\u001b[39;49m\u001b[43mlightning_module\u001b[49m\u001b[38;5;241;43m.\u001b[39;49m\u001b[43mpredict_step\u001b[49m\u001b[43m(\u001b[49m\u001b[38;5;241;43m*\u001b[39;49m\u001b[43margs\u001b[49m\u001b[43m,\u001b[49m\u001b[43m \u001b[49m\u001b[38;5;241;43m*\u001b[39;49m\u001b[38;5;241;43m*\u001b[39;49m\u001b[43mkwargs\u001b[49m\u001b[43m)\u001b[49m\n",
      "File \u001b[0;32m/gpfsdswork/projects/rech/mlr/udy16au/ipsl_dcpp/ipsl_dcpp/model/forecast.py:143\u001b[0m, in \u001b[0;36mForecastModule.predict_step\u001b[0;34m(self, batch, batch_nb)\u001b[0m\n\u001b[1;32m    136\u001b[0m  \u001b[38;5;66;03m#  t = batch['time']\u001b[39;00m\n\u001b[1;32m    137\u001b[0m  \u001b[38;5;66;03m#  t_1 = batch['next_time']\u001b[39;00m\n\u001b[1;32m    138\u001b[0m    \u001b[38;5;66;03m#pred, batch = self.dataset.denormalize(pred, batch)\u001b[39;00m\n\u001b[1;32m    139\u001b[0m \u001b[38;5;66;03m#   pred_global_mean_surface = pred['next_state_surface'].mean((-2,-1))\u001b[39;00m\n\u001b[1;32m    140\u001b[0m \u001b[38;5;66;03m#   batch_global_mean_surface = batch['next_state_surface'].mean((-2,-1))\u001b[39;00m\n\u001b[1;32m    141\u001b[0m \u001b[38;5;66;03m#   current_state_surface = batch['state_surface'].mean((-2,-1))\u001b[39;00m\n\u001b[1;32m    142\u001b[0m    month_indices \u001b[38;5;241m=\u001b[39m [\u001b[38;5;28mint\u001b[39m(x\u001b[38;5;241m.\u001b[39msplit(\u001b[38;5;124m'\u001b[39m\u001b[38;5;124m-\u001b[39m\u001b[38;5;124m'\u001b[39m)[\u001b[38;5;241m-\u001b[39m\u001b[38;5;241m1\u001b[39m]) \u001b[38;5;241m-\u001b[39m \u001b[38;5;241m1\u001b[39m \u001b[38;5;28;01mfor\u001b[39;00m x \u001b[38;5;129;01min\u001b[39;00m batch[\u001b[38;5;124m'\u001b[39m\u001b[38;5;124mnext_time\u001b[39m\u001b[38;5;124m'\u001b[39m]]\n\u001b[0;32m--> 143\u001b[0m    pred_climatology_adjusted \u001b[38;5;241m=\u001b[39m pred[\u001b[38;5;124m'\u001b[39m\u001b[38;5;124mnext_state_surface\u001b[39m\u001b[38;5;124m'\u001b[39m] \u001b[38;5;241m-\u001b[39m \u001b[43mtorch\u001b[49m\u001b[38;5;241;43m.\u001b[39;49m\u001b[43mbroadcast_to\u001b[49m\u001b[43m(\u001b[49m\u001b[38;5;28;43mself\u001b[39;49m\u001b[38;5;241;43m.\u001b[39;49m\u001b[43mclimatology\u001b[49m\u001b[43m[\u001b[49m\u001b[43mmonth_indices\u001b[49m\u001b[43m,\u001b[49m\u001b[43m:\u001b[49m\u001b[43m]\u001b[49m\u001b[43m,\u001b[49m\u001b[43m(\u001b[49m\u001b[38;5;241;43m143\u001b[39;49m\u001b[43m,\u001b[49m\u001b[38;5;241;43m144\u001b[39;49m\u001b[43m,\u001b[49m\u001b[38;5;241;43m1\u001b[39;49m\u001b[43m,\u001b[49m\u001b[38;5;241;43m91\u001b[39;49m\u001b[43m)\u001b[49m\u001b[43m)\u001b[49m\u001b[38;5;241m.\u001b[39mpermute(\u001b[38;5;241m2\u001b[39m,\u001b[38;5;241m3\u001b[39m,\u001b[38;5;241m0\u001b[39m,\u001b[38;5;241m1\u001b[39m)\n\u001b[1;32m    144\u001b[0m    batch_climatology_adjusted \u001b[38;5;241m=\u001b[39m batch[\u001b[38;5;124m'\u001b[39m\u001b[38;5;124mnext_state_surface\u001b[39m\u001b[38;5;124m'\u001b[39m] \u001b[38;5;241m-\u001b[39m torch\u001b[38;5;241m.\u001b[39mbroadcast_to(\u001b[38;5;28mself\u001b[39m\u001b[38;5;241m.\u001b[39mclimatology[month_indices,:],(\u001b[38;5;241m143\u001b[39m,\u001b[38;5;241m144\u001b[39m,\u001b[38;5;241m1\u001b[39m,\u001b[38;5;241m91\u001b[39m))\u001b[38;5;241m.\u001b[39mpermute(\u001b[38;5;241m2\u001b[39m,\u001b[38;5;241m3\u001b[39m,\u001b[38;5;241m0\u001b[39m,\u001b[38;5;241m1\u001b[39m)\n\u001b[1;32m    146\u001b[0m    lat_coeffs_equi \u001b[38;5;241m=\u001b[39m torch\u001b[38;5;241m.\u001b[39mtensor([torch\u001b[38;5;241m.\u001b[39mcos(x) \u001b[38;5;28;01mfor\u001b[39;00m x \u001b[38;5;129;01min\u001b[39;00m torch\u001b[38;5;241m.\u001b[39marange(\u001b[38;5;241m-\u001b[39mtorch\u001b[38;5;241m.\u001b[39mpi\u001b[38;5;241m/\u001b[39m\u001b[38;5;241m2\u001b[39m, torch\u001b[38;5;241m.\u001b[39mpi\u001b[38;5;241m/\u001b[39m\u001b[38;5;241m2\u001b[39m, torch\u001b[38;5;241m.\u001b[39mpi\u001b[38;5;241m/\u001b[39m\u001b[38;5;241m143\u001b[39m)])\n",
      "\u001b[0;31mRuntimeError\u001b[0m: The expanded size of the tensor (91) must match the existing size (135) at non-singleton dimension 3.  Target sizes: [143, 144, 1, 91].  Tensor sizes: [1, 135]"
     ]
    }
   ],
   "source": [
    "trainer = pl.Trainer(fast_dev_run=12)\n",
    "output = trainer.predict(model, test_dataloader)"
   ]
  },
  {
   "cell_type": "code",
   "execution_count": null,
   "id": "6bfef9ba-4a78-4a8f-91f7-d2dd9b89786e",
   "metadata": {
    "tags": []
   },
   "outputs": [],
   "source": [
    "mse_surface = (output[0][-2]['next_state_surface'] - output[0][-1]['next_state_surface']).abs().pow(2)\n",
    "\n",
    "lat_coeffs_equi = torch.tensor([torch.cos(x) for x in torch.arange(-torch.pi/2, torch.pi/2, torch.pi/143)])\n",
    "lat_coeffs_equi =  (lat_coeffs_equi/lat_coeffs_equi.mean())[None, None, None, :, None]\n",
    "#if mse_surface.shape[-2] == 128:\n",
    "#    mse_surface = mse_surface[..., 4:-4, 8:-8]\n",
    "mse_surface = mse_surface.mul(lat_coeffs_equi)"
   ]
  },
  {
   "cell_type": "code",
   "execution_count": 30,
   "id": "c6783445-3b65-4ba3-833c-14e849b664dd",
   "metadata": {
    "tags": []
   },
   "outputs": [],
   "source": [
    "means = mse_surface.squeeze().mean((1,2))"
   ]
  },
  {
   "cell_type": "code",
   "execution_count": 33,
   "id": "595f5123-7e16-492b-9f01-52ecec5c6647",
   "metadata": {},
   "outputs": [
    {
     "name": "stdout",
     "output_type": "stream",
     "text": [
      "baresoilFrac 0.96 15.4 15.35 21.56\n",
      "c3PftFrac 0.97 59.14 59.03 22.88\n",
      "c4PftFrac 0.98 7.25 7.14 3.58\n",
      "cLeaf 0.98 0.08 0.08 0.0\n",
      "cLitter 0.98 0.72 0.73 0.0\n",
      "cLitterAbove 0.98 0.54 0.55 0.0\n",
      "cLitterBelow 0.97 0.18 0.18 0.0\n",
      "cProduct 0.91 0.02 0.02 0.0\n",
      "cRoot 0.99 0.5 0.51 0.01\n",
      "cSoilFast 0.98 0.06 0.06 0.0\n",
      "cSoilMedium 0.99 1.53 1.53 0.01\n",
      "cSoilSlow 0.98 2.22 2.19 0.03\n",
      "cVeg 0.99 2.27 2.28 0.13\n",
      "cropFrac 0.95 8.38 8.33 7.29\n",
      "mrsos 0.91 19.9 19.92 3.68\n",
      "evspsblsoi 0.8 0.0 0.0 0.0\n",
      "evspsblveg 0.94 0.0 0.0 0.0\n",
      "fHarvest 0.91 0.0 0.0 0.0\n",
      "fLitterSoil 0.97 0.0 0.0 0.0\n",
      "fVegLitter 0.94 0.0 0.0 0.0\n",
      "grassFrac 0.96 27.18 27.16 12.31\n",
      "lai 0.98 1.26 1.27 0.04\n",
      "mrfso 0.9 57.27 57.45 725.8\n",
      "mrro 0.84 0.0 0.0 0.0\n",
      "mrros 0.79 0.0 0.0 0.0\n",
      "mrso 0.93 486.1 487.61 1283.79\n",
      "prveg 0.94 0.0 0.0 0.0\n",
      "rGrowth 0.97 -0.0 -0.0 0.0\n",
      "rMaint 0.99 -0.0 -0.0 0.0\n",
      "ra 0.99 0.0 0.0 0.0\n",
      "rh 0.98 0.0 0.0 0.0\n",
      "tran 0.94 0.0 0.0 0.0\n",
      "treeFrac 0.97 30.85 30.69 12.15\n",
      "treeFracPrimDec 0.96 14.15 14.19 5.62\n",
      "treeFracPrimEver 0.98 16.7 16.5 7.05\n",
      "ci 0.95 0.63 0.62 0.01\n",
      "clivi 0.87 0.02 0.02 0.0\n",
      "clt 0.92 68.56 68.43 108.62\n",
      "clwvi 0.82 0.08 0.08 0.0\n",
      "evspsbl 0.95 0.0 0.0 0.0\n",
      "hfls 0.95 64.95 63.76 424.52\n",
      "hfss 0.9 12.96 13.27 122.18\n",
      "hurs 0.96 83.85 83.95 17.13\n",
      "huss 0.99 0.01 0.01 0.0\n",
      "pr 0.86 0.0 0.0 0.0\n",
      "prc 0.93 0.0 0.0 0.0\n",
      "prsn 0.85 0.0 0.0 0.0\n",
      "prw 0.99 17.63 17.86 6.85\n",
      "ps 0.98 96527.88 96492.07 1892312.0\n",
      "psl 0.9 101140.83 100971.72 172714.88\n",
      "rlds 0.99 295.28 297.47 129.59\n",
      "rldscs 1.0 263.48 265.88 83.88\n",
      "rlus 1.0 345.21 347.22 84.74\n",
      "rlut 0.97 220.14 221.11 75.7\n",
      "rlutcs 0.99 241.42 242.26 21.64\n",
      "rsds 0.98 164.41 164.75 356.52\n",
      "rsdscs 1.0 218.74 220.09 52.77\n",
      "rsdt 1.0 298.09 300.4 80.87\n",
      "rsus 0.98 34.56 34.28 53.84\n",
      "rsuscs 0.98 42.5 41.93 69.16\n",
      "rsut 0.94 104.7 106.07 232.44\n",
      "rsutcs 0.98 62.23 62.33 53.08\n",
      "rtmt 0.99 -26.72 -26.78 147.1\n",
      "sfcWind 0.94 5.99 5.95 0.82\n",
      "tas 0.99 275.66 276.45 4.81\n",
      "tasmax 0.99 277.84 278.65 5.06\n",
      "tasmin 0.99 273.43 274.19 5.4\n",
      "tauu 0.87 0.01 0.01 0.0\n",
      "tauv 0.82 -0.0 -0.0 0.0\n",
      "ts 0.99 276.37 277.15 5.12\n",
      "uas 0.92 -0.14 -0.04 2.55\n",
      "vas 0.85 -0.11 -0.03 1.47\n",
      "cLand 0.99 6.09 6.07 0.22\n",
      "cLitterGrass 0.97 0.26 0.26 0.0\n",
      "cLitterSubSurf 0.97 0.18 0.18 0.0\n",
      "cLitterSurf 0.98 0.54 0.55 0.0\n",
      "cLitterTree 0.98 0.36 0.36 0.0\n",
      "cMisc 0.95 0.07 0.08 0.0\n",
      "cOther 0.95 0.07 0.08 0.0\n",
      "cSoil 0.99 3.81 3.79 0.06\n",
      "cSoilGrass 0.98 1.33 1.33 0.04\n",
      "cSoilTree 0.98 2.03 2.01 0.06\n",
      "cStem 0.99 1.62 1.63 0.09\n",
      "cVegGrass 0.96 0.05 0.05 0.0\n",
      "cVegTree 0.99 2.19 2.2 0.13\n",
      "cWood 0.99 2.07 2.08 0.13\n",
      "cropFracC3 0.95 6.83 6.8 5.42\n",
      "cropFracC4 0.93 1.55 1.53 1.13\n",
      "evspsblpot 0.92 0.0 0.0 0.0\n",
      "fAnthDisturb 0.93 -0.0 -0.0 0.0\n",
      "fDeforestToAtmos 0.89 0.0 0.0 0.0\n",
      "fDeforestToProduct 0.83 0.0 0.0 0.0\n",
      "fHarvestToAtmos 0.91 0.0 0.0 0.0\n",
      "fHarvestToProduct 0.91 -0.0 -0.0 0.0\n",
      "fLuc 0.89 0.0 0.0 0.0\n",
      "fProductDecomp 0.93 0.0 0.0 0.0\n",
      "grassFracC3 0.95 21.47 21.54 11.51\n",
      "grassFracC4 0.97 5.7 5.62 3.15\n",
      "intuadse 0.94 20409765888.0 21674938368.0 1.091655045449494e+20\n",
      "intuaw 0.93 9.41 12.77 3722.78\n",
      "intvadse 0.7 17322122.0 155652960.0 4.278359392764769e+19\n",
      "intvaw 0.81 -6.13 -5.19 1177.41\n",
      "mrlso 0.93 428.83 430.16 1133.33\n",
      "mrtws 0.91 890.15 887.28 94989.23\n",
      "prhmax 0.86 0.0 0.0 0.0\n",
      "raGrass 0.96 0.0 0.0 0.0\n",
      "raTree 0.98 0.0 0.0 0.0\n",
      "rhGrass 0.96 0.0 0.0 0.0\n",
      "rhLitter 0.96 -0.0 -0.0 0.0\n",
      "rhSoil 0.98 -0.0 -0.0 0.0\n",
      "rhTree 0.98 0.0 0.0 0.0\n",
      "rls 0.94 -49.91 -49.76 68.01\n",
      "rss 0.98 129.83 130.47 312.33\n",
      "sconcdust 0.94 0.0 0.0 0.0\n",
      "sconcso4 0.92 0.0 0.0 0.0\n",
      "sconcss 0.97 0.0 0.0 0.0\n",
      "sfcWindmax 0.94 8.11 8.06 1.17\n",
      "treeFracBdlDcd 0.94 10.72 10.68 4.97\n",
      "treeFracBdlEvg 0.98 8.53 8.4 4.53\n",
      "treeFracNdlDcd 0.95 3.42 3.51 2.44\n",
      "treeFracNdlEvg 0.95 8.17 8.1 4.42\n",
      "vegFrac 0.97 66.4 66.18 23.76\n",
      "npp 0.97 0.0 0.0 0.0\n",
      "nbp 0.83 -0.0 -0.0 0.0\n",
      "gpp 0.98 0.0 0.0 0.0\n",
      "nppGrass 0.94 0.0 0.0 0.0\n",
      "nppOther 0.92 0.0 0.0 0.0\n",
      "nppStem 0.96 0.0 0.0 0.0\n",
      "nppTree 0.95 0.0 0.0 0.0\n",
      "nep 0.86 0.0 0.0 0.0\n",
      "nppLeaf 0.95 0.0 0.0 0.0\n",
      "nppRoot 0.96 0.0 0.0 0.0\n",
      "nppWood 0.96 0.0 0.0 0.0\n",
      "gppGrass 0.95 0.0 0.0 0.0\n",
      "gppTree 0.98 0.0 0.0 0.0\n"
     ]
    }
   ],
   "source": [
    "for var_index in range(len(surface_variables)):\n",
    "    var_name = surface_variables[var_index]\n",
    "    acc = np.round(output[0][0].squeeze()[var_index].item(),2)\n",
    "    pred_mean_value = np.round(output[0][1].squeeze()[var_index].item(),2)\n",
    "    batch_mean_value = np.round(output[0][2].squeeze()[var_index].item(),2)\n",
    "    mse = np.sqrt(np.round(means[var_index].item(),2))\n",
    "    print(var_name,acc,pred_mean_value,batch_mean_value,mse)"
   ]
  }
 ],
 "metadata": {
  "kernelspec": {
   "display_name": "My Custom Kernel",
   "language": "python",
   "name": "mycustomkernel"
  },
  "language_info": {
   "codemirror_mode": {
    "name": "ipython",
    "version": 3
   },
   "file_extension": ".py",
   "mimetype": "text/x-python",
   "name": "python",
   "nbconvert_exporter": "python",
   "pygments_lexer": "ipython3",
   "version": "3.11.0"
  }
 },
 "nbformat": 4,
 "nbformat_minor": 5
}
