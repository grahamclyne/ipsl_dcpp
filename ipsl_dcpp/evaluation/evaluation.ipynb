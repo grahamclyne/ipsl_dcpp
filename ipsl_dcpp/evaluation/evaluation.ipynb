{
 "cells": [
  {
   "cell_type": "code",
   "execution_count": 1,
   "id": "c0065738-f5ff-489b-afbc-311fb6e564fe",
   "metadata": {
    "tags": []
   },
   "outputs": [],
   "source": [
    "import os \n",
    "from ipsl_dataset import IPSL_DCPP\n",
    "import lightning.pytorch as pl\n",
    "import torch\n",
    "import hydra\n",
    "import numpy as np\n",
    "from ipsl_dataset import surface_variables\n",
    "scratch = os.environ['SCRATCH']\n",
    "work = os.environ['WORK']\n",
    "run_name = ''\n",
    "#6 month \n",
    "checkpoint_path = f'{work}/ipsl_dcpp/ipsl_dcpp_emulation/6l0y0nym/checkpoints/epoch=4-step=14125.ckpt'\n",
    "# 2 year\n",
    "checkpoint_path = f'{work}/ipsl_dcpp/ipsl_dcpp_emulation/0qo4adab/checkpoints/24_month_epoch=04.ckpt'\n",
    "no_soil_checkpoint_5_year = f'{work}/ipsl_dcpp/ipsl_dcpp_emulation/kwsn8y3n/checkpoints/24_month_epoch=07.ckpt'\n",
    "with_soil_checkpoint_5_year = f'{work}/ipsl_dcpp/ipsl_dcpp_emulation/jvlh5yoa/checkpoints/24_month_epoch=07.ckpt'"
   ]
  },
  {
   "cell_type": "code",
   "execution_count": 8,
   "id": "bcb76d5b-df7a-4c43-aba1-955527e78797",
   "metadata": {
    "tags": []
   },
   "outputs": [],
   "source": [
    "from hydra import compose, initialize\n",
    "from omegaconf import OmegaConf\n",
    "\n",
    "\n",
    "with initialize(version_base=None, config_path=\"conf\"):\n",
    "    cfg = compose(config_name=\"config\")\n"
   ]
  },
  {
   "cell_type": "code",
   "execution_count": 9,
   "id": "0ee3d8ae-38f3-45f9-9583-4dde232bda44",
   "metadata": {
    "tags": []
   },
   "outputs": [],
   "source": [
    "checkpoint_no_soil = torch.load(no_soil_checkpoint_5_year,map_location=torch.device('cpu'))\n",
    "checkpoint_with_soil = torch.load(with_soil_checkpoint_5_year,map_location=torch.device('cpu'))\n"
   ]
  },
  {
   "cell_type": "code",
   "execution_count": 17,
   "id": "8863c011-2b1a-41cb-87e5-b75d4257a591",
   "metadata": {
    "tags": []
   },
   "outputs": [],
   "source": [
    "test = IPSL_DCPP('test',60)\n",
    "test_dataloader = torch.utils.data.DataLoader(test,batch_size=1,shuffle=False,num_workers=1)"
   ]
  },
  {
   "cell_type": "code",
   "execution_count": 18,
   "id": "917d65c2-b3bb-4607-a5e6-dae0eff5e586",
   "metadata": {
    "tags": []
   },
   "outputs": [
    {
     "data": {
      "text/plain": [
       "<All keys matched successfully>"
      ]
     },
     "execution_count": 18,
     "metadata": {},
     "output_type": "execute_result"
    }
   ],
   "source": [
    "\n",
    "soil_model = hydra.utils.instantiate(cfg.experiment.module,backbone=hydra.utils.instantiate(cfg.experiment.backbone,soil=True),dataset=test_dataloader.dataset)\n",
    "soil_model.load_state_dict(checkpoint_with_soil['state_dict'])\n",
    "\n",
    "no_soil_model = hydra.utils.instantiate(cfg.experiment.module,backbone=hydra.utils.instantiate(cfg.experiment.backbone,soil=False),dataset=test_dataloader.dataset)\n",
    "no_soil_model.load_state_dict(checkpoint_no_soil['state_dict'])\n"
   ]
  },
  {
   "cell_type": "code",
   "execution_count": 19,
   "id": "06be105a-b039-4670-b8d5-bf6a09355e80",
   "metadata": {
    "tags": []
   },
   "outputs": [
    {
     "name": "stderr",
     "output_type": "stream",
     "text": [
      "GPU available: False, used: False\n",
      "TPU available: False, using: 0 TPU cores\n",
      "IPU available: False, using: 0 IPUs\n",
      "HPU available: False, using: 0 HPUs\n",
      "Running in `fast_dev_run` mode: will run the requested loop using 3 batch(es). Logging and checkpointing is suppressed.\n",
      "SLURM auto-requeueing enabled. Setting signal handlers.\n"
     ]
    },
    {
     "name": "stdout",
     "output_type": "stream",
     "text": [
      "Predicting DataLoader 0: 100%|██████████| 3/3 [00:10<00:00,  0.29it/s]\n"
     ]
    }
   ],
   "source": [
    "trainer = pl.Trainer(fast_dev_run=3)\n",
    "output = trainer.predict(soil_model, test_dataloader)\n"
   ]
  },
  {
   "cell_type": "code",
   "execution_count": 20,
   "id": "c3349379-aa13-4eb1-803b-4a158ba9d642",
   "metadata": {
    "tags": []
   },
   "outputs": [
    {
     "name": "stderr",
     "output_type": "stream",
     "text": [
      "SLURM auto-requeueing enabled. Setting signal handlers.\n"
     ]
    },
    {
     "name": "stdout",
     "output_type": "stream",
     "text": [
      "Predicting DataLoader 0: 100%|██████████| 3/3 [00:08<00:00,  0.36it/s]\n"
     ]
    }
   ],
   "source": [
    "no_soil_output = trainer.predict(no_soil_model, test_dataloader)"
   ]
  },
  {
   "cell_type": "code",
   "execution_count": 52,
   "id": "e6bf7248-7b19-47fc-8981-8a49a7dde801",
   "metadata": {
    "tags": []
   },
   "outputs": [],
   "source": [
    "surf_pred = output[0][4]['next_state_surface']\n",
    "surf_batch = output[0][3]['next_state_surface']"
   ]
  },
  {
   "cell_type": "code",
   "execution_count": 53,
   "id": "6777f108-6dea-4abc-bf39-6bffc1ecabca",
   "metadata": {
    "tags": []
   },
   "outputs": [],
   "source": [
    "land_mask = torch.tensor(np.load('data/land_mask.npy'))"
   ]
  },
  {
   "cell_type": "code",
   "execution_count": 54,
   "id": "7160519a-c386-4e58-a4f7-a4f79b298028",
   "metadata": {
    "tags": []
   },
   "outputs": [],
   "source": [
    "masked_surf_pred = torch.where(land_mask ==1,surf_pred,torch.nan)\n",
    "masked_surf_batch = torch.where(land_mask ==1,surf_batch,torch.nan)\n"
   ]
  },
  {
   "cell_type": "code",
   "execution_count": 58,
   "id": "573497db-40d1-4913-9c98-99b7bfc2792a",
   "metadata": {
    "tags": []
   },
   "outputs": [
    {
     "data": {
      "text/plain": [
       "torch.Size([1, 135, 143, 144])"
      ]
     },
     "execution_count": 58,
     "metadata": {},
     "output_type": "execute_result"
    }
   ],
   "source": [
    "masked_surf_pred.shape"
   ]
  },
  {
   "cell_type": "code",
   "execution_count": 60,
   "id": "3fc3d765-3139-4530-bf3b-6b3a152aec92",
   "metadata": {
    "tags": []
   },
   "outputs": [
    {
     "data": {
      "text/plain": [
       "tensor(-1.6826e-10)"
      ]
     },
     "execution_count": 60,
     "metadata": {},
     "output_type": "execute_result"
    }
   ],
   "source": [
    "(masked_surf_batch - masked_surf_pred).squeeze().nanmean(axis=(1,2))[var_index]"
   ]
  },
  {
   "cell_type": "code",
   "execution_count": 42,
   "id": "fe30b9fd-f826-458d-a536-ea74fa2e1cb4",
   "metadata": {
    "tags": []
   },
   "outputs": [
    {
     "data": {
      "text/plain": [
       "tensor(1.9234e-08)"
      ]
     },
     "execution_count": 42,
     "metadata": {},
     "output_type": "execute_result"
    }
   ],
   "source": [
    "masked_surf_pred.squeeze().nanmean(axis=(1,2))[var_index]\n"
   ]
  },
  {
   "cell_type": "code",
   "execution_count": 43,
   "id": "e652e5ab-14e5-4dfe-a324-34f6fd4a8243",
   "metadata": {
    "tags": []
   },
   "outputs": [
    {
     "data": {
      "text/plain": [
       "tensor(1.9065e-08)"
      ]
     },
     "execution_count": 43,
     "metadata": {},
     "output_type": "execute_result"
    }
   ],
   "source": [
    "masked_surf_batch.squeeze().nanmean(axis=(1,2))[var_index]\n"
   ]
  },
  {
   "cell_type": "code",
   "execution_count": 18,
   "id": "75c14ba9-4d72-4f95-a368-2be4695c5a1f",
   "metadata": {
    "tags": []
   },
   "outputs": [],
   "source": [
    "diffs = []\n",
    "for i in range(3):\n",
    "    diff = output[i][0] - no_soil_output[i][0]\n",
    "    diffs.append(diff.squeeze())"
   ]
  },
  {
   "cell_type": "code",
   "execution_count": null,
   "id": "83f97b46-df76-4320-9307-987c6c045e34",
   "metadata": {
    "tags": []
   },
   "outputs": [],
   "source": [
    "np.stack(diffs).mean(axis=0)"
   ]
  },
  {
   "cell_type": "code",
   "execution_count": 23,
   "id": "d787d73d-4ce1-4520-8356-c0b1a8e86e3b",
   "metadata": {
    "tags": []
   },
   "outputs": [
    {
     "data": {
      "text/plain": [
       "tensor(-0.0014)"
      ]
     },
     "execution_count": 23,
     "metadata": {},
     "output_type": "execute_result"
    }
   ],
   "source": [
    "diff.squeeze()[var_index]"
   ]
  },
  {
   "cell_type": "code",
   "execution_count": 29,
   "id": "af550c58-c41c-482f-85fd-358f015ebf95",
   "metadata": {
    "tags": []
   },
   "outputs": [],
   "source": [
    "x = torch.tensor(np.zeros((1,135)))"
   ]
  },
  {
   "cell_type": "code",
   "execution_count": 21,
   "id": "a0df7aa7-b43b-4886-844a-5743ae2fe347",
   "metadata": {
    "tags": []
   },
   "outputs": [
    {
     "data": {
      "text/plain": [
       "'fDeforestToAtmos'"
      ]
     },
     "execution_count": 21,
     "metadata": {},
     "output_type": "execute_result"
    }
   ],
   "source": [
    "surface_variables[(7*13)-1]"
   ]
  },
  {
   "cell_type": "code",
   "execution_count": 7,
   "id": "e48a3aca-fd82-4331-be78-e39b858f2af4",
   "metadata": {
    "tags": []
   },
   "outputs": [],
   "source": [
    "mean_acc_stacked = []\n",
    "pred_next_stacked = []\n",
    "batch_next_stacked = []\n",
    "for mean_acc,pred_next,batch_next,cur in output:\n",
    "    mean_acc_stacked.append(mean_acc)\n",
    "    pred_next_stacked.append(pred_next)\n",
    "    batch_next_stacked.append(batch_next)"
   ]
  },
  {
   "cell_type": "code",
   "execution_count": 36,
   "id": "eb1d634a-a033-47b4-b9b7-2d3e226141a8",
   "metadata": {
    "tags": []
   },
   "outputs": [],
   "source": [
    "var_index = surface_variables.index('gpp')"
   ]
  },
  {
   "cell_type": "code",
   "execution_count": 25,
   "id": "6e289ba8-699e-4869-80f4-cb0358ed4b47",
   "metadata": {
    "tags": []
   },
   "outputs": [
    {
     "data": {
      "text/plain": [
       "276.80637"
      ]
     },
     "execution_count": 25,
     "metadata": {},
     "output_type": "execute_result"
    }
   ],
   "source": [
    "np.stack(pred_next_stacked).squeeze()[var_index]"
   ]
  },
  {
   "cell_type": "code",
   "execution_count": 26,
   "id": "8cca8ef4-caf7-4df7-8c26-3b892dc7a191",
   "metadata": {
    "tags": []
   },
   "outputs": [
    {
     "data": {
      "text/plain": [
       "277.16013"
      ]
     },
     "execution_count": 26,
     "metadata": {},
     "output_type": "execute_result"
    }
   ],
   "source": [
    "np.stack(batch_next_stacked).squeeze()[var_index]"
   ]
  },
  {
   "cell_type": "code",
   "execution_count": 27,
   "id": "48e7e20c-96b0-445d-bffc-342e990c9290",
   "metadata": {
    "tags": []
   },
   "outputs": [
    {
     "data": {
      "text/plain": [
       "0.99321955"
      ]
     },
     "execution_count": 27,
     "metadata": {},
     "output_type": "execute_result"
    }
   ],
   "source": [
    "np.stack(mean_acc_stacked).squeeze()[var_index]"
   ]
  },
  {
   "cell_type": "code",
   "execution_count": 17,
   "id": "cfc522b0-44f4-4441-a926-e5fed3e9e4c6",
   "metadata": {
    "tags": []
   },
   "outputs": [],
   "source": [
    "def get_time_series(output,var_index):\n",
    "    pred_means = []\n",
    "    batch_means = []\n",
    "    for i in range(len(output)):\n",
    "        pred = output[i][0]\n",
    "        batch = output[i][1]\n",
    "        pred_means.append(pred[:,var_index].flatten())\n",
    "        batch_means.append(batch[:,var_index].flatten())\n",
    "    pred_means = torch.concat(pred_means)\n",
    "    batch_means = torch.concat(batch_means)\n",
    "    return pred_means,batch_means"
   ]
  },
  {
   "cell_type": "code",
   "execution_count": 29,
   "id": "152c07fb-f1f5-454f-bd35-ca035ef1265a",
   "metadata": {
    "tags": []
   },
   "outputs": [],
   "source": [
    "ps,bs = get_time_series(output,surface_variables.index(var_name))"
   ]
  },
  {
   "cell_type": "code",
   "execution_count": 31,
   "id": "1474d4a5-6f3d-473a-9895-ac6ff1224a16",
   "metadata": {
    "tags": []
   },
   "outputs": [],
   "source": [
    "gpp_climatology = climatology[:,surface_variables.index(var_name)]"
   ]
  },
  {
   "cell_type": "code",
   "execution_count": 44,
   "id": "e6a5deea-2f77-48f9-b887-2314a97176d2",
   "metadata": {
    "tags": []
   },
   "outputs": [],
   "source": [
    "def acc(predicted,modeled):\n",
    "    accuracy = np.sqrt((predicted * modeled) / (np.power(predicted,2) * np.power(modeled,2)))\n",
    "    return accuracy\n",
    "    "
   ]
  },
  {
   "cell_type": "code",
   "execution_count": 45,
   "id": "4ae7a68e-84b8-486b-92e5-550d1b3c4eec",
   "metadata": {
    "tags": []
   },
   "outputs": [
    {
     "data": {
      "text/plain": [
       "tensor([0.6369, 0.5893, 1.0082, 1.1735, 0.8873, 1.3764, 0.9183, 0.6126, 0.5680,\n",
       "        0.5719, 0.5765, 0.6221])"
      ]
     },
     "execution_count": 45,
     "metadata": {},
     "output_type": "execute_result"
    }
   ],
   "source": [
    "acc(ps - gpp_climatology,bs - gpp_climatology)"
   ]
  },
  {
   "cell_type": "code",
   "execution_count": null,
   "id": "c7627eff-9d44-4e81-9b08-77b7d2315365",
   "metadata": {
    "tags": []
   },
   "outputs": [],
   "source": [
    "import matplotlib.pyplot as plt\n",
    "var_name = 'tas'\n",
    "\n",
    "plt.plot(ps - gpp_climatology,label='pred')\n",
    "plt.plot(bs - gpp_climatology,label='actual')\n",
    "# plt.plot(climatology[:,surface_variables.index(var_name)],label='climatology')\n",
    "plt.title(f'global mean of {var_name}')\n",
    "\n",
    "plt.legend()\n",
    "#DOCUMENT THESE RESULTS METHODICALLY \n",
    "plt.savefig(f'{work}/{var_name}_plot')"
   ]
  },
  {
   "cell_type": "code",
   "execution_count": 8,
   "id": "83e64fc1-196f-4988-b424-7ba1c157f2ff",
   "metadata": {
    "tags": []
   },
   "outputs": [],
   "source": [
    "import xarray as xr\n",
    "ds = xr.open_dataset(test.files[0])\n",
    "shell = ds.isel(time=0)"
   ]
  },
  {
   "cell_type": "code",
   "execution_count": null,
   "id": "e98ce652-f737-4ed8-9845-cd86a5c6a5cb",
   "metadata": {
    "tags": []
   },
   "outputs": [],
   "source": [
    "import matplotlib.pyplot as plt\n",
    "import numpy as np\n",
    "\n",
    "for var in surface_variables:\n",
    "    var_index = surface_variables.index(var)\n",
    "    mae = np.abs(batch['next_state_surface'][0][var_index,:,:] - pred['next_state_surface'][0][var_index,:,:]).mean().item()\n",
    "    print(var,mae)"
   ]
  },
  {
   "cell_type": "code",
   "execution_count": 13,
   "id": "d098eb46-e086-4fef-af89-fb746053331c",
   "metadata": {
    "tags": []
   },
   "outputs": [],
   "source": [
    "var_index = surface_variables.index('nep')"
   ]
  },
  {
   "cell_type": "code",
   "execution_count": 14,
   "id": "04f316c8-0fe3-4551-8b63-7e3f0f543288",
   "metadata": {
    "tags": []
   },
   "outputs": [],
   "source": [
    "import numpy as np"
   ]
  },
  {
   "cell_type": "code",
   "execution_count": null,
   "id": "b8f7af9c-e4e0-4bb8-83c0-0561adf9ed73",
   "metadata": {
    "tags": []
   },
   "outputs": [],
   "source": [
    "shell['gpp'].data = np.abs(batch['next_state_surface'][0][var_index,:,:] - pred['next_state_surface'][0][var_index,:,:])\n",
    "shell['gpp'].plot.pcolormesh()\n",
    "plt.title('tas')\n"
   ]
  }
 ],
 "metadata": {
  "kernelspec": {
   "display_name": "My Custom Kernel",
   "language": "python",
   "name": "mycustomkernel"
  },
  "language_info": {
   "codemirror_mode": {
    "name": "ipython",
    "version": 3
   },
   "file_extension": ".py",
   "mimetype": "text/x-python",
   "name": "python",
   "nbconvert_exporter": "python",
   "pygments_lexer": "ipython3",
   "version": "3.11.0"
  }
 },
 "nbformat": 4,
 "nbformat_minor": 5
}
