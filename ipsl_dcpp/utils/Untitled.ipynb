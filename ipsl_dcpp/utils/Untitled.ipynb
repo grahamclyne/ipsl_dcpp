{
 "cells": [
  {
   "cell_type": "code",
   "execution_count": null,
   "id": "b67b15a1-e2a8-4934-bf88-35ddb8d81a28",
   "metadata": {
    "tags": []
   },
   "outputs": [],
   "source": [
    "import torch \n",
    "from ipsl_dcpp.model.ipsl_dataset import IPSL_DCPP\n",
    "from hydra import compose, initialize\n",
    "from omegaconf import OmegaConf\n",
    "import hydra\n",
    "import numpy as np\n",
    "with initialize(version_base=None, config_path=\"../conf\"):\n",
    "    cfg = compose(config_name=\"config\")\n",
    "train = IPSL_DCPP(\n",
    "    'train',\n",
    "    generate_statistics=True,\n",
    "    lead_time_months=1,\n",
    "    surface_variables=cfg.experiment.surface_variables,\n",
    "    depth_variables=cfg.experiment.depth_variables,\n",
    "    delta=False,\n",
    "    normalization=''\n",
    ")\n",
    "train_dataloader = torch.utils.data.DataLoader(train,batch_size=10,shuffle=True,)\n",
    "\n",
    "\n",
    "\n",
    "def z_normalize(data:np.ndarray,axes:tuple):\n",
    "    mean = np.nanmean(data,axis=axes,keepdims=True)\n",
    "    std_dev = np.nanstd(data,axis=axes,keepdims=True)\n",
    "    # mean = np.broadcast_to(mean,data.shape)\n",
    "    # std_dev = np.broadcast_to(std_dev,data.shape)\n",
    "    # standardized_data = (data - mean) / std_dev\n",
    "    return mean,std_dev\n",
    "\n",
    "surface_means = []\n",
    "#plev_means = []\n",
    "depth_means =[]\n",
    "\n",
    "surface_stds = []\n",
    "#plev_stds = []\n",
    "depth_stds = []\n",
    "\n",
    "# datas = []\n",
    "for count in range(100):\n",
    "    # x,y,t1,t2 = batch\n",
    "    batch = next(iter(train_dataloader))\n",
    "  #  print(surface.shape)\n",
    "    surface = batch['state_surface'].squeeze()\n",
    "    #plev = batch['state_level'].squeeze()\n",
    "    depth = batch['state_depth'].squeeze()\n",
    "    # datas.append(x)\n",
    "    print(count)\n",
    "   # print(surface.shape)\n",
    "  #  i_mean,i_std = z_normalize(surface.numpy(),(1,2))\n",
    "    print(surface.shape)\n",
    "    i_mean,i_std = z_normalize(surface.numpy(),(0))\n",
    "\n",
    "   # t_mean,t_std = z_normalize(plev.numpy(),(1,2,3))\n",
    "    #d_mean,d_std = z_normalize(depth.numpy(),(1,2,3))\n",
    "    d_mean,d_std = z_normalize(depth.numpy(),(0,1))\n",
    "    surface_means.append(i_mean)\n",
    "    surface_stds.append(i_std)\n",
    "   # plev_means.append(t_mean)\n",
    "   # plev_stds.append(t_std)\n",
    "    depth_means.append(d_mean)\n",
    "    depth_stds.append(d_std)\n",
    "print(len(surface_means))\n",
    "surface_means_out = np.nanmean(np.stack(surface_means),axis=0)\n",
    "surface_stds_out = np.nanmean(np.stack(surface_stds),axis=0)\n",
    "#plev_means_out = np.nanmean(np.array(plev_means),axis=0)\n",
    "#plev_stds_out = np.nanmean(np.array(plev_stds),axis=0)\n",
    "depth_means_out = np.nanmean(np.stack(depth_means),axis=0)\n",
    "depth_stds_out = np.nanmean(np.stack(depth_stds),axis=0)\n"
   ]
  },
  {
   "cell_type": "code",
   "execution_count": 9,
   "id": "6cae8e4b-b486-408d-8dd8-77ec858f54f5",
   "metadata": {
    "tags": []
   },
   "outputs": [],
   "source": [
    "import numpy as np\n",
    "\n",
    "surf_mean = np.load('../data/spatial_multi_var_surface_means.npy')"
   ]
  },
  {
   "cell_type": "code",
   "execution_count": 12,
   "id": "0358fbc6-32e2-4a6b-b783-bfea2e250a2d",
   "metadata": {
    "tags": []
   },
   "outputs": [
    {
     "data": {
      "text/plain": [
       "array([[222.13098, 222.13098, 222.13098, ..., 222.13098, 222.13098,\n",
       "        222.13098],\n",
       "       [225.41875, 225.3069 , 225.20682, ..., 225.64653, 225.54465,\n",
       "        225.5196 ],\n",
       "       [225.86147, 225.67654, 225.50385, ..., 226.36176, 226.21217,\n",
       "        226.02869],\n",
       "       ...,\n",
       "       [259.12234, 259.20468, 259.25854, ..., 258.92667, 259.02786,\n",
       "        259.08823],\n",
       "       [259.04004, 259.0749 , 259.1043 , ..., 258.96646, 258.9745 ,\n",
       "        258.98495],\n",
       "       [258.30215, 258.30215, 258.30215, ..., 258.30215, 258.30215,\n",
       "        258.30215]], dtype=float32)"
      ]
     },
     "execution_count": 12,
     "metadata": {},
     "output_type": "execute_result"
    }
   ],
   "source": [
    "surf_mean[0,50]"
   ]
  }
 ],
 "metadata": {
  "kernelspec": {
   "display_name": "My Custom Kernel",
   "language": "python",
   "name": "mycustomkernel"
  },
  "language_info": {
   "codemirror_mode": {
    "name": "ipython",
    "version": 3
   },
   "file_extension": ".py",
   "mimetype": "text/x-python",
   "name": "python",
   "nbconvert_exporter": "python",
   "pygments_lexer": "ipython3",
   "version": "3.11.0"
  }
 },
 "nbformat": 4,
 "nbformat_minor": 5
}
