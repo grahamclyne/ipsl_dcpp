{
 "cells": [
  {
   "cell_type": "code",
   "execution_count": null,
   "metadata": {},
   "outputs": [],
   "source": [
    "#make nice variable name list"
   ]
  },
  {
   "cell_type": "code",
   "execution_count": 1,
   "metadata": {},
   "outputs": [],
   "source": [
    "import pandas as pd \n",
    "import os \n",
    "scratch = os.environ['SCRATCH']\n",
    "amon = pd.read_excel(f'../CMIP6_MIP_tables.xlsx',sheet_name='Amon')\n",
    "lmon = pd.read_excel(f'../CMIP6_MIP_tables.xlsx',sheet_name='Lmon')\n",
    "emon = pd.read_excel(f'../CMIP6_MIP_tables.xlsx',sheet_name='Emon')"
   ]
  },
  {
   "cell_type": "code",
   "execution_count": 2,
   "metadata": {},
   "outputs": [],
   "source": [
    "df = pd.concat([amon,lmon,emon])"
   ]
  },
  {
   "cell_type": "code",
   "execution_count": 7,
   "metadata": {},
   "outputs": [
    {
     "name": "stderr",
     "output_type": "stream",
     "text": [
      "/tmp/xpython_377976/3034428442.py:6: UserWarning: \n",
      "The version_base parameter is not specified.\n",
      "Please specify a compatability version level, or None.\n",
      "Will assume defaults for version 1.1\n",
      "  with initialize_config_dir(config_dir=f\"{work}/ipsl_dcpp/ipsl_dcpp/conf\"):\n"
     ]
    }
   ],
   "source": [
    "from hydra import compose, initialize_config_dir\n",
    "from omegaconf import OmegaConf\n",
    "import hydra\n",
    "import os \n",
    "work = os.environ['WORK']\n",
    "with initialize_config_dir(config_dir=f\"{work}/ipsl_dcpp/ipsl_dcpp/conf\"):\n",
    "    cfg = compose(config_name=\"config\")"
   ]
  },
  {
   "cell_type": "code",
   "execution_count": 9,
   "metadata": {},
   "outputs": [],
   "source": [
    "variables = cfg.module.surface_variables + cfg.module.depth_variables + cfg.module.plev_variables\n",
    "    "
   ]
  },
  {
   "cell_type": "code",
   "execution_count": 10,
   "metadata": {},
   "outputs": [],
   "source": [
    "long_description = df[df['Variable Name'].isin(variables)]"
   ]
  },
  {
   "cell_type": "code",
   "execution_count": 12,
   "metadata": {},
   "outputs": [],
   "source": [
    "long_description[['Variable Name','Long name','description','units']].to_csv('variable_list.csv',index=False)"
   ]
  },
  {
   "cell_type": "code",
   "execution_count": null,
   "metadata": {},
   "outputs": [],
   "source": []
  }
 ],
 "metadata": {
  "kernelspec": {
   "display_name": "pytorch-gpu-2.2.0_py3.11.7",
   "language": "python",
   "name": "module-conda-env-pytorch-gpu-2.2.0_py3.11.7"
  },
  "language_info": {
   "file_extension": ".py",
   "mimetype": "text/x-python",
   "name": "python",
   "version": "3.11.7"
  }
 },
 "nbformat": 4,
 "nbformat_minor": 4
}
