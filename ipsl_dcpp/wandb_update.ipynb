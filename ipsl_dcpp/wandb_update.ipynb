{
 "cells": [
  {
   "cell_type": "code",
   "execution_count": 1,
   "id": "d491217e-9189-447f-a8de-ae32e6aab9dd",
   "metadata": {
    "tags": []
   },
   "outputs": [],
   "source": [
    "from lightning.pytorch.loggers import WandbLogger\n",
    "import os\n",
    "from hydra import compose, initialize\n",
    "from omegaconf import OmegaConf\n",
    "import omegaconf\n",
    "with initialize(version_base=None, config_path=\"conf\"):\n",
    "    cfg = compose(config_name=\"config\",overrides=[\"experiment=one_month_reduced_variable_v100\"])\n",
    "os.environ['WANDB_MODE'] = 'offline'\n",
    "os.environ['WANDB_API_KEY'] = 'c1f678c655920120ec68e1dc542a9f5bab02dbfa'\n",
    "\n",
    "conf = OmegaConf.to_container(\n",
    "    cfg.experiment, resolve=True, throw_on_missing=True\n",
    ")\n",
    "import wandb\n",
    "api = wandb.Api()\n",
    "run_name = 'w33q14x0'\n",
    "run = api.run(f\"gclyne/ipsl_dcpp_emulation/{run_name}\")\n"
   ]
  },
  {
   "cell_type": "code",
   "execution_count": 5,
   "id": "5c533950-66dc-4f33-bcdb-25ea9693e9d6",
   "metadata": {
    "tags": []
   },
   "outputs": [
    {
     "name": "stdout",
     "output_type": "stream",
     "text": [
      "name one_month_reduced_variable\n",
      "learning_rate 0.0001\n",
      "num_cpus_per_task 20\n",
      "lead_time_months 1\n",
      "num_gpus 1\n",
      "gpu_type v100\n",
      "train_batch_size 2\n",
      "val_batch_size 2\n",
      "max_epochs 100\n",
      "qos qos_gpu-t4\n",
      "slurm_time 00:25:00\n",
      "seed 0\n",
      "depth_multiplier 1\n",
      "train_dataset {'_target_': 'ipsl_dataset.IPSL_DCPP', 'domain': 'train', 'lead_time_months': 1}\n",
      "val_dataset {'_target_': 'ipsl_dataset.IPSL_DCPP', 'domain': 'val', 'lead_time_months': 1}\n",
      "module {'_target_': 'forecast.ForecastModule', 'delta': False, 'lr': 0.0001, 'weight_decay': 1e-05, 'num_warmup_steps': 500, 'num_training_steps': 300000, 'num_cycles': 0.5, 'betas': [0.9, 0.98]}\n",
      "backbone {'_target_': 'pangu.PanguWeather', 'soil': True, 'conv_head': True, 'lon_resolution': 144, 'lat_resolution': 143, 'emb_dim': 192, 'cond_dim': 256, 'num_heads': [6, 12, 12, 6], 'patch_size': [2, 2, 2], 'two_poles': False, 'window_size': [2, 6, 12], 'depth_multiplier': 2, 'position_embs_dim': 0, 'surface_ch': 91, 'level_ch': 0, 'depth_ch': 3, 'use_skip': False, 'delta': False}\n",
      "surface_variables ['c3PftFrac', 'c4PftFrac', 'cLeaf', 'cLitter', 'cProduct', 'cRoot', 'cVeg', 'mrsos', 'evspsblsoi', 'evspsblveg', 'fLitterSoil', 'fVegLitter', 'lai', 'mrfso', 'mrro', 'mrros', 'mrso', 'prveg', 'rGrowth', 'rMaint', 'ra', 'rh', 'tran', 'ci', 'clwvi', 'evspsbl', 'hfls', 'hfss', 'hurs', 'huss', 'pr', 'prc', 'prsn', 'prw', 'ps', 'psl', 'rlds', 'rldscs', 'rlus', 'rlut', 'rlutcs', 'rsds', 'rsdscs', 'rsdt', 'rsus', 'rsuscs', 'rsut', 'rsutcs', 'rtmt', 'sfcWind', 'tas', 'tasmax', 'tasmin', 'tauu', 'tauv', 'ts', 'uas', 'vas', 'cLand', 'cMisc', 'cOther', 'cSoil', 'cStem', 'cVegGrass', 'cVegTree', 'cWood', 'evspsblpot', 'fProductDecomp', 'intuadse', 'intuaw', 'intvadse', 'intvaw', 'mrlso', 'mrtws', 'prhmax', 'raGrass', 'raTree', 'rhGrass', 'rhLitter', 'rhSoil', 'rhTree', 'rls', 'rss', 'sconcdust', 'sconcso4', 'sconcss', 'sfcWindmax', 'npp', 'nbp', 'gpp', 'nep']\n",
      "depth_variables ['mrsfl', 'mrsol', 'mrsll']\n"
     ]
    }
   ],
   "source": [
    "for key,value in conf.items():\n",
    "    print(key,value)\n",
    "    run.config[key] = value\n",
    "run.name = run_name"
   ]
  },
  {
   "cell_type": "code",
   "execution_count": 7,
   "id": "952754c6-e499-43e9-b716-4e139061676c",
   "metadata": {},
   "outputs": [],
   "source": [
    "run.update()"
   ]
  }
 ],
 "metadata": {
  "kernelspec": {
   "display_name": "My Custom Kernel",
   "language": "python",
   "name": "mycustomkernel"
  },
  "language_info": {
   "codemirror_mode": {
    "name": "ipython",
    "version": 3
   },
   "file_extension": ".py",
   "mimetype": "text/x-python",
   "name": "python",
   "nbconvert_exporter": "python",
   "pygments_lexer": "ipython3",
   "version": "3.11.0"
  }
 },
 "nbformat": 4,
 "nbformat_minor": 5
}
