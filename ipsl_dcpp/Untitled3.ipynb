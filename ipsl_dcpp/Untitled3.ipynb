{
 "cells": [
  {
   "cell_type": "code",
   "execution_count": 5,
   "id": "d491217e-9189-447f-a8de-ae32e6aab9dd",
   "metadata": {
    "tags": []
   },
   "outputs": [],
   "source": [
    "from lightning.pytorch.loggers import WandbLogger\n",
    "import os\n",
    "from hydra import compose, initialize\n",
    "from omegaconf import OmegaConf\n",
    "\n",
    "with initialize(version_base=None, config_path=\"conf\"):\n",
    "    cfg = compose(config_name=\"config\",overrides=[\"experiment=one_month_reduced_variable_v100\"])\n",
    "os.environ['WANDB_MODE'] = 'offline'\n",
    "os.environ['WANDB_API_KEY'] = 'c1f678c655920120ec68e1dc542a9f5bab02dbfa'\n",
    "\n",
    "wandb_logger = WandbLogger(project=cfg.project_name,name=cfg.experiment.name,log_model=True)\n",
    "wandb_logger.config = OmegaConf.to_container(\n",
    "    cfg.experiment, resolve=True, throw_on_missing=True\n",
    ")"
   ]
  },
  {
   "cell_type": "code",
   "execution_count": 23,
   "id": "e71aa625-b6f9-436a-9d91-b244810498b1",
   "metadata": {
    "tags": []
   },
   "outputs": [],
   "source": [
    "import wandb\n",
    "api = wandb.Api()\n",
    "run = api.run(\"gclyne/ipsl_dcpp_emulation/e7xeexb1\")\n"
   ]
  },
  {
   "cell_type": "code",
   "execution_count": 26,
   "id": "baa6d454-5fe5-4daa-a028-28125811a92f",
   "metadata": {
    "tags": []
   },
   "outputs": [],
   "source": [
    "import omegaconf"
   ]
  },
  {
   "cell_type": "code",
   "execution_count": 27,
   "id": "5c533950-66dc-4f33-bcdb-25ea9693e9d6",
   "metadata": {
    "tags": []
   },
   "outputs": [
    {
     "name": "stdout",
     "output_type": "stream",
     "text": [
      "<class 'str'>\n",
      "<class 'float'>\n",
      "<class 'int'>\n",
      "<class 'int'>\n",
      "<class 'int'>\n",
      "<class 'str'>\n",
      "<class 'int'>\n",
      "<class 'int'>\n",
      "<class 'int'>\n",
      "<class 'str'>\n",
      "<class 'str'>\n",
      "<class 'int'>\n",
      "<class 'str'>\n",
      "<class 'int'>\n",
      "<class 'omegaconf.dictconfig.DictConfig'>\n",
      "<class 'omegaconf.dictconfig.DictConfig'>\n",
      "<class 'omegaconf.dictconfig.DictConfig'>\n",
      "<class 'omegaconf.dictconfig.DictConfig'>\n",
      "<class 'omegaconf.listconfig.ListConfig'>\n",
      "<class 'omegaconf.listconfig.ListConfig'>\n"
     ]
    }
   ],
   "source": [
    "for key,value in cfg.experiment.items():\n",
    "    print(type(value))\n",
    "    if(type(value) == omegaconf.dictconfig.DictConfig):\n",
    "        \n",
    "        run.config[key] = dict(value)\n",
    "    elif(type(value) == omegaconf.listconfig.ListConfig):\n",
    "        run.config[key] = list(value)"
   ]
  },
  {
   "cell_type": "code",
   "execution_count": null,
   "id": "952754c6-e499-43e9-b716-4e139061676c",
   "metadata": {},
   "outputs": [],
   "source": [
    "run.upload_file(\"file_name.extension\")"
   ]
  },
  {
   "cell_type": "code",
   "execution_count": 28,
   "id": "bad9df4b-6b50-40cf-9c22-5b51ece0dc01",
   "metadata": {
    "tags": []
   },
   "outputs": [],
   "source": [
    "run.update()"
   ]
  }
 ],
 "metadata": {
  "kernelspec": {
   "display_name": "My Custom Kernel",
   "language": "python",
   "name": "mycustomkernel"
  },
  "language_info": {
   "codemirror_mode": {
    "name": "ipython",
    "version": 3
   },
   "file_extension": ".py",
   "mimetype": "text/x-python",
   "name": "python",
   "nbconvert_exporter": "python",
   "pygments_lexer": "ipython3",
   "version": "3.11.0"
  }
 },
 "nbformat": 4,
 "nbformat_minor": 5
}
