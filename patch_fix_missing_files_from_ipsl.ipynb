{
 "cells": [
  {
   "cell_type": "code",
   "execution_count": 1,
   "id": "c0898b47-d3ad-48e8-a1ff-aadb45a6a717",
   "metadata": {
    "tags": []
   },
   "outputs": [],
   "source": [
    "import os\n",
    "import glob \n",
    "import shutil\n",
    "\n",
    "store = os.environ['STORE']\n"
   ]
  },
  {
   "cell_type": "code",
   "execution_count": 2,
   "id": "a5750e80-9c63-4eda-87eb-0af5c950e0ae",
   "metadata": {
    "tags": []
   },
   "outputs": [
    {
     "name": "stdout",
     "output_type": "stream",
     "text": [
      "/gpfsstore/rech/mlr/udy16au/s1984-r10i1p1f1/Emon/thetaot2000_Emon_IPSL-CM6A-LR_dcppA-hindcast_s1984-r10i1p1f1_gn_198501-199412.nc\n",
      "/gpfsstore/rech/mlr/udy16au/s1984-r10i1p1f1/Emon/thetaot2000_Emon_IPSL-CM6A-LR_dcppA-hindcast_s1984-r10i1p1f1_gn_198501-199412.nc/thetaot2000_Emon_IPSL-CM6A-LR_dcppA-hindcast_s1984-r10i1p1f1_gn_198501-199412.nc\n",
      "/gpfsstore/rech/mlr/udy16au/s1984-r10i1p1f1/Emon/tdps_Emon_IPSL-CM6A-LR_dcppA-hindcast_s1984-r10i1p1f1_gr_198501-199412.nc\n",
      "/gpfsstore/rech/mlr/udy16au/s1984-r10i1p1f1/Emon/tdps_Emon_IPSL-CM6A-LR_dcppA-hindcast_s1984-r10i1p1f1_gr_198501-199412.nc/tdps_Emon_IPSL-CM6A-LR_dcppA-hindcast_s1984-r10i1p1f1_gr_198501-199412.nc\n",
      "/gpfsstore/rech/mlr/udy16au/s1984-r10i1p1f1/Emon/fracLut_Emon_IPSL-CM6A-LR_dcppA-hindcast_s1984-r10i1p1f1_gr_198501-199412.nc\n",
      "/gpfsstore/rech/mlr/udy16au/s1984-r10i1p1f1/Emon/fracLut_Emon_IPSL-CM6A-LR_dcppA-hindcast_s1984-r10i1p1f1_gr_198501-199412.nc/fracLut_Emon_IPSL-CM6A-LR_dcppA-hindcast_s1984-r10i1p1f1_gr_198501-199412.nc\n",
      "/gpfsstore/rech/mlr/udy16au/s1984-r10i1p1f1/Emon/mrsll_Emon_IPSL-CM6A-LR_dcppA-hindcast_s1984-r10i1p1f1_gr_198501-199412.nc\n",
      "/gpfsstore/rech/mlr/udy16au/s1984-r10i1p1f1/Emon/mrsll_Emon_IPSL-CM6A-LR_dcppA-hindcast_s1984-r10i1p1f1_gr_198501-199412.nc/mrsll_Emon_IPSL-CM6A-LR_dcppA-hindcast_s1984-r10i1p1f1_gr_198501-199412.nc\n",
      "/gpfsstore/rech/mlr/udy16au/s1984-r10i1p1f1/Emon/expfe_Emon_IPSL-CM6A-LR_dcppA-hindcast_s1984-r10i1p1f1_gn_198501-199412.nc\n",
      "/gpfsstore/rech/mlr/udy16au/s1984-r10i1p1f1/Emon/expfe_Emon_IPSL-CM6A-LR_dcppA-hindcast_s1984-r10i1p1f1_gn_198501-199412.nc/expfe_Emon_IPSL-CM6A-LR_dcppA-hindcast_s1984-r10i1p1f1_gn_198501-199412.nc\n",
      "/gpfsstore/rech/mlr/udy16au/s1984-r10i1p1f1/Emon/mrsol_Emon_IPSL-CM6A-LR_dcppA-hindcast_s1984-r10i1p1f1_gr_198501-199412.nc\n",
      "/gpfsstore/rech/mlr/udy16au/s1984-r10i1p1f1/Emon/mrsol_Emon_IPSL-CM6A-LR_dcppA-hindcast_s1984-r10i1p1f1_gr_198501-199412.nc/mrsol_Emon_IPSL-CM6A-LR_dcppA-hindcast_s1984-r10i1p1f1_gr_198501-199412.nc\n",
      "/gpfsstore/rech/mlr/udy16au/s1984-r10i1p1f1/Emon/ppmisc_Emon_IPSL-CM6A-LR_dcppA-hindcast_s1984-r10i1p1f1_gn_198501-199412.nc\n",
      "/gpfsstore/rech/mlr/udy16au/s1984-r10i1p1f1/Emon/ppmisc_Emon_IPSL-CM6A-LR_dcppA-hindcast_s1984-r10i1p1f1_gn_198501-199412.nc/ppmisc_Emon_IPSL-CM6A-LR_dcppA-hindcast_s1984-r10i1p1f1_gn_198501-199412.nc\n",
      "/gpfsstore/rech/mlr/udy16au/s1984-r10i1p1f1/Emon/t20d_Emon_IPSL-CM6A-LR_dcppA-hindcast_s1984-r10i1p1f1_gn_198501-199412.nc\n",
      "/gpfsstore/rech/mlr/udy16au/s1984-r10i1p1f1/Emon/t20d_Emon_IPSL-CM6A-LR_dcppA-hindcast_s1984-r10i1p1f1_gn_198501-199412.nc/t20d_Emon_IPSL-CM6A-LR_dcppA-hindcast_s1984-r10i1p1f1_gn_198501-199412.nc\n",
      "/gpfsstore/rech/mlr/udy16au/s1984-r10i1p1f1/Emon/thetaot_Emon_IPSL-CM6A-LR_dcppA-hindcast_s1984-r10i1p1f1_gn_198501-199412.nc\n",
      "/gpfsstore/rech/mlr/udy16au/s1984-r10i1p1f1/Emon/thetaot_Emon_IPSL-CM6A-LR_dcppA-hindcast_s1984-r10i1p1f1_gn_198501-199412.nc/thetaot_Emon_IPSL-CM6A-LR_dcppA-hindcast_s1984-r10i1p1f1_gn_198501-199412.nc\n",
      "/gpfsstore/rech/mlr/udy16au/s1984-r10i1p1f1/Emon/flandice_Emon_IPSL-CM6A-LR_dcppA-hindcast_s1984-r10i1p1f1_gn_198501-199412.nc\n",
      "/gpfsstore/rech/mlr/udy16au/s1984-r10i1p1f1/Emon/flandice_Emon_IPSL-CM6A-LR_dcppA-hindcast_s1984-r10i1p1f1_gn_198501-199412.nc/flandice_Emon_IPSL-CM6A-LR_dcppA-hindcast_s1984-r10i1p1f1_gn_198501-199412.nc\n",
      "/gpfsstore/rech/mlr/udy16au/s1984-r10i1p1f1/Emon/ppdiat_Emon_IPSL-CM6A-LR_dcppA-hindcast_s1984-r10i1p1f1_gn_198501-199412.nc\n",
      "/gpfsstore/rech/mlr/udy16au/s1984-r10i1p1f1/Emon/ppdiat_Emon_IPSL-CM6A-LR_dcppA-hindcast_s1984-r10i1p1f1_gn_198501-199412.nc/ppdiat_Emon_IPSL-CM6A-LR_dcppA-hindcast_s1984-r10i1p1f1_gn_198501-199412.nc\n",
      "/gpfsstore/rech/mlr/udy16au/s1984-r10i1p1f1/Emon/thetaot700_Emon_IPSL-CM6A-LR_dcppA-hindcast_s1984-r10i1p1f1_gn_198501-199412.nc\n",
      "/gpfsstore/rech/mlr/udy16au/s1984-r10i1p1f1/Emon/thetaot700_Emon_IPSL-CM6A-LR_dcppA-hindcast_s1984-r10i1p1f1_gn_198501-199412.nc/thetaot700_Emon_IPSL-CM6A-LR_dcppA-hindcast_s1984-r10i1p1f1_gn_198501-199412.nc\n",
      "/gpfsstore/rech/mlr/udy16au/s1984-r10i1p1f1/Emon/thetaot300_Emon_IPSL-CM6A-LR_dcppA-hindcast_s1984-r10i1p1f1_gn_198501-199412.nc\n",
      "/gpfsstore/rech/mlr/udy16au/s1984-r10i1p1f1/Emon/thetaot300_Emon_IPSL-CM6A-LR_dcppA-hindcast_s1984-r10i1p1f1_gn_198501-199412.nc/thetaot300_Emon_IPSL-CM6A-LR_dcppA-hindcast_s1984-r10i1p1f1_gn_198501-199412.nc\n",
      "/gpfsstore/rech/mlr/udy16au/s1984-r10i1p1f1/Emon/nwdFracLut_Emon_IPSL-CM6A-LR_dcppA-hindcast_s1984-r10i1p1f1_gr_198501-199412.nc\n",
      "/gpfsstore/rech/mlr/udy16au/s1984-r10i1p1f1/Emon/nwdFracLut_Emon_IPSL-CM6A-LR_dcppA-hindcast_s1984-r10i1p1f1_gr_198501-199412.nc/nwdFracLut_Emon_IPSL-CM6A-LR_dcppA-hindcast_s1984-r10i1p1f1_gr_198501-199412.nc\n",
      "/gpfsstore/rech/mlr/udy16au/s1984-r10i1p1f1/Emon/mrsfl_Emon_IPSL-CM6A-LR_dcppA-hindcast_s1984-r10i1p1f1_gr_198501-199412.nc\n",
      "/gpfsstore/rech/mlr/udy16au/s1984-r10i1p1f1/Emon/mrsfl_Emon_IPSL-CM6A-LR_dcppA-hindcast_s1984-r10i1p1f1_gr_198501-199412.nc/mrsfl_Emon_IPSL-CM6A-LR_dcppA-hindcast_s1984-r10i1p1f1_gr_198501-199412.nc\n"
     ]
    }
   ],
   "source": [
    "for year in range (1983,1988):\n",
    "    for variant in range (1,11):\n",
    "        l = glob.glob(f'{store}/s{year}-r{variant}i1p1f1/Emon/*')\n",
    "        for path in l: \n",
    "            if os.path.isdir(path):\n",
    "                print(path)\n",
    "                file_name = path.split('/')[-1]\n",
    "                final_path = path + '/' + file_name\n",
    "                print(final_path)\n",
    "                shutil.copy(path + '/' + file_name,f'{store}/s{year}-r{variant}i1p1f1/Emon/temp.nc')\n",
    "                shutil.rmtree(path)\n",
    "                os.rename(f'{store}/s{year}-r{variant}i1p1f1/Emon/temp.nc',f'{store}/s{year}-r{variant}i1p1f1/Emon/{file_name}')\n",
    "                \n",
    "        \n",
    "    "
   ]
  },
  {
   "cell_type": "code",
   "execution_count": null,
   "id": "2f0cc7f5-6aea-4cd0-abce-353f3fe02ec1",
   "metadata": {},
   "outputs": [],
   "source": []
  }
 ],
 "metadata": {
  "kernelspec": {
   "display_name": "My Custom Kernel",
   "language": "python",
   "name": "mycustomkernel"
  },
  "language_info": {
   "codemirror_mode": {
    "name": "ipython",
    "version": 3
   },
   "file_extension": ".py",
   "mimetype": "text/x-python",
   "name": "python",
   "nbconvert_exporter": "python",
   "pygments_lexer": "ipython3",
   "version": "3.11.0"
  }
 },
 "nbformat": 4,
 "nbformat_minor": 5
}
