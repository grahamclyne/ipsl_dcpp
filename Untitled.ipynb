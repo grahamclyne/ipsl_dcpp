{
 "cells": [
  {
   "cell_type": "code",
   "execution_count": 1,
   "id": "f32805e7-cd2a-4ce2-b43d-e3e26e51305f",
   "metadata": {
    "tags": []
   },
   "outputs": [],
   "source": [
    "from train_hydra import main"
   ]
  },
  {
   "cell_type": "code",
   "execution_count": 2,
   "id": "e77b9df6-010f-46eb-b874-8fa25f896d7c",
   "metadata": {
    "tags": []
   },
   "outputs": [],
   "source": [
    "from hydra import compose, initialize\n",
    "from omegaconf import OmegaConf\n",
    "\n",
    "\n",
    "with initialize(version_base=None, config_path=\"conf\"):\n",
    "    cfg = compose(config_name=\"config\")\n"
   ]
  },
  {
   "cell_type": "code",
   "execution_count": 3,
   "id": "61f44486-b590-4c3d-a9c0-f1fdcd8f19a4",
   "metadata": {
    "tags": []
   },
   "outputs": [
    {
     "name": "stderr",
     "output_type": "stream",
     "text": [
      "sbatch: error: IDRIS: setting exclusive mode for the job.\n",
      "sbatch: error: Batch job submission failed: Requested node configuration is not available\n"
     ]
    },
    {
     "ename": "FailedJobError",
     "evalue": "sbatch: error: IDRIS: setting exclusive mode for the job.\nsbatch: error: Batch job submission failed: Requested node configuration is not available",
     "output_type": "error",
     "traceback": [
      "\u001b[0;31m---------------------------------------------------------------------------\u001b[0m",
      "\u001b[0;31mCalledProcessError\u001b[0m                        Traceback (most recent call last)",
      "\u001b[0;31mCalledProcessError\u001b[0m: Command '['sbatch', '/gpfswork/rech/mlr/udy16au/submitit_logs/6_month_lead_time_with_atmos_plev_and_surface_only_37/submission_file_a318f1ee50f44c969880db500f0ba07f.sh']' returned non-zero exit status 1.",
      "\nThe above exception was the direct cause of the following exception:\n",
      "\u001b[0;31mFailedJobError\u001b[0m                            Traceback (most recent call last)",
      "Cell \u001b[0;32mIn[3], line 1\u001b[0m\n\u001b[0;32m----> 1\u001b[0m \u001b[43mmain\u001b[49m\u001b[43m(\u001b[49m\u001b[43mcfg\u001b[49m\u001b[43m)\u001b[49m\n",
      "File \u001b[0;32m/gpfsdswork/projects/rech/mlr/udy16au/miniconda3/envs/env_gpu5/lib/python3.11/site-packages/hydra/main.py:83\u001b[0m, in \u001b[0;36mmain.<locals>.main_decorator.<locals>.decorated_main\u001b[0;34m(cfg_passthrough)\u001b[0m\n\u001b[1;32m     80\u001b[0m \u001b[38;5;129m@functools\u001b[39m\u001b[38;5;241m.\u001b[39mwraps(task_function)\n\u001b[1;32m     81\u001b[0m \u001b[38;5;28;01mdef\u001b[39;00m \u001b[38;5;21mdecorated_main\u001b[39m(cfg_passthrough: Optional[DictConfig] \u001b[38;5;241m=\u001b[39m \u001b[38;5;28;01mNone\u001b[39;00m) \u001b[38;5;241m-\u001b[39m\u001b[38;5;241m>\u001b[39m Any:\n\u001b[1;32m     82\u001b[0m     \u001b[38;5;28;01mif\u001b[39;00m cfg_passthrough \u001b[38;5;129;01mis\u001b[39;00m \u001b[38;5;129;01mnot\u001b[39;00m \u001b[38;5;28;01mNone\u001b[39;00m:\n\u001b[0;32m---> 83\u001b[0m         \u001b[38;5;28;01mreturn\u001b[39;00m \u001b[43mtask_function\u001b[49m\u001b[43m(\u001b[49m\u001b[43mcfg_passthrough\u001b[49m\u001b[43m)\u001b[49m\n\u001b[1;32m     84\u001b[0m     \u001b[38;5;28;01melse\u001b[39;00m:\n\u001b[1;32m     85\u001b[0m         args_parser \u001b[38;5;241m=\u001b[39m get_args_parser()\n",
      "File \u001b[0;32m/gpfsdswork/projects/rech/mlr/udy16au/ipsl_dcpp/train_hydra.py:131\u001b[0m, in \u001b[0;36mmain\u001b[0;34m(cfg)\u001b[0m\n\u001b[1;32m    116\u001b[0m \u001b[38;5;28;01melif\u001b[39;00m cfg\u001b[38;5;241m.\u001b[39menvironment\u001b[38;5;241m.\u001b[39mname \u001b[38;5;241m==\u001b[39m \u001b[38;5;124m'\u001b[39m\u001b[38;5;124mjean_zay\u001b[39m\u001b[38;5;124m'\u001b[39m \u001b[38;5;129;01mand\u001b[39;00m cfg\u001b[38;5;241m.\u001b[39mexperiment\u001b[38;5;241m.\u001b[39mgpu_type \u001b[38;5;241m==\u001b[39m \u001b[38;5;124m'\u001b[39m\u001b[38;5;124mv100\u001b[39m\u001b[38;5;124m'\u001b[39m: \u001b[38;5;66;03m# run on jean zay a100\u001b[39;00m\n\u001b[1;32m    117\u001b[0m     aex\u001b[38;5;241m.\u001b[39mupdate_parameters(tasks_per_node\u001b[38;5;241m=\u001b[39mcfg\u001b[38;5;241m.\u001b[39mexperiment\u001b[38;5;241m.\u001b[39mnum_gpus, \n\u001b[1;32m    118\u001b[0m                              nodes\u001b[38;5;241m=\u001b[39m\u001b[38;5;241m1\u001b[39m, \n\u001b[1;32m    119\u001b[0m                              gpus_per_node\u001b[38;5;241m=\u001b[39mcfg\u001b[38;5;241m.\u001b[39mexperiment\u001b[38;5;241m.\u001b[39mnum_gpus, \n\u001b[0;32m   (...)\u001b[0m\n\u001b[1;32m    128\u001b[0m                             \u001b[38;5;66;03m# slurm_'nomultithread'\u001b[39;00m\n\u001b[1;32m    129\u001b[0m                          )\n\u001b[0;32m--> 131\u001b[0m \u001b[43maex\u001b[49m\u001b[38;5;241;43m.\u001b[39;49m\u001b[43msubmit\u001b[49m\u001b[43m(\u001b[49m\u001b[43mtrain\u001b[49m\u001b[43m,\u001b[49m\u001b[43m \u001b[49m\u001b[43mcfg\u001b[49m\u001b[43m)\u001b[49m\n",
      "File \u001b[0;32m/gpfsdswork/projects/rech/mlr/udy16au/miniconda3/envs/env_gpu5/lib/python3.11/site-packages/submitit/core/core.py:734\u001b[0m, in \u001b[0;36mExecutor.submit\u001b[0;34m(self, fn, *args, **kwargs)\u001b[0m\n\u001b[1;32m    732\u001b[0m     \u001b[38;5;28mself\u001b[39m\u001b[38;5;241m.\u001b[39m_delayed_batch\u001b[38;5;241m.\u001b[39mappend((job, ds))\n\u001b[1;32m    733\u001b[0m \u001b[38;5;28;01melse\u001b[39;00m:\n\u001b[0;32m--> 734\u001b[0m     job \u001b[38;5;241m=\u001b[39m \u001b[38;5;28;43mself\u001b[39;49m\u001b[38;5;241;43m.\u001b[39;49m\u001b[43m_internal_process_submissions\u001b[49m\u001b[43m(\u001b[49m\u001b[43m[\u001b[49m\u001b[43mds\u001b[49m\u001b[43m]\u001b[49m\u001b[43m)\u001b[49m[\u001b[38;5;241m0\u001b[39m]\n\u001b[1;32m    735\u001b[0m \u001b[38;5;28;01mif\u001b[39;00m \u001b[38;5;28mtype\u001b[39m(job) \u001b[38;5;129;01mis\u001b[39;00m Job:  \u001b[38;5;66;03m# pylint: disable=unidiomatic-typecheck\u001b[39;00m\n\u001b[1;32m    736\u001b[0m     \u001b[38;5;28;01mraise\u001b[39;00m \u001b[38;5;167;01mRuntimeError\u001b[39;00m(\u001b[38;5;124m\"\u001b[39m\u001b[38;5;124mExecutors should never return a base Job class (implementation issue)\u001b[39m\u001b[38;5;124m\"\u001b[39m)\n",
      "File \u001b[0;32m/gpfsdswork/projects/rech/mlr/udy16au/miniconda3/envs/env_gpu5/lib/python3.11/site-packages/submitit/auto/auto.py:218\u001b[0m, in \u001b[0;36mAutoExecutor._internal_process_submissions\u001b[0;34m(self, delayed_submissions)\u001b[0m\n\u001b[1;32m    215\u001b[0m \u001b[38;5;28;01mdef\u001b[39;00m \u001b[38;5;21m_internal_process_submissions\u001b[39m(\n\u001b[1;32m    216\u001b[0m     \u001b[38;5;28mself\u001b[39m, delayed_submissions: tp\u001b[38;5;241m.\u001b[39mList[DelayedSubmission]\n\u001b[1;32m    217\u001b[0m ) \u001b[38;5;241m-\u001b[39m\u001b[38;5;241m>\u001b[39m tp\u001b[38;5;241m.\u001b[39mList[Job[tp\u001b[38;5;241m.\u001b[39mAny]]:\n\u001b[0;32m--> 218\u001b[0m     \u001b[38;5;28;01mreturn\u001b[39;00m \u001b[38;5;28;43mself\u001b[39;49m\u001b[38;5;241;43m.\u001b[39;49m\u001b[43m_executor\u001b[49m\u001b[38;5;241;43m.\u001b[39;49m\u001b[43m_internal_process_submissions\u001b[49m\u001b[43m(\u001b[49m\u001b[43mdelayed_submissions\u001b[49m\u001b[43m)\u001b[49m\n",
      "File \u001b[0;32m/gpfsdswork/projects/rech/mlr/udy16au/miniconda3/envs/env_gpu5/lib/python3.11/site-packages/submitit/slurm/slurm.py:317\u001b[0m, in \u001b[0;36mSlurmExecutor._internal_process_submissions\u001b[0;34m(self, delayed_submissions)\u001b[0m\n\u001b[1;32m    313\u001b[0m \u001b[38;5;28;01mdef\u001b[39;00m \u001b[38;5;21m_internal_process_submissions\u001b[39m(\n\u001b[1;32m    314\u001b[0m     \u001b[38;5;28mself\u001b[39m, delayed_submissions: tp\u001b[38;5;241m.\u001b[39mList[utils\u001b[38;5;241m.\u001b[39mDelayedSubmission]\n\u001b[1;32m    315\u001b[0m ) \u001b[38;5;241m-\u001b[39m\u001b[38;5;241m>\u001b[39m tp\u001b[38;5;241m.\u001b[39mList[core\u001b[38;5;241m.\u001b[39mJob[tp\u001b[38;5;241m.\u001b[39mAny]]:\n\u001b[1;32m    316\u001b[0m     \u001b[38;5;28;01mif\u001b[39;00m \u001b[38;5;28mlen\u001b[39m(delayed_submissions) \u001b[38;5;241m==\u001b[39m \u001b[38;5;241m1\u001b[39m:\n\u001b[0;32m--> 317\u001b[0m         \u001b[38;5;28;01mreturn\u001b[39;00m \u001b[38;5;28;43msuper\u001b[39;49m\u001b[43m(\u001b[49m\u001b[43m)\u001b[49m\u001b[38;5;241;43m.\u001b[39;49m\u001b[43m_internal_process_submissions\u001b[49m\u001b[43m(\u001b[49m\u001b[43mdelayed_submissions\u001b[49m\u001b[43m)\u001b[49m\n\u001b[1;32m    318\u001b[0m     \u001b[38;5;66;03m# array\u001b[39;00m\n\u001b[1;32m    319\u001b[0m     folder \u001b[38;5;241m=\u001b[39m utils\u001b[38;5;241m.\u001b[39mJobPaths\u001b[38;5;241m.\u001b[39mget_first_id_independent_folder(\u001b[38;5;28mself\u001b[39m\u001b[38;5;241m.\u001b[39mfolder)\n",
      "File \u001b[0;32m/gpfsdswork/projects/rech/mlr/udy16au/miniconda3/envs/env_gpu5/lib/python3.11/site-packages/submitit/core/core.py:893\u001b[0m, in \u001b[0;36mPicklingExecutor._internal_process_submissions\u001b[0;34m(self, delayed_submissions)\u001b[0m\n\u001b[1;32m    891\u001b[0m \u001b[38;5;28mself\u001b[39m\u001b[38;5;241m.\u001b[39m_throttle()\n\u001b[1;32m    892\u001b[0m \u001b[38;5;28mself\u001b[39m\u001b[38;5;241m.\u001b[39m_last_job_submitted \u001b[38;5;241m=\u001b[39m _time\u001b[38;5;241m.\u001b[39mtime()\n\u001b[0;32m--> 893\u001b[0m job \u001b[38;5;241m=\u001b[39m \u001b[38;5;28;43mself\u001b[39;49m\u001b[38;5;241;43m.\u001b[39;49m\u001b[43m_submit_command\u001b[49m\u001b[43m(\u001b[49m\u001b[38;5;28;43mself\u001b[39;49m\u001b[38;5;241;43m.\u001b[39;49m\u001b[43m_submitit_command_str\u001b[49m\u001b[43m)\u001b[49m\n\u001b[1;32m    894\u001b[0m job\u001b[38;5;241m.\u001b[39mpaths\u001b[38;5;241m.\u001b[39mmove_temporary_file(pickle_path, \u001b[38;5;124m\"\u001b[39m\u001b[38;5;124msubmitted_pickle\u001b[39m\u001b[38;5;124m\"\u001b[39m)\n\u001b[1;32m    895\u001b[0m jobs\u001b[38;5;241m.\u001b[39mappend(job)\n",
      "File \u001b[0;32m/gpfsdswork/projects/rech/mlr/udy16au/miniconda3/envs/env_gpu5/lib/python3.11/site-packages/submitit/core/core.py:934\u001b[0m, in \u001b[0;36mPicklingExecutor._submit_command\u001b[0;34m(self, command)\u001b[0m\n\u001b[1;32m    932\u001b[0m command_list \u001b[38;5;241m=\u001b[39m \u001b[38;5;28mself\u001b[39m\u001b[38;5;241m.\u001b[39m_make_submission_command(submission_file_path)\n\u001b[1;32m    933\u001b[0m \u001b[38;5;66;03m# run\u001b[39;00m\n\u001b[0;32m--> 934\u001b[0m output \u001b[38;5;241m=\u001b[39m \u001b[43mutils\u001b[49m\u001b[38;5;241;43m.\u001b[39;49m\u001b[43mCommandFunction\u001b[49m\u001b[43m(\u001b[49m\u001b[43mcommand_list\u001b[49m\u001b[43m,\u001b[49m\u001b[43m \u001b[49m\u001b[43mverbose\u001b[49m\u001b[38;5;241;43m=\u001b[39;49m\u001b[38;5;28;43;01mFalse\u001b[39;49;00m\u001b[43m)\u001b[49m\u001b[43m(\u001b[49m\u001b[43m)\u001b[49m  \u001b[38;5;66;03m# explicit errors\u001b[39;00m\n\u001b[1;32m    935\u001b[0m job_id \u001b[38;5;241m=\u001b[39m \u001b[38;5;28mself\u001b[39m\u001b[38;5;241m.\u001b[39m_get_job_id_from_submission_command(output)\n\u001b[1;32m    936\u001b[0m tasks_ids \u001b[38;5;241m=\u001b[39m \u001b[38;5;28mlist\u001b[39m(\u001b[38;5;28mrange\u001b[39m(\u001b[38;5;28mself\u001b[39m\u001b[38;5;241m.\u001b[39m_num_tasks()))\n",
      "File \u001b[0;32m/gpfsdswork/projects/rech/mlr/udy16au/miniconda3/envs/env_gpu5/lib/python3.11/site-packages/submitit/core/utils.py:354\u001b[0m, in \u001b[0;36mCommandFunction.__call__\u001b[0;34m(self, *args, **kwargs)\u001b[0m\n\u001b[1;32m    350\u001b[0m     \u001b[38;5;28;01mif\u001b[39;00m retcode:\n\u001b[1;32m    351\u001b[0m         subprocess_error \u001b[38;5;241m=\u001b[39m subprocess\u001b[38;5;241m.\u001b[39mCalledProcessError(\n\u001b[1;32m    352\u001b[0m             retcode, process\u001b[38;5;241m.\u001b[39margs, output\u001b[38;5;241m=\u001b[39mstdout, stderr\u001b[38;5;241m=\u001b[39mstderr\n\u001b[1;32m    353\u001b[0m         )\n\u001b[0;32m--> 354\u001b[0m         \u001b[38;5;28;01mraise\u001b[39;00m FailedJobError(stderr) \u001b[38;5;28;01mfrom\u001b[39;00m \u001b[38;5;21;01msubprocess_error\u001b[39;00m\n\u001b[1;32m    355\u001b[0m \u001b[38;5;28;01mreturn\u001b[39;00m stdout\n",
      "\u001b[0;31mFailedJobError\u001b[0m: sbatch: error: IDRIS: setting exclusive mode for the job.\nsbatch: error: Batch job submission failed: Requested node configuration is not available"
     ]
    }
   ],
   "source": [
    "main(cfg)"
   ]
  }
 ],
 "metadata": {
  "kernelspec": {
   "display_name": "My Custom Kernel",
   "language": "python",
   "name": "mycustomkernel"
  },
  "language_info": {
   "codemirror_mode": {
    "name": "ipython",
    "version": 3
   },
   "file_extension": ".py",
   "mimetype": "text/x-python",
   "name": "python",
   "nbconvert_exporter": "python",
   "pygments_lexer": "ipython3",
   "version": "3.11.0"
  }
 },
 "nbformat": 4,
 "nbformat_minor": 5
}
