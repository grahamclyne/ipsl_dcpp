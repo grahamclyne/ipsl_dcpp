{
 "cells": [
  {
   "cell_type": "code",
   "execution_count": null,
   "id": "c1b3d90a-102b-40f0-b14b-54b2b746d9c6",
   "metadata": {
    "tags": []
   },
   "outputs": [],
   "source": [
    "from ipsl_dataset import IPSL_DCPP\n",
    "import torch\n",
    "train = IPSL_DCPP('train',generate_statistics=True)\n",
    "train_dataloader = torch.utils.data.DataLoader(train,batch_size=1,shuffle=True,num_workers=1)\n",
    "batch = next(iter(train_dataloader))"
   ]
  },
  {
   "cell_type": "code",
   "execution_count": null,
   "id": "4d4b1c7e-e498-4859-aace-93d91bf0b860",
   "metadata": {
    "tags": []
   },
   "outputs": [],
   "source": [
    "from pangu import PanguWeather\n",
    "model = PanguWeather()"
   ]
  },
  {
   "cell_type": "code",
   "execution_count": null,
   "id": "e1746bab-e12b-409c-885b-94827346cd2c",
   "metadata": {
    "tags": []
   },
   "outputs": [],
   "source": [
    "out = model.forward(batch)"
   ]
  },
  {
   "cell_type": "code",
   "execution_count": null,
   "id": "804acb11-428f-4fd2-bd22-63d8a492503a",
   "metadata": {},
   "outputs": [],
   "source": [
    "out"
   ]
  }
 ],
 "metadata": {
  "kernelspec": {
   "display_name": "My Custom Kernel",
   "language": "python",
   "name": "mycustomkernel"
  },
  "language_info": {
   "codemirror_mode": {
    "name": "ipython",
    "version": 3
   },
   "file_extension": ".py",
   "mimetype": "text/x-python",
   "name": "python",
   "nbconvert_exporter": "python",
   "pygments_lexer": "ipython3",
   "version": "3.11.0"
  }
 },
 "nbformat": 4,
 "nbformat_minor": 5
}
