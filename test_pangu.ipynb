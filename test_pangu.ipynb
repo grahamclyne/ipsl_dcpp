{
 "cells": [
  {
   "cell_type": "code",
   "execution_count": 1,
   "id": "c1b3d90a-102b-40f0-b14b-54b2b746d9c6",
   "metadata": {
    "tags": []
   },
   "outputs": [],
   "source": [
    "from ipsl_dataset import IPSL_DCPP\n",
    "import torch\n",
    "train = IPSL_DCPP('train',generate_statistics=False,lead_time_months=5*12)\n",
    "train_dataloader = torch.utils.data.DataLoader(train,batch_size=1,shuffle=True,num_workers=1,)\n"
   ]
  },
  {
   "cell_type": "code",
   "execution_count": 2,
   "id": "4d4b1c7e-e498-4859-aace-93d91bf0b860",
   "metadata": {
    "tags": []
   },
   "outputs": [
    {
     "name": "stderr",
     "output_type": "stream",
     "text": [
      "/gpfsdswork/projects/rech/mlr/udy16au/miniconda3/envs/env_gpu5/lib/python3.11/site-packages/tqdm/auto.py:21: TqdmWarning: IProgress not found. Please update jupyter and ipywidgets. See https://ipywidgets.readthedocs.io/en/stable/user_install.html\n",
      "  from .autonotebook import tqdm as notebook_tqdm\n",
      "/gpfsdswork/projects/rech/mlr/udy16au/miniconda3/envs/env_gpu5/lib/python3.11/site-packages/torch/functional.py:504: UserWarning: torch.meshgrid: in an upcoming release, it will be required to pass the indexing argument. (Triggered internally at ../aten/src/ATen/native/TensorShape.cpp:3526.)\n",
      "  return _VF.meshgrid(tensors, **kwargs)  # type: ignore[attr-defined]\n"
     ]
    }
   ],
   "source": [
    "from pangu import PanguWeather\n",
    "model = PanguWeather(soil=True)"
   ]
  },
  {
   "cell_type": "code",
   "execution_count": 3,
   "id": "34647ad7-d404-48c8-9f5c-29a47e381a4c",
   "metadata": {
    "tags": []
   },
   "outputs": [],
   "source": [
    "from hydra import compose, initialize\n",
    "from omegaconf import OmegaConf\n",
    "\n",
    "\n",
    "with initialize(version_base=None, config_path=\"conf\"):\n",
    "    cfg = compose(config_name=\"config\")\n"
   ]
  },
  {
   "cell_type": "code",
   "execution_count": 4,
   "id": "bd40311e-b7b6-4514-9ba3-f09df1d430cb",
   "metadata": {
    "tags": []
   },
   "outputs": [],
   "source": [
    "train_dataloader = torch.utils.data.DataLoader(IPSL_DCPP('train',cfg.experiment.lead_time_months),batch_size=1,shuffle=False,num_workers=1)\n",
    "batch = next(iter(train_dataloader))"
   ]
  },
  {
   "cell_type": "code",
   "execution_count": null,
   "id": "e1746bab-e12b-409c-885b-94827346cd2c",
   "metadata": {
    "tags": []
   },
   "outputs": [],
   "source": [
    "out = model.forward(batch)"
   ]
  }
 ],
 "metadata": {
  "kernelspec": {
   "display_name": "My Custom Kernel",
   "language": "python",
   "name": "mycustomkernel"
  },
  "language_info": {
   "codemirror_mode": {
    "name": "ipython",
    "version": 3
   },
   "file_extension": ".py",
   "mimetype": "text/x-python",
   "name": "python",
   "nbconvert_exporter": "python",
   "pygments_lexer": "ipython3",
   "version": "3.11.0"
  }
 },
 "nbformat": 4,
 "nbformat_minor": 5
}
