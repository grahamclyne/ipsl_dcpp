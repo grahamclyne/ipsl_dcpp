{
 "cells": [
  {
   "cell_type": "code",
   "execution_count": 1,
   "id": "c1b3d90a-102b-40f0-b14b-54b2b746d9c6",
   "metadata": {
    "tags": []
   },
   "outputs": [],
   "source": [
    "from ipsl_dataset import IPSL_DCPP\n",
    "import torch\n",
    "train = IPSL_DCPP('train',generate_statistics=True)\n",
    "train_dataloader = torch.utils.data.DataLoader(train,batch_size=1,shuffle=True,num_workers=1)\n",
    "batch = next(iter(train_dataloader))"
   ]
  },
  {
   "cell_type": "code",
   "execution_count": 2,
   "id": "4d4b1c7e-e498-4859-aace-93d91bf0b860",
   "metadata": {
    "tags": []
   },
   "outputs": [
    {
     "name": "stderr",
     "output_type": "stream",
     "text": [
      "/gpfsdswork/projects/rech/mlr/udy16au/miniconda3/envs/env_gpu4/lib/python3.11/site-packages/tqdm/auto.py:21: TqdmWarning: IProgress not found. Please update jupyter and ipywidgets. See https://ipywidgets.readthedocs.io/en/stable/user_install.html\n",
      "  from .autonotebook import tqdm as notebook_tqdm\n",
      "/gpfsdswork/projects/rech/mlr/udy16au/miniconda3/envs/env_gpu4/lib/python3.11/site-packages/torch/functional.py:504: UserWarning: torch.meshgrid: in an upcoming release, it will be required to pass the indexing argument. (Triggered internally at /home/conda/feedstock_root/build_artifacts/libtorch_1705513624012/work/aten/src/ATen/native/TensorShape.cpp:3526.)\n",
      "  return _VF.meshgrid(tensors, **kwargs)  # type: ignore[attr-defined]\n"
     ]
    }
   ],
   "source": [
    "from pangu import PanguWeather\n",
    "model = PanguWeather()"
   ]
  },
  {
   "cell_type": "code",
   "execution_count": 3,
   "id": "e1746bab-e12b-409c-885b-94827346cd2c",
   "metadata": {
    "tags": []
   },
   "outputs": [
    {
     "name": "stdout",
     "output_type": "stream",
     "text": [
      "surface dims torch.Size([1, 135, 143, 144])\n",
      "plev dims torch.Size([1, 8, 19, 143, 144])\n",
      "embedded surface shape torch.Size([1, 192, 36, 36])\n",
      "embedded upper_air shape torch.Size([1, 192, 10, 36, 36])\n",
      "after concat torch.Size([1, 192, 11, 36, 36])\n",
      "right before layer1 torch.Size([1, 14256, 192])\n",
      "in earth specific block\n",
      "input resol (11, 36, 36)\n",
      "x shape torch.Size([1, 14256, 192])\n",
      "RAM Used (GB): 28.142706688\n",
      "in earth specific block\n",
      "input resol (11, 36, 36)\n",
      "x shape torch.Size([1, 14256, 192])\n",
      "RAM Used (GB): 27.887407104\n",
      "downsampled torch.Size([1, 3564, 384])\n",
      "in earth specific block\n",
      "input resol (11, 18, 18)\n",
      "x shape torch.Size([1, 3564, 384])\n",
      "RAM Used (GB): 28.175425536\n",
      "in earth specific block\n",
      "input resol (11, 18, 18)\n",
      "x shape torch.Size([1, 3564, 384])\n",
      "RAM Used (GB): 28.422336512\n",
      "in earth specific block\n",
      "input resol (11, 18, 18)\n",
      "x shape torch.Size([1, 3564, 384])\n",
      "RAM Used (GB): 28.4603392\n",
      "in earth specific block\n",
      "input resol (11, 18, 18)\n",
      "x shape torch.Size([1, 3564, 384])\n",
      "RAM Used (GB): 28.579270656\n",
      "in earth specific block\n",
      "input resol (11, 18, 18)\n",
      "x shape torch.Size([1, 3564, 384])\n",
      "RAM Used (GB): 28.890435584\n",
      "in earth specific block\n",
      "input resol (11, 18, 18)\n",
      "x shape torch.Size([1, 3564, 384])\n",
      "RAM Used (GB): 28.705742848\n",
      "in earth specific block\n",
      "input resol (11, 18, 18)\n",
      "x shape torch.Size([1, 3564, 384])\n",
      "RAM Used (GB): 29.272653824\n",
      "in earth specific block\n",
      "input resol (11, 18, 18)\n",
      "x shape torch.Size([1, 3564, 384])\n",
      "RAM Used (GB): 29.074939904\n",
      "in earth specific block\n",
      "input resol (11, 18, 18)\n",
      "x shape torch.Size([1, 3564, 384])\n",
      "RAM Used (GB): 29.947314176\n",
      "in earth specific block\n",
      "input resol (11, 18, 18)\n",
      "x shape torch.Size([1, 3564, 384])\n",
      "RAM Used (GB): 30.00455168\n",
      "in earth specific block\n",
      "input resol (11, 18, 18)\n",
      "x shape torch.Size([1, 3564, 384])\n",
      "RAM Used (GB): 29.865938944\n",
      "in earth specific block\n",
      "input resol (11, 18, 18)\n",
      "x shape torch.Size([1, 3564, 384])\n",
      "RAM Used (GB): 29.881872384\n",
      "after layer3 torch.Size([1, 3564, 384])\n",
      "in earth specific block\n",
      "input resol (11, 36, 36)\n",
      "x shape torch.Size([1, 14256, 192])\n",
      "RAM Used (GB): 29.689184256\n",
      "in earth specific block\n",
      "input resol (11, 36, 36)\n",
      "x shape torch.Size([1, 14256, 192])\n",
      "RAM Used (GB): 29.953449984\n",
      "output shape torch.Size([1, 264, 8, 36, 36])\n",
      "output_surface_shape torch.Size([1, 264, 36, 36])\n",
      "output_upper_air torch.Size([1, 264, 7, 36, 36])\n"
     ]
    },
    {
     "ename": "RuntimeError",
     "evalue": "Given transposed=1, weight of size [192, 4, 4, 4], expected input[1, 264, 36, 36] to have 192 channels, but got 264 channels instead",
     "output_type": "error",
     "traceback": [
      "\u001b[0;31m---------------------------------------------------------------------------\u001b[0m",
      "\u001b[0;31mRuntimeError\u001b[0m                              Traceback (most recent call last)",
      "Cell \u001b[0;32mIn[3], line 1\u001b[0m\n\u001b[0;32m----> 1\u001b[0m \u001b[43mmodel\u001b[49m\u001b[38;5;241;43m.\u001b[39;49m\u001b[43mforward\u001b[49m\u001b[43m(\u001b[49m\u001b[43mbatch\u001b[49m\u001b[43m)\u001b[49m\n",
      "File \u001b[0;32m/gpfsdswork/projects/rech/mlr/udy16au/ipsl_dcpp/pangu.py:329\u001b[0m, in \u001b[0;36mPanguWeather.forward\u001b[0;34m(self, batch, **kwargs)\u001b[0m\n\u001b[1;32m    327\u001b[0m \u001b[38;5;28mprint\u001b[39m(\u001b[38;5;124m'\u001b[39m\u001b[38;5;124moutput_surface_shape\u001b[39m\u001b[38;5;124m'\u001b[39m,output_surface\u001b[38;5;241m.\u001b[39mshape)\n\u001b[1;32m    328\u001b[0m \u001b[38;5;28mprint\u001b[39m(\u001b[38;5;124m'\u001b[39m\u001b[38;5;124moutput_upper_air\u001b[39m\u001b[38;5;124m'\u001b[39m,output_upper_air\u001b[38;5;241m.\u001b[39mshape)\n\u001b[0;32m--> 329\u001b[0m output_surface \u001b[38;5;241m=\u001b[39m \u001b[38;5;28;43mself\u001b[39;49m\u001b[38;5;241;43m.\u001b[39;49m\u001b[43mpatchrecovery2d\u001b[49m\u001b[43m(\u001b[49m\u001b[43moutput_surface\u001b[49m\u001b[43m)\u001b[49m\n\u001b[1;32m    330\u001b[0m output_level \u001b[38;5;241m=\u001b[39m \u001b[38;5;28mself\u001b[39m\u001b[38;5;241m.\u001b[39mpatchrecovery3d(output_upper_air)\n\u001b[1;32m    332\u001b[0m output_surface \u001b[38;5;241m=\u001b[39m output_surface\u001b[38;5;241m.\u001b[39munsqueeze(\u001b[38;5;241m-\u001b[39m\u001b[38;5;241m3\u001b[39m)\n",
      "File \u001b[0;32m/gpfsdswork/projects/rech/mlr/udy16au/miniconda3/envs/env_gpu4/lib/python3.11/site-packages/torch/nn/modules/module.py:1518\u001b[0m, in \u001b[0;36mModule._wrapped_call_impl\u001b[0;34m(self, *args, **kwargs)\u001b[0m\n\u001b[1;32m   1516\u001b[0m     \u001b[38;5;28;01mreturn\u001b[39;00m \u001b[38;5;28mself\u001b[39m\u001b[38;5;241m.\u001b[39m_compiled_call_impl(\u001b[38;5;241m*\u001b[39margs, \u001b[38;5;241m*\u001b[39m\u001b[38;5;241m*\u001b[39mkwargs)  \u001b[38;5;66;03m# type: ignore[misc]\u001b[39;00m\n\u001b[1;32m   1517\u001b[0m \u001b[38;5;28;01melse\u001b[39;00m:\n\u001b[0;32m-> 1518\u001b[0m     \u001b[38;5;28;01mreturn\u001b[39;00m \u001b[38;5;28;43mself\u001b[39;49m\u001b[38;5;241;43m.\u001b[39;49m\u001b[43m_call_impl\u001b[49m\u001b[43m(\u001b[49m\u001b[38;5;241;43m*\u001b[39;49m\u001b[43margs\u001b[49m\u001b[43m,\u001b[49m\u001b[43m \u001b[49m\u001b[38;5;241;43m*\u001b[39;49m\u001b[38;5;241;43m*\u001b[39;49m\u001b[43mkwargs\u001b[49m\u001b[43m)\u001b[49m\n",
      "File \u001b[0;32m/gpfsdswork/projects/rech/mlr/udy16au/miniconda3/envs/env_gpu4/lib/python3.11/site-packages/torch/nn/modules/module.py:1527\u001b[0m, in \u001b[0;36mModule._call_impl\u001b[0;34m(self, *args, **kwargs)\u001b[0m\n\u001b[1;32m   1522\u001b[0m \u001b[38;5;66;03m# If we don't have any hooks, we want to skip the rest of the logic in\u001b[39;00m\n\u001b[1;32m   1523\u001b[0m \u001b[38;5;66;03m# this function, and just call forward.\u001b[39;00m\n\u001b[1;32m   1524\u001b[0m \u001b[38;5;28;01mif\u001b[39;00m \u001b[38;5;129;01mnot\u001b[39;00m (\u001b[38;5;28mself\u001b[39m\u001b[38;5;241m.\u001b[39m_backward_hooks \u001b[38;5;129;01mor\u001b[39;00m \u001b[38;5;28mself\u001b[39m\u001b[38;5;241m.\u001b[39m_backward_pre_hooks \u001b[38;5;129;01mor\u001b[39;00m \u001b[38;5;28mself\u001b[39m\u001b[38;5;241m.\u001b[39m_forward_hooks \u001b[38;5;129;01mor\u001b[39;00m \u001b[38;5;28mself\u001b[39m\u001b[38;5;241m.\u001b[39m_forward_pre_hooks\n\u001b[1;32m   1525\u001b[0m         \u001b[38;5;129;01mor\u001b[39;00m _global_backward_pre_hooks \u001b[38;5;129;01mor\u001b[39;00m _global_backward_hooks\n\u001b[1;32m   1526\u001b[0m         \u001b[38;5;129;01mor\u001b[39;00m _global_forward_hooks \u001b[38;5;129;01mor\u001b[39;00m _global_forward_pre_hooks):\n\u001b[0;32m-> 1527\u001b[0m     \u001b[38;5;28;01mreturn\u001b[39;00m \u001b[43mforward_call\u001b[49m\u001b[43m(\u001b[49m\u001b[38;5;241;43m*\u001b[39;49m\u001b[43margs\u001b[49m\u001b[43m,\u001b[49m\u001b[43m \u001b[49m\u001b[38;5;241;43m*\u001b[39;49m\u001b[38;5;241;43m*\u001b[39;49m\u001b[43mkwargs\u001b[49m\u001b[43m)\u001b[49m\n\u001b[1;32m   1529\u001b[0m \u001b[38;5;28;01mtry\u001b[39;00m:\n\u001b[1;32m   1530\u001b[0m     result \u001b[38;5;241m=\u001b[39m \u001b[38;5;28;01mNone\u001b[39;00m\n",
      "File \u001b[0;32m/gpfsdswork/projects/rech/mlr/udy16au/ipsl_dcpp/pangu.py:32\u001b[0m, in \u001b[0;36mPatchRecovery2D.forward\u001b[0;34m(self, x)\u001b[0m\n\u001b[1;32m     31\u001b[0m \u001b[38;5;28;01mdef\u001b[39;00m \u001b[38;5;21mforward\u001b[39m(\u001b[38;5;28mself\u001b[39m, x):\n\u001b[0;32m---> 32\u001b[0m     output \u001b[38;5;241m=\u001b[39m \u001b[38;5;28;43mself\u001b[39;49m\u001b[38;5;241;43m.\u001b[39;49m\u001b[43mconv\u001b[49m\u001b[43m(\u001b[49m\u001b[43mx\u001b[49m\u001b[43m)\u001b[49m\n\u001b[1;32m     33\u001b[0m     _, _, H, W \u001b[38;5;241m=\u001b[39m output\u001b[38;5;241m.\u001b[39mshape\n\u001b[1;32m     34\u001b[0m     h_pad \u001b[38;5;241m=\u001b[39m H \u001b[38;5;241m-\u001b[39m \u001b[38;5;28mself\u001b[39m\u001b[38;5;241m.\u001b[39mimg_size[\u001b[38;5;241m0\u001b[39m]\n",
      "File \u001b[0;32m/gpfsdswork/projects/rech/mlr/udy16au/miniconda3/envs/env_gpu4/lib/python3.11/site-packages/torch/nn/modules/module.py:1518\u001b[0m, in \u001b[0;36mModule._wrapped_call_impl\u001b[0;34m(self, *args, **kwargs)\u001b[0m\n\u001b[1;32m   1516\u001b[0m     \u001b[38;5;28;01mreturn\u001b[39;00m \u001b[38;5;28mself\u001b[39m\u001b[38;5;241m.\u001b[39m_compiled_call_impl(\u001b[38;5;241m*\u001b[39margs, \u001b[38;5;241m*\u001b[39m\u001b[38;5;241m*\u001b[39mkwargs)  \u001b[38;5;66;03m# type: ignore[misc]\u001b[39;00m\n\u001b[1;32m   1517\u001b[0m \u001b[38;5;28;01melse\u001b[39;00m:\n\u001b[0;32m-> 1518\u001b[0m     \u001b[38;5;28;01mreturn\u001b[39;00m \u001b[38;5;28;43mself\u001b[39;49m\u001b[38;5;241;43m.\u001b[39;49m\u001b[43m_call_impl\u001b[49m\u001b[43m(\u001b[49m\u001b[38;5;241;43m*\u001b[39;49m\u001b[43margs\u001b[49m\u001b[43m,\u001b[49m\u001b[43m \u001b[49m\u001b[38;5;241;43m*\u001b[39;49m\u001b[38;5;241;43m*\u001b[39;49m\u001b[43mkwargs\u001b[49m\u001b[43m)\u001b[49m\n",
      "File \u001b[0;32m/gpfsdswork/projects/rech/mlr/udy16au/miniconda3/envs/env_gpu4/lib/python3.11/site-packages/torch/nn/modules/module.py:1527\u001b[0m, in \u001b[0;36mModule._call_impl\u001b[0;34m(self, *args, **kwargs)\u001b[0m\n\u001b[1;32m   1522\u001b[0m \u001b[38;5;66;03m# If we don't have any hooks, we want to skip the rest of the logic in\u001b[39;00m\n\u001b[1;32m   1523\u001b[0m \u001b[38;5;66;03m# this function, and just call forward.\u001b[39;00m\n\u001b[1;32m   1524\u001b[0m \u001b[38;5;28;01mif\u001b[39;00m \u001b[38;5;129;01mnot\u001b[39;00m (\u001b[38;5;28mself\u001b[39m\u001b[38;5;241m.\u001b[39m_backward_hooks \u001b[38;5;129;01mor\u001b[39;00m \u001b[38;5;28mself\u001b[39m\u001b[38;5;241m.\u001b[39m_backward_pre_hooks \u001b[38;5;129;01mor\u001b[39;00m \u001b[38;5;28mself\u001b[39m\u001b[38;5;241m.\u001b[39m_forward_hooks \u001b[38;5;129;01mor\u001b[39;00m \u001b[38;5;28mself\u001b[39m\u001b[38;5;241m.\u001b[39m_forward_pre_hooks\n\u001b[1;32m   1525\u001b[0m         \u001b[38;5;129;01mor\u001b[39;00m _global_backward_pre_hooks \u001b[38;5;129;01mor\u001b[39;00m _global_backward_hooks\n\u001b[1;32m   1526\u001b[0m         \u001b[38;5;129;01mor\u001b[39;00m _global_forward_hooks \u001b[38;5;129;01mor\u001b[39;00m _global_forward_pre_hooks):\n\u001b[0;32m-> 1527\u001b[0m     \u001b[38;5;28;01mreturn\u001b[39;00m \u001b[43mforward_call\u001b[49m\u001b[43m(\u001b[49m\u001b[38;5;241;43m*\u001b[39;49m\u001b[43margs\u001b[49m\u001b[43m,\u001b[49m\u001b[43m \u001b[49m\u001b[38;5;241;43m*\u001b[39;49m\u001b[38;5;241;43m*\u001b[39;49m\u001b[43mkwargs\u001b[49m\u001b[43m)\u001b[49m\n\u001b[1;32m   1529\u001b[0m \u001b[38;5;28;01mtry\u001b[39;00m:\n\u001b[1;32m   1530\u001b[0m     result \u001b[38;5;241m=\u001b[39m \u001b[38;5;28;01mNone\u001b[39;00m\n",
      "File \u001b[0;32m/gpfsdswork/projects/rech/mlr/udy16au/miniconda3/envs/env_gpu4/lib/python3.11/site-packages/torch/nn/modules/conv.py:952\u001b[0m, in \u001b[0;36mConvTranspose2d.forward\u001b[0;34m(self, input, output_size)\u001b[0m\n\u001b[1;32m    947\u001b[0m num_spatial_dims \u001b[38;5;241m=\u001b[39m \u001b[38;5;241m2\u001b[39m\n\u001b[1;32m    948\u001b[0m output_padding \u001b[38;5;241m=\u001b[39m \u001b[38;5;28mself\u001b[39m\u001b[38;5;241m.\u001b[39m_output_padding(\n\u001b[1;32m    949\u001b[0m     \u001b[38;5;28minput\u001b[39m, output_size, \u001b[38;5;28mself\u001b[39m\u001b[38;5;241m.\u001b[39mstride, \u001b[38;5;28mself\u001b[39m\u001b[38;5;241m.\u001b[39mpadding, \u001b[38;5;28mself\u001b[39m\u001b[38;5;241m.\u001b[39mkernel_size,  \u001b[38;5;66;03m# type: ignore[arg-type]\u001b[39;00m\n\u001b[1;32m    950\u001b[0m     num_spatial_dims, \u001b[38;5;28mself\u001b[39m\u001b[38;5;241m.\u001b[39mdilation)  \u001b[38;5;66;03m# type: ignore[arg-type]\u001b[39;00m\n\u001b[0;32m--> 952\u001b[0m \u001b[38;5;28;01mreturn\u001b[39;00m \u001b[43mF\u001b[49m\u001b[38;5;241;43m.\u001b[39;49m\u001b[43mconv_transpose2d\u001b[49m\u001b[43m(\u001b[49m\n\u001b[1;32m    953\u001b[0m \u001b[43m    \u001b[49m\u001b[38;5;28;43minput\u001b[39;49m\u001b[43m,\u001b[49m\u001b[43m \u001b[49m\u001b[38;5;28;43mself\u001b[39;49m\u001b[38;5;241;43m.\u001b[39;49m\u001b[43mweight\u001b[49m\u001b[43m,\u001b[49m\u001b[43m \u001b[49m\u001b[38;5;28;43mself\u001b[39;49m\u001b[38;5;241;43m.\u001b[39;49m\u001b[43mbias\u001b[49m\u001b[43m,\u001b[49m\u001b[43m \u001b[49m\u001b[38;5;28;43mself\u001b[39;49m\u001b[38;5;241;43m.\u001b[39;49m\u001b[43mstride\u001b[49m\u001b[43m,\u001b[49m\u001b[43m \u001b[49m\u001b[38;5;28;43mself\u001b[39;49m\u001b[38;5;241;43m.\u001b[39;49m\u001b[43mpadding\u001b[49m\u001b[43m,\u001b[49m\n\u001b[1;32m    954\u001b[0m \u001b[43m    \u001b[49m\u001b[43moutput_padding\u001b[49m\u001b[43m,\u001b[49m\u001b[43m \u001b[49m\u001b[38;5;28;43mself\u001b[39;49m\u001b[38;5;241;43m.\u001b[39;49m\u001b[43mgroups\u001b[49m\u001b[43m,\u001b[49m\u001b[43m \u001b[49m\u001b[38;5;28;43mself\u001b[39;49m\u001b[38;5;241;43m.\u001b[39;49m\u001b[43mdilation\u001b[49m\u001b[43m)\u001b[49m\n",
      "\u001b[0;31mRuntimeError\u001b[0m: Given transposed=1, weight of size [192, 4, 4, 4], expected input[1, 264, 36, 36] to have 192 channels, but got 264 channels instead"
     ]
    }
   ],
   "source": [
    "model.forward(batch)"
   ]
  }
 ],
 "metadata": {
  "kernelspec": {
   "display_name": "My Custom Kernel",
   "language": "python",
   "name": "mycustomkernel"
  },
  "language_info": {
   "codemirror_mode": {
    "name": "ipython",
    "version": 3
   },
   "file_extension": ".py",
   "mimetype": "text/x-python",
   "name": "python",
   "nbconvert_exporter": "python",
   "pygments_lexer": "ipython3",
   "version": "3.11.7"
  }
 },
 "nbformat": 4,
 "nbformat_minor": 5
}
